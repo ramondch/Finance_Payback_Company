{
 "cells": [
  {
   "cell_type": "markdown",
   "metadata": {},
   "source": [
    "# Ramón Denia Test - Modelling\n",
    "\n",
    "With given dataset, predict the probability of the payment within 90 days!\n",
    "\n",
    "Data is stored as a small SQLite database stored in attached `dataset.db` file. There are two tables - `dataset` and `metadata`. The data sample spans 1 year and 30k observations."
   ]
  },
  {
   "cell_type": "code",
   "execution_count": 2,
   "metadata": {},
   "outputs": [],
   "source": [
    "import sqlite3\n",
    "import pandas as pd\n",
    "import numpy as np\n",
    "import matplotlib.pylab as pl\n",
    "import matplotlib.pyplot as plt\n",
    "import statsmodels.api as sm\n",
    "import seaborn as sns\n",
    "from scipy import stats\n",
    "from matplotlib import pyplot\n",
    "\n",
    "import warnings\n",
    "warnings.filterwarnings(\"ignore\")"
   ]
  },
  {
   "cell_type": "code",
   "execution_count": 3,
   "metadata": {},
   "outputs": [
    {
     "data": {
      "text/html": [
       "<div>\n",
       "<style scoped>\n",
       "    .dataframe tbody tr th:only-of-type {\n",
       "        vertical-align: middle;\n",
       "    }\n",
       "\n",
       "    .dataframe tbody tr th {\n",
       "        vertical-align: top;\n",
       "    }\n",
       "\n",
       "    .dataframe thead th {\n",
       "        text-align: right;\n",
       "    }\n",
       "</style>\n",
       "<table border=\"1\" class=\"dataframe\">\n",
       "  <thead>\n",
       "    <tr style=\"text-align: right;\">\n",
       "      <th></th>\n",
       "      <th>varcode</th>\n",
       "      <th>name</th>\n",
       "      <th>var_class</th>\n",
       "      <th>entity_table</th>\n",
       "    </tr>\n",
       "  </thead>\n",
       "  <tbody>\n",
       "    <tr>\n",
       "      <th>0</th>\n",
       "      <td>a8404</td>\n",
       "      <td>RatioOfCustomersAtAddressWithSuccessfullyClose...</td>\n",
       "      <td>variable</td>\n",
       "      <td>address</td>\n",
       "    </tr>\n",
       "    <tr>\n",
       "      <th>1</th>\n",
       "      <td>ap090</td>\n",
       "      <td>TargetAmount90Days</td>\n",
       "      <td>target</td>\n",
       "      <td>case</td>\n",
       "    </tr>\n",
       "    <tr>\n",
       "      <th>2</th>\n",
       "      <td>c0001</td>\n",
       "      <td>OriginalCapitalOfCaseInvoices</td>\n",
       "      <td>variable</td>\n",
       "      <td>case</td>\n",
       "    </tr>\n",
       "    <tr>\n",
       "      <th>3</th>\n",
       "      <td>c0015</td>\n",
       "      <td>AmountOfCase</td>\n",
       "      <td>variable</td>\n",
       "      <td>case</td>\n",
       "    </tr>\n",
       "    <tr>\n",
       "      <th>4</th>\n",
       "      <td>c0019</td>\n",
       "      <td>AgeOfDebt</td>\n",
       "      <td>variable</td>\n",
       "      <td>case</td>\n",
       "    </tr>\n",
       "    <tr>\n",
       "      <th>5</th>\n",
       "      <td>c0031</td>\n",
       "      <td>NumberOfTelephonesCI</td>\n",
       "      <td>variable</td>\n",
       "      <td>case</td>\n",
       "    </tr>\n",
       "    <tr>\n",
       "      <th>6</th>\n",
       "      <td>c0039</td>\n",
       "      <td>IndustryCode</td>\n",
       "      <td>variable</td>\n",
       "      <td>case</td>\n",
       "    </tr>\n",
       "    <tr>\n",
       "      <th>7</th>\n",
       "      <td>c0044</td>\n",
       "      <td>ClientName</td>\n",
       "      <td>variable</td>\n",
       "      <td>case</td>\n",
       "    </tr>\n",
       "    <tr>\n",
       "      <th>8</th>\n",
       "      <td>c9008</td>\n",
       "      <td>CustomerAge</td>\n",
       "      <td>variable</td>\n",
       "      <td>case</td>\n",
       "    </tr>\n",
       "    <tr>\n",
       "      <th>9</th>\n",
       "      <td>ct090</td>\n",
       "      <td>Target90Days</td>\n",
       "      <td>target</td>\n",
       "      <td>case</td>\n",
       "    </tr>\n",
       "    <tr>\n",
       "      <th>10</th>\n",
       "      <td>b0007</td>\n",
       "      <td>AmountOfCustomerPaymentsOnAllCasesBlevel</td>\n",
       "      <td>variable</td>\n",
       "      <td>debtor</td>\n",
       "    </tr>\n",
       "    <tr>\n",
       "      <th>11</th>\n",
       "      <td>d0009</td>\n",
       "      <td>AmountOfCustomerOpenCases</td>\n",
       "      <td>variable</td>\n",
       "      <td>debtor_oc</td>\n",
       "    </tr>\n",
       "    <tr>\n",
       "      <th>12</th>\n",
       "      <td>d0012</td>\n",
       "      <td>LastOriginalClosingCodeOfCustomer</td>\n",
       "      <td>variable</td>\n",
       "      <td>debtor_oc</td>\n",
       "    </tr>\n",
       "    <tr>\n",
       "      <th>13</th>\n",
       "      <td>d0027</td>\n",
       "      <td>NumberOfCustomerIncomingCallDatesTee</td>\n",
       "      <td>variable</td>\n",
       "      <td>debtor_oc</td>\n",
       "    </tr>\n",
       "    <tr>\n",
       "      <th>14</th>\n",
       "      <td>d1205</td>\n",
       "      <td>NumberOfSuccessfullyClosedCasesInLast24Months</td>\n",
       "      <td>variable</td>\n",
       "      <td>debtor_oc</td>\n",
       "    </tr>\n",
       "    <tr>\n",
       "      <th>15</th>\n",
       "      <td>d2112</td>\n",
       "      <td>NumberOfCustomerPaymentsInLast12Months</td>\n",
       "      <td>variable</td>\n",
       "      <td>debtor_oc</td>\n",
       "    </tr>\n",
       "    <tr>\n",
       "      <th>16</th>\n",
       "      <td>d0031</td>\n",
       "      <td>NumberOfUnsuccessfullyClosedCustomerCasesLast3...</td>\n",
       "      <td>variable</td>\n",
       "      <td>debtor_oc</td>\n",
       "    </tr>\n",
       "  </tbody>\n",
       "</table>\n",
       "</div>"
      ],
      "text/plain": [
       "   varcode                                               name var_class  \\\n",
       "0    a8404  RatioOfCustomersAtAddressWithSuccessfullyClose...  variable   \n",
       "1    ap090                                 TargetAmount90Days    target   \n",
       "2    c0001                      OriginalCapitalOfCaseInvoices  variable   \n",
       "3    c0015                                       AmountOfCase  variable   \n",
       "4    c0019                                          AgeOfDebt  variable   \n",
       "5    c0031                               NumberOfTelephonesCI  variable   \n",
       "6    c0039                                       IndustryCode  variable   \n",
       "7    c0044                                         ClientName  variable   \n",
       "8    c9008                                        CustomerAge  variable   \n",
       "9    ct090                                       Target90Days    target   \n",
       "10   b0007           AmountOfCustomerPaymentsOnAllCasesBlevel  variable   \n",
       "11   d0009                          AmountOfCustomerOpenCases  variable   \n",
       "12   d0012                  LastOriginalClosingCodeOfCustomer  variable   \n",
       "13   d0027               NumberOfCustomerIncomingCallDatesTee  variable   \n",
       "14   d1205      NumberOfSuccessfullyClosedCasesInLast24Months  variable   \n",
       "15   d2112             NumberOfCustomerPaymentsInLast12Months  variable   \n",
       "16   d0031  NumberOfUnsuccessfullyClosedCustomerCasesLast3...  variable   \n",
       "\n",
       "   entity_table  \n",
       "0       address  \n",
       "1          case  \n",
       "2          case  \n",
       "3          case  \n",
       "4          case  \n",
       "5          case  \n",
       "6          case  \n",
       "7          case  \n",
       "8          case  \n",
       "9          case  \n",
       "10       debtor  \n",
       "11    debtor_oc  \n",
       "12    debtor_oc  \n",
       "13    debtor_oc  \n",
       "14    debtor_oc  \n",
       "15    debtor_oc  \n",
       "16    debtor_oc  "
      ]
     },
     "execution_count": 3,
     "metadata": {},
     "output_type": "execute_result"
    }
   ],
   "source": [
    "con = sqlite3.connect('dataset.db')\n",
    "\n",
    "df_meta = pd.read_sql_query('SELECT * FROM metadata;', con)\n",
    "df_meta"
   ]
  },
  {
   "cell_type": "code",
   "execution_count": 4,
   "metadata": {},
   "outputs": [
    {
     "data": {
      "text/plain": [
       "array(['RatioOfCustomersAtAddressWithSuccessfullyClosedCasesLast36Months',\n",
       "       'TargetAmount90Days', 'OriginalCapitalOfCaseInvoices',\n",
       "       'AmountOfCase', 'AgeOfDebt', 'NumberOfTelephonesCI',\n",
       "       'IndustryCode', 'ClientName', 'CustomerAge', 'Target90Days',\n",
       "       'AmountOfCustomerPaymentsOnAllCasesBlevel',\n",
       "       'AmountOfCustomerOpenCases', 'LastOriginalClosingCodeOfCustomer',\n",
       "       'NumberOfCustomerIncomingCallDatesTee',\n",
       "       'NumberOfSuccessfullyClosedCasesInLast24Months',\n",
       "       'NumberOfCustomerPaymentsInLast12Months',\n",
       "       'NumberOfUnsuccessfullyClosedCustomerCasesLast36Months'],\n",
       "      dtype=object)"
      ]
     },
     "execution_count": 4,
     "metadata": {},
     "output_type": "execute_result"
    }
   ],
   "source": [
    "df_meta[\"name\"].values"
   ]
  },
  {
   "cell_type": "code",
   "execution_count": 5,
   "metadata": {},
   "outputs": [
    {
     "data": {
      "text/html": [
       "<div>\n",
       "<style scoped>\n",
       "    .dataframe tbody tr th:only-of-type {\n",
       "        vertical-align: middle;\n",
       "    }\n",
       "\n",
       "    .dataframe tbody tr th {\n",
       "        vertical-align: top;\n",
       "    }\n",
       "\n",
       "    .dataframe thead th {\n",
       "        text-align: right;\n",
       "    }\n",
       "</style>\n",
       "<table border=\"1\" class=\"dataframe\">\n",
       "  <thead>\n",
       "    <tr style=\"text-align: right;\">\n",
       "      <th></th>\n",
       "      <th>case_id</th>\n",
       "      <th>keydate</th>\n",
       "      <th>ct090</th>\n",
       "      <th>ap090</th>\n",
       "      <th>c0001</th>\n",
       "      <th>c0039</th>\n",
       "      <th>c0044</th>\n",
       "      <th>d0031</th>\n",
       "      <th>b0007</th>\n",
       "      <th>d0009</th>\n",
       "      <th>c0031</th>\n",
       "      <th>a8404</th>\n",
       "      <th>c0019</th>\n",
       "      <th>d0027</th>\n",
       "      <th>c9008</th>\n",
       "      <th>d2112</th>\n",
       "      <th>d0012</th>\n",
       "      <th>d1205</th>\n",
       "      <th>c0015</th>\n",
       "    </tr>\n",
       "  </thead>\n",
       "  <tbody>\n",
       "    <tr>\n",
       "      <th>0</th>\n",
       "      <td>1</td>\n",
       "      <td>2017-08-12 00:00:00.0</td>\n",
       "      <td>0.0</td>\n",
       "      <td>0.0</td>\n",
       "      <td>221.68</td>\n",
       "      <td>K6622</td>\n",
       "      <td>1</td>\n",
       "      <td>2.0</td>\n",
       "      <td>0.00</td>\n",
       "      <td>238.38</td>\n",
       "      <td>2.0</td>\n",
       "      <td>NaN</td>\n",
       "      <td>98.0</td>\n",
       "      <td>0.0</td>\n",
       "      <td>49.0</td>\n",
       "      <td>0.0</td>\n",
       "      <td>1</td>\n",
       "      <td>NaN</td>\n",
       "      <td>222.69</td>\n",
       "    </tr>\n",
       "    <tr>\n",
       "      <th>1</th>\n",
       "      <td>2</td>\n",
       "      <td>2017-02-03 00:00:00.0</td>\n",
       "      <td>0.0</td>\n",
       "      <td>0.0</td>\n",
       "      <td>151.36</td>\n",
       "      <td>K6512</td>\n",
       "      <td>2</td>\n",
       "      <td>NaN</td>\n",
       "      <td>210.53</td>\n",
       "      <td>0.00</td>\n",
       "      <td>5.0</td>\n",
       "      <td>NaN</td>\n",
       "      <td>109.0</td>\n",
       "      <td>2.0</td>\n",
       "      <td>51.0</td>\n",
       "      <td>0.0</td>\n",
       "      <td>2</td>\n",
       "      <td>1.0</td>\n",
       "      <td>212.72</td>\n",
       "    </tr>\n",
       "    <tr>\n",
       "      <th>2</th>\n",
       "      <td>3</td>\n",
       "      <td>2017-02-17 00:00:00.0</td>\n",
       "      <td>0.0</td>\n",
       "      <td>0.0</td>\n",
       "      <td>48.84</td>\n",
       "      <td>K6512</td>\n",
       "      <td>3</td>\n",
       "      <td>1.0</td>\n",
       "      <td>NaN</td>\n",
       "      <td>0.00</td>\n",
       "      <td>2.0</td>\n",
       "      <td>0.0</td>\n",
       "      <td>748.0</td>\n",
       "      <td>0.0</td>\n",
       "      <td>48.0</td>\n",
       "      <td>NaN</td>\n",
       "      <td>3</td>\n",
       "      <td>NaN</td>\n",
       "      <td>56.84</td>\n",
       "    </tr>\n",
       "    <tr>\n",
       "      <th>3</th>\n",
       "      <td>4</td>\n",
       "      <td>2017-09-18 00:00:00.0</td>\n",
       "      <td>0.0</td>\n",
       "      <td>0.0</td>\n",
       "      <td>413.15</td>\n",
       "      <td>K6622</td>\n",
       "      <td>4</td>\n",
       "      <td>NaN</td>\n",
       "      <td>NaN</td>\n",
       "      <td>54.14</td>\n",
       "      <td>3.0</td>\n",
       "      <td>1.0</td>\n",
       "      <td>8.0</td>\n",
       "      <td>0.0</td>\n",
       "      <td>27.0</td>\n",
       "      <td>NaN</td>\n",
       "      <td>4</td>\n",
       "      <td>NaN</td>\n",
       "      <td>463.15</td>\n",
       "    </tr>\n",
       "    <tr>\n",
       "      <th>4</th>\n",
       "      <td>5</td>\n",
       "      <td>2017-07-22 00:00:00.0</td>\n",
       "      <td>0.0</td>\n",
       "      <td>0.0</td>\n",
       "      <td>125.83</td>\n",
       "      <td>K6512</td>\n",
       "      <td>5</td>\n",
       "      <td>2.0</td>\n",
       "      <td>20.00</td>\n",
       "      <td>83.00</td>\n",
       "      <td>6.0</td>\n",
       "      <td>NaN</td>\n",
       "      <td>324.0</td>\n",
       "      <td>0.0</td>\n",
       "      <td>40.0</td>\n",
       "      <td>0.0</td>\n",
       "      <td>1</td>\n",
       "      <td>NaN</td>\n",
       "      <td>146.09</td>\n",
       "    </tr>\n",
       "  </tbody>\n",
       "</table>\n",
       "</div>"
      ],
      "text/plain": [
       "   case_id                keydate  ct090  ap090   c0001  c0039 c0044  d0031  \\\n",
       "0        1  2017-08-12 00:00:00.0    0.0    0.0  221.68  K6622     1    2.0   \n",
       "1        2  2017-02-03 00:00:00.0    0.0    0.0  151.36  K6512     2    NaN   \n",
       "2        3  2017-02-17 00:00:00.0    0.0    0.0   48.84  K6512     3    1.0   \n",
       "3        4  2017-09-18 00:00:00.0    0.0    0.0  413.15  K6622     4    NaN   \n",
       "4        5  2017-07-22 00:00:00.0    0.0    0.0  125.83  K6512     5    2.0   \n",
       "\n",
       "    b0007   d0009  c0031  a8404  c0019  d0027  c9008  d2112 d0012  d1205  \\\n",
       "0    0.00  238.38    2.0    NaN   98.0    0.0   49.0    0.0     1    NaN   \n",
       "1  210.53    0.00    5.0    NaN  109.0    2.0   51.0    0.0     2    1.0   \n",
       "2     NaN    0.00    2.0    0.0  748.0    0.0   48.0    NaN     3    NaN   \n",
       "3     NaN   54.14    3.0    1.0    8.0    0.0   27.0    NaN     4    NaN   \n",
       "4   20.00   83.00    6.0    NaN  324.0    0.0   40.0    0.0     1    NaN   \n",
       "\n",
       "    c0015  \n",
       "0  222.69  \n",
       "1  212.72  \n",
       "2   56.84  \n",
       "3  463.15  \n",
       "4  146.09  "
      ]
     },
     "execution_count": 5,
     "metadata": {},
     "output_type": "execute_result"
    }
   ],
   "source": [
    "df_data = pd.read_sql_query('SELECT * FROM dataset;', con)\n",
    "df_data.head()"
   ]
  },
  {
   "cell_type": "markdown",
   "metadata": {},
   "source": [
    "### Some background information on the data\n",
    "\n",
    "The intended target for prediction is `ct090`, `case_id` is the unique identifier, `keydate` is the point in time when some event has happened in the lifecycle of a case, and also a date relative to which all of the backward looking variables and forward looking targets are calculated. In this case, it's a general purpose propensity to pay model, which means that it is a freshly registered case, where all the relevant data has been gathered and verified. In other words, `keydate` is set a few days after registration, and target `ct090` is checking for outcome in 90 days (`ap090` is a similar regression target), while all the rest of the data is only looking backwards!\n",
    "\n",
    "Metadata gives some basic description of variables. The general naming convention is based on prefixes that define aggregation levels - `cXXXX` looking at the data of this case only, `dXXXX` looking at other cases of same debtor, `bXXXX` looking at all cases of the debtor, `aXXXX` looking at all the cases on the same address. Note that this data selection has quite a few variables with the `dXXXX` prefix, which means that this selection is specifically looking at debtors that we already had worked with before, therefore, variable selection is much broader and models are generally better. \n",
    "\n",
    "One more tip on interpretation of missing values: if variable is bound by time window, e.g. `d2112 NumberOfCustomerPaymentsInLast12Months`, the `NA` value implies that there never have been any values, while `0` would mean that have been no values within bounding period (in this case 12 months). In other words, `0` and `NA` have different interpretation. It may or may not be relevant, depending on the choice of the modelling approach. "
   ]
  },
  {
   "cell_type": "markdown",
   "metadata": {},
   "source": [
    "# DATA ANALYSIS"
   ]
  },
  {
   "cell_type": "code",
   "execution_count": 6,
   "metadata": {},
   "outputs": [
    {
     "data": {
      "text/plain": [
       "(30000, 19)"
      ]
     },
     "execution_count": 6,
     "metadata": {},
     "output_type": "execute_result"
    }
   ],
   "source": [
    "df_data.shape"
   ]
  },
  {
   "cell_type": "code",
   "execution_count": 7,
   "metadata": {},
   "outputs": [
    {
     "data": {
      "text/html": [
       "<div>\n",
       "<style scoped>\n",
       "    .dataframe tbody tr th:only-of-type {\n",
       "        vertical-align: middle;\n",
       "    }\n",
       "\n",
       "    .dataframe tbody tr th {\n",
       "        vertical-align: top;\n",
       "    }\n",
       "\n",
       "    .dataframe thead th {\n",
       "        text-align: right;\n",
       "    }\n",
       "</style>\n",
       "<table border=\"1\" class=\"dataframe\">\n",
       "  <thead>\n",
       "    <tr style=\"text-align: right;\">\n",
       "      <th></th>\n",
       "      <th>case_id</th>\n",
       "      <th>ct090</th>\n",
       "      <th>ap090</th>\n",
       "      <th>c0001</th>\n",
       "      <th>d0031</th>\n",
       "      <th>b0007</th>\n",
       "      <th>d0009</th>\n",
       "      <th>c0031</th>\n",
       "      <th>a8404</th>\n",
       "      <th>c0019</th>\n",
       "      <th>d0027</th>\n",
       "      <th>c9008</th>\n",
       "      <th>d2112</th>\n",
       "      <th>d1205</th>\n",
       "      <th>c0015</th>\n",
       "    </tr>\n",
       "  </thead>\n",
       "  <tbody>\n",
       "    <tr>\n",
       "      <th>count</th>\n",
       "      <td>30000.000000</td>\n",
       "      <td>30000.000000</td>\n",
       "      <td>30000.000000</td>\n",
       "      <td>29975.000000</td>\n",
       "      <td>17371.000000</td>\n",
       "      <td>13074.000000</td>\n",
       "      <td>30000.000000</td>\n",
       "      <td>30000.000000</td>\n",
       "      <td>19599.000000</td>\n",
       "      <td>30000.000000</td>\n",
       "      <td>30000.000000</td>\n",
       "      <td>27016.000000</td>\n",
       "      <td>13048.000000</td>\n",
       "      <td>8762.000000</td>\n",
       "      <td>30000.000000</td>\n",
       "    </tr>\n",
       "    <tr>\n",
       "      <th>mean</th>\n",
       "      <td>15000.500000</td>\n",
       "      <td>0.168733</td>\n",
       "      <td>49.215836</td>\n",
       "      <td>538.590694</td>\n",
       "      <td>1.634391</td>\n",
       "      <td>423.156043</td>\n",
       "      <td>555.063823</td>\n",
       "      <td>3.092900</td>\n",
       "      <td>0.283395</td>\n",
       "      <td>104.948833</td>\n",
       "      <td>0.473067</td>\n",
       "      <td>42.339466</td>\n",
       "      <td>0.935622</td>\n",
       "      <td>0.897170</td>\n",
       "      <td>605.535361</td>\n",
       "    </tr>\n",
       "    <tr>\n",
       "      <th>std</th>\n",
       "      <td>8660.398374</td>\n",
       "      <td>0.374522</td>\n",
       "      <td>240.063401</td>\n",
       "      <td>1248.533877</td>\n",
       "      <td>1.318419</td>\n",
       "      <td>902.166491</td>\n",
       "      <td>1939.588574</td>\n",
       "      <td>2.151021</td>\n",
       "      <td>0.312366</td>\n",
       "      <td>196.864753</td>\n",
       "      <td>1.397094</td>\n",
       "      <td>13.215883</td>\n",
       "      <td>1.755761</td>\n",
       "      <td>0.814515</td>\n",
       "      <td>1223.783876</td>\n",
       "    </tr>\n",
       "    <tr>\n",
       "      <th>min</th>\n",
       "      <td>1.000000</td>\n",
       "      <td>0.000000</td>\n",
       "      <td>0.000000</td>\n",
       "      <td>0.000000</td>\n",
       "      <td>0.000000</td>\n",
       "      <td>0.000000</td>\n",
       "      <td>-319.010000</td>\n",
       "      <td>0.000000</td>\n",
       "      <td>0.000000</td>\n",
       "      <td>3.000000</td>\n",
       "      <td>0.000000</td>\n",
       "      <td>6.000000</td>\n",
       "      <td>0.000000</td>\n",
       "      <td>0.000000</td>\n",
       "      <td>9.750000</td>\n",
       "    </tr>\n",
       "    <tr>\n",
       "      <th>25%</th>\n",
       "      <td>7500.750000</td>\n",
       "      <td>0.000000</td>\n",
       "      <td>0.000000</td>\n",
       "      <td>145.100000</td>\n",
       "      <td>1.000000</td>\n",
       "      <td>76.000000</td>\n",
       "      <td>0.000000</td>\n",
       "      <td>2.000000</td>\n",
       "      <td>0.000000</td>\n",
       "      <td>10.000000</td>\n",
       "      <td>0.000000</td>\n",
       "      <td>32.000000</td>\n",
       "      <td>0.000000</td>\n",
       "      <td>0.000000</td>\n",
       "      <td>185.410000</td>\n",
       "    </tr>\n",
       "    <tr>\n",
       "      <th>50%</th>\n",
       "      <td>15000.500000</td>\n",
       "      <td>0.000000</td>\n",
       "      <td>0.000000</td>\n",
       "      <td>298.720000</td>\n",
       "      <td>1.000000</td>\n",
       "      <td>202.715000</td>\n",
       "      <td>0.000000</td>\n",
       "      <td>3.000000</td>\n",
       "      <td>0.210000</td>\n",
       "      <td>77.000000</td>\n",
       "      <td>0.000000</td>\n",
       "      <td>41.000000</td>\n",
       "      <td>0.000000</td>\n",
       "      <td>1.000000</td>\n",
       "      <td>355.650000</td>\n",
       "    </tr>\n",
       "    <tr>\n",
       "      <th>75%</th>\n",
       "      <td>22500.250000</td>\n",
       "      <td>0.000000</td>\n",
       "      <td>0.000000</td>\n",
       "      <td>638.645000</td>\n",
       "      <td>2.000000</td>\n",
       "      <td>500.677500</td>\n",
       "      <td>481.322500</td>\n",
       "      <td>4.000000</td>\n",
       "      <td>0.450000</td>\n",
       "      <td>126.000000</td>\n",
       "      <td>0.000000</td>\n",
       "      <td>51.000000</td>\n",
       "      <td>1.000000</td>\n",
       "      <td>1.000000</td>\n",
       "      <td>725.480000</td>\n",
       "    </tr>\n",
       "    <tr>\n",
       "      <th>max</th>\n",
       "      <td>30000.000000</td>\n",
       "      <td>1.000000</td>\n",
       "      <td>25000.000000</td>\n",
       "      <td>84561.840000</td>\n",
       "      <td>15.000000</td>\n",
       "      <td>53982.610000</td>\n",
       "      <td>110158.640000</td>\n",
       "      <td>35.000000</td>\n",
       "      <td>1.000000</td>\n",
       "      <td>6193.000000</td>\n",
       "      <td>40.000000</td>\n",
       "      <td>117.000000</td>\n",
       "      <td>24.000000</td>\n",
       "      <td>15.000000</td>\n",
       "      <td>84561.840000</td>\n",
       "    </tr>\n",
       "  </tbody>\n",
       "</table>\n",
       "</div>"
      ],
      "text/plain": [
       "            case_id         ct090         ap090         c0001         d0031  \\\n",
       "count  30000.000000  30000.000000  30000.000000  29975.000000  17371.000000   \n",
       "mean   15000.500000      0.168733     49.215836    538.590694      1.634391   \n",
       "std     8660.398374      0.374522    240.063401   1248.533877      1.318419   \n",
       "min        1.000000      0.000000      0.000000      0.000000      0.000000   \n",
       "25%     7500.750000      0.000000      0.000000    145.100000      1.000000   \n",
       "50%    15000.500000      0.000000      0.000000    298.720000      1.000000   \n",
       "75%    22500.250000      0.000000      0.000000    638.645000      2.000000   \n",
       "max    30000.000000      1.000000  25000.000000  84561.840000     15.000000   \n",
       "\n",
       "              b0007          d0009         c0031         a8404         c0019  \\\n",
       "count  13074.000000   30000.000000  30000.000000  19599.000000  30000.000000   \n",
       "mean     423.156043     555.063823      3.092900      0.283395    104.948833   \n",
       "std      902.166491    1939.588574      2.151021      0.312366    196.864753   \n",
       "min        0.000000    -319.010000      0.000000      0.000000      3.000000   \n",
       "25%       76.000000       0.000000      2.000000      0.000000     10.000000   \n",
       "50%      202.715000       0.000000      3.000000      0.210000     77.000000   \n",
       "75%      500.677500     481.322500      4.000000      0.450000    126.000000   \n",
       "max    53982.610000  110158.640000     35.000000      1.000000   6193.000000   \n",
       "\n",
       "              d0027         c9008         d2112        d1205         c0015  \n",
       "count  30000.000000  27016.000000  13048.000000  8762.000000  30000.000000  \n",
       "mean       0.473067     42.339466      0.935622     0.897170    605.535361  \n",
       "std        1.397094     13.215883      1.755761     0.814515   1223.783876  \n",
       "min        0.000000      6.000000      0.000000     0.000000      9.750000  \n",
       "25%        0.000000     32.000000      0.000000     0.000000    185.410000  \n",
       "50%        0.000000     41.000000      0.000000     1.000000    355.650000  \n",
       "75%        0.000000     51.000000      1.000000     1.000000    725.480000  \n",
       "max       40.000000    117.000000     24.000000    15.000000  84561.840000  "
      ]
     },
     "execution_count": 7,
     "metadata": {},
     "output_type": "execute_result"
    }
   ],
   "source": [
    "df_data.describe()"
   ]
  },
  {
   "cell_type": "code",
   "execution_count": 8,
   "metadata": {},
   "outputs": [],
   "source": [
    "df_data = df_data.set_index('case_id', drop=True)"
   ]
  },
  {
   "cell_type": "code",
   "execution_count": 9,
   "metadata": {},
   "outputs": [
    {
     "data": {
      "text/html": [
       "<div>\n",
       "<style scoped>\n",
       "    .dataframe tbody tr th:only-of-type {\n",
       "        vertical-align: middle;\n",
       "    }\n",
       "\n",
       "    .dataframe tbody tr th {\n",
       "        vertical-align: top;\n",
       "    }\n",
       "\n",
       "    .dataframe thead th {\n",
       "        text-align: right;\n",
       "    }\n",
       "</style>\n",
       "<table border=\"1\" class=\"dataframe\">\n",
       "  <thead>\n",
       "    <tr style=\"text-align: right;\">\n",
       "      <th></th>\n",
       "      <th>keydate</th>\n",
       "      <th>ct090</th>\n",
       "      <th>ap090</th>\n",
       "      <th>c0001</th>\n",
       "      <th>c0039</th>\n",
       "      <th>c0044</th>\n",
       "      <th>d0031</th>\n",
       "      <th>b0007</th>\n",
       "      <th>d0009</th>\n",
       "      <th>c0031</th>\n",
       "      <th>a8404</th>\n",
       "      <th>c0019</th>\n",
       "      <th>d0027</th>\n",
       "      <th>c9008</th>\n",
       "      <th>d2112</th>\n",
       "      <th>d0012</th>\n",
       "      <th>d1205</th>\n",
       "      <th>c0015</th>\n",
       "    </tr>\n",
       "    <tr>\n",
       "      <th>case_id</th>\n",
       "      <th></th>\n",
       "      <th></th>\n",
       "      <th></th>\n",
       "      <th></th>\n",
       "      <th></th>\n",
       "      <th></th>\n",
       "      <th></th>\n",
       "      <th></th>\n",
       "      <th></th>\n",
       "      <th></th>\n",
       "      <th></th>\n",
       "      <th></th>\n",
       "      <th></th>\n",
       "      <th></th>\n",
       "      <th></th>\n",
       "      <th></th>\n",
       "      <th></th>\n",
       "      <th></th>\n",
       "    </tr>\n",
       "  </thead>\n",
       "  <tbody>\n",
       "    <tr>\n",
       "      <th>1</th>\n",
       "      <td>2017-08-12 00:00:00.0</td>\n",
       "      <td>0.0</td>\n",
       "      <td>0.0</td>\n",
       "      <td>221.68</td>\n",
       "      <td>K6622</td>\n",
       "      <td>1</td>\n",
       "      <td>2.0</td>\n",
       "      <td>0.00</td>\n",
       "      <td>238.38</td>\n",
       "      <td>2.0</td>\n",
       "      <td>NaN</td>\n",
       "      <td>98.0</td>\n",
       "      <td>0.0</td>\n",
       "      <td>49.0</td>\n",
       "      <td>0.0</td>\n",
       "      <td>1</td>\n",
       "      <td>NaN</td>\n",
       "      <td>222.69</td>\n",
       "    </tr>\n",
       "    <tr>\n",
       "      <th>2</th>\n",
       "      <td>2017-02-03 00:00:00.0</td>\n",
       "      <td>0.0</td>\n",
       "      <td>0.0</td>\n",
       "      <td>151.36</td>\n",
       "      <td>K6512</td>\n",
       "      <td>2</td>\n",
       "      <td>NaN</td>\n",
       "      <td>210.53</td>\n",
       "      <td>0.00</td>\n",
       "      <td>5.0</td>\n",
       "      <td>NaN</td>\n",
       "      <td>109.0</td>\n",
       "      <td>2.0</td>\n",
       "      <td>51.0</td>\n",
       "      <td>0.0</td>\n",
       "      <td>2</td>\n",
       "      <td>1.0</td>\n",
       "      <td>212.72</td>\n",
       "    </tr>\n",
       "    <tr>\n",
       "      <th>3</th>\n",
       "      <td>2017-02-17 00:00:00.0</td>\n",
       "      <td>0.0</td>\n",
       "      <td>0.0</td>\n",
       "      <td>48.84</td>\n",
       "      <td>K6512</td>\n",
       "      <td>3</td>\n",
       "      <td>1.0</td>\n",
       "      <td>NaN</td>\n",
       "      <td>0.00</td>\n",
       "      <td>2.0</td>\n",
       "      <td>0.0</td>\n",
       "      <td>748.0</td>\n",
       "      <td>0.0</td>\n",
       "      <td>48.0</td>\n",
       "      <td>NaN</td>\n",
       "      <td>3</td>\n",
       "      <td>NaN</td>\n",
       "      <td>56.84</td>\n",
       "    </tr>\n",
       "    <tr>\n",
       "      <th>4</th>\n",
       "      <td>2017-09-18 00:00:00.0</td>\n",
       "      <td>0.0</td>\n",
       "      <td>0.0</td>\n",
       "      <td>413.15</td>\n",
       "      <td>K6622</td>\n",
       "      <td>4</td>\n",
       "      <td>NaN</td>\n",
       "      <td>NaN</td>\n",
       "      <td>54.14</td>\n",
       "      <td>3.0</td>\n",
       "      <td>1.0</td>\n",
       "      <td>8.0</td>\n",
       "      <td>0.0</td>\n",
       "      <td>27.0</td>\n",
       "      <td>NaN</td>\n",
       "      <td>4</td>\n",
       "      <td>NaN</td>\n",
       "      <td>463.15</td>\n",
       "    </tr>\n",
       "    <tr>\n",
       "      <th>5</th>\n",
       "      <td>2017-07-22 00:00:00.0</td>\n",
       "      <td>0.0</td>\n",
       "      <td>0.0</td>\n",
       "      <td>125.83</td>\n",
       "      <td>K6512</td>\n",
       "      <td>5</td>\n",
       "      <td>2.0</td>\n",
       "      <td>20.00</td>\n",
       "      <td>83.00</td>\n",
       "      <td>6.0</td>\n",
       "      <td>NaN</td>\n",
       "      <td>324.0</td>\n",
       "      <td>0.0</td>\n",
       "      <td>40.0</td>\n",
       "      <td>0.0</td>\n",
       "      <td>1</td>\n",
       "      <td>NaN</td>\n",
       "      <td>146.09</td>\n",
       "    </tr>\n",
       "  </tbody>\n",
       "</table>\n",
       "</div>"
      ],
      "text/plain": [
       "                       keydate  ct090  ap090   c0001  c0039 c0044  d0031  \\\n",
       "case_id                                                                    \n",
       "1        2017-08-12 00:00:00.0    0.0    0.0  221.68  K6622     1    2.0   \n",
       "2        2017-02-03 00:00:00.0    0.0    0.0  151.36  K6512     2    NaN   \n",
       "3        2017-02-17 00:00:00.0    0.0    0.0   48.84  K6512     3    1.0   \n",
       "4        2017-09-18 00:00:00.0    0.0    0.0  413.15  K6622     4    NaN   \n",
       "5        2017-07-22 00:00:00.0    0.0    0.0  125.83  K6512     5    2.0   \n",
       "\n",
       "          b0007   d0009  c0031  a8404  c0019  d0027  c9008  d2112 d0012  \\\n",
       "case_id                                                                   \n",
       "1          0.00  238.38    2.0    NaN   98.0    0.0   49.0    0.0     1   \n",
       "2        210.53    0.00    5.0    NaN  109.0    2.0   51.0    0.0     2   \n",
       "3           NaN    0.00    2.0    0.0  748.0    0.0   48.0    NaN     3   \n",
       "4           NaN   54.14    3.0    1.0    8.0    0.0   27.0    NaN     4   \n",
       "5         20.00   83.00    6.0    NaN  324.0    0.0   40.0    0.0     1   \n",
       "\n",
       "         d1205   c0015  \n",
       "case_id                 \n",
       "1          NaN  222.69  \n",
       "2          1.0  212.72  \n",
       "3          NaN   56.84  \n",
       "4          NaN  463.15  \n",
       "5          NaN  146.09  "
      ]
     },
     "execution_count": 9,
     "metadata": {},
     "output_type": "execute_result"
    }
   ],
   "source": [
    "df_data.head()"
   ]
  },
  {
   "cell_type": "markdown",
   "metadata": {},
   "source": [
    "We want to have a quick overview of the dataset, checking the values and the nulls for each feature.\n",
    "\n",
    "We can realize that all the variables of our dataset are numerical, and this first detail it's very important before starting our analysis and preparing or route plan. We have some of our numerical features that represent categorical values (like **c0039** and **c0044**). So we must pay attention to those features and don't treat them as integers."
   ]
  },
  {
   "cell_type": "code",
   "execution_count": 10,
   "metadata": {
    "scrolled": true
   },
   "outputs": [
    {
     "name": "stdout",
     "output_type": "stream",
     "text": [
      "***********************************\n",
      "Name of the feature: keydate\n",
      "Length of each feature regarding the unique values\n",
      "189\n",
      "2017-02-23 00:00:00.0    1184\n",
      "2017-09-18 00:00:00.0    1007\n",
      "2017-08-20 00:00:00.0     995\n",
      "2017-06-22 00:00:00.0     978\n",
      "2017-07-21 00:00:00.0     854\n",
      "                         ... \n",
      "2017-09-23 00:00:00.0       8\n",
      "2017-08-13 00:00:00.0       7\n",
      "2017-01-15 00:00:00.0       7\n",
      "2017-01-06 00:00:00.0       4\n",
      "2017-08-06 00:00:00.0       4\n",
      "Name: keydate, Length: 189, dtype: int64\n",
      "***********************************\n",
      "Name of the feature: ct090\n",
      "Length of each feature regarding the unique values\n",
      "2\n",
      "0.0    24938\n",
      "1.0     5062\n",
      "Name: ct090, dtype: int64\n",
      "***********************************\n",
      "Name of the feature: ap090\n",
      "Length of each feature regarding the unique values\n",
      "4152\n",
      "0.00       24950\n",
      "100.00       140\n",
      "50.00        106\n",
      "150.00        54\n",
      "30.00         43\n",
      "           ...  \n",
      "250.76         1\n",
      "1269.35        1\n",
      "141.64         1\n",
      "382.74         1\n",
      "55.06          1\n",
      "Name: ap090, Length: 4152, dtype: int64\n",
      "***********************************\n",
      "Name of the feature: c0001\n",
      "Length of each feature regarding the unique values\n",
      "24017\n",
      "0.00       731\n",
      "1500.00     46\n",
      "60.00       25\n",
      "100.00      20\n",
      "160.00      20\n",
      "          ... \n",
      "525.31       1\n",
      "1009.86      1\n",
      "384.72       1\n",
      "1619.50      1\n",
      "578.64       1\n",
      "Name: c0001, Length: 24016, dtype: int64\n",
      "***********************************\n",
      "Name of the feature: c0039\n",
      "Length of each feature regarding the unique values\n",
      "8\n",
      "K6512    17329\n",
      "K6622     9916\n",
      "K6619     1391\n",
      "K6419      909\n",
      "K6499      410\n",
      "K6491       24\n",
      "K6420       15\n",
      "K6511        6\n",
      "Name: c0039, dtype: int64\n",
      "***********************************\n",
      "Name of the feature: c0044\n",
      "Length of each feature regarding the unique values\n",
      "181\n",
      "6      3126\n",
      "12     3064\n",
      "2      2738\n",
      "10     2717\n",
      "11     1109\n",
      "       ... \n",
      "180       1\n",
      "160       1\n",
      "168       1\n",
      "152       1\n",
      "158       1\n",
      "Name: c0044, Length: 181, dtype: int64\n",
      "***********************************\n",
      "Name of the feature: d0031\n",
      "Length of each feature regarding the unique values\n",
      "17\n",
      "1.0     9502\n",
      "2.0     3588\n",
      "3.0     1510\n",
      "0.0     1339\n",
      "4.0      728\n",
      "5.0      347\n",
      "6.0      166\n",
      "7.0       94\n",
      "8.0       49\n",
      "9.0       22\n",
      "10.0      10\n",
      "11.0       8\n",
      "12.0       3\n",
      "13.0       3\n",
      "14.0       1\n",
      "15.0       1\n",
      "Name: d0031, dtype: int64\n",
      "***********************************\n",
      "Name of the feature: b0007\n",
      "Length of each feature regarding the unique values\n",
      "10330\n",
      "0.00       313\n",
      "100.00     110\n",
      "50.00       91\n",
      "200.00      70\n",
      "150.00      63\n",
      "          ... \n",
      "609.05       1\n",
      "125.70       1\n",
      "620.89       1\n",
      "1962.45      1\n",
      "16.74        1\n",
      "Name: b0007, Length: 10329, dtype: int64\n",
      "***********************************\n",
      "Name of the feature: d0009\n",
      "Length of each feature regarding the unique values\n",
      "13571\n",
      "0.00       15372\n",
      "190.00        34\n",
      "10.90         26\n",
      "119.70        14\n",
      "31.60         13\n",
      "           ...  \n",
      "134.70         1\n",
      "381.94         1\n",
      "142.90         1\n",
      "2149.48        1\n",
      "16.74          1\n",
      "Name: d0009, Length: 13571, dtype: int64\n",
      "***********************************\n",
      "Name of the feature: c0031\n",
      "Length of each feature regarding the unique values\n",
      "27\n",
      "2.0     7873\n",
      "3.0     6161\n",
      "1.0     5881\n",
      "4.0     3897\n",
      "5.0     2265\n",
      "6.0     1362\n",
      "7.0      796\n",
      "0.0      539\n",
      "8.0      448\n",
      "9.0      292\n",
      "10.0     192\n",
      "11.0     105\n",
      "12.0      61\n",
      "13.0      32\n",
      "14.0      28\n",
      "15.0      26\n",
      "16.0      14\n",
      "18.0      11\n",
      "21.0       4\n",
      "17.0       3\n",
      "19.0       3\n",
      "20.0       2\n",
      "27.0       1\n",
      "24.0       1\n",
      "35.0       1\n",
      "29.0       1\n",
      "34.0       1\n",
      "Name: c0031, dtype: int64\n",
      "***********************************\n",
      "Name of the feature: a8404\n",
      "Length of each feature regarding the unique values\n",
      "85\n",
      "0.00    7095\n",
      "1.00    1987\n",
      "0.50    1650\n",
      "0.33    1210\n",
      "0.25     890\n",
      "        ... \n",
      "0.59       2\n",
      "0.81       1\n",
      "0.73       1\n",
      "0.67       1\n",
      "0.76       1\n",
      "Name: a8404, Length: 84, dtype: int64\n",
      "***********************************\n",
      "Name of the feature: c0019\n",
      "Length of each feature regarding the unique values\n",
      "978\n",
      "4.0       5352\n",
      "12.0      1299\n",
      "10.0      1010\n",
      "108.0      718\n",
      "5.0        528\n",
      "          ... \n",
      "1330.0       1\n",
      "683.0        1\n",
      "949.0        1\n",
      "334.0        1\n",
      "1174.0       1\n",
      "Name: c0019, Length: 978, dtype: int64\n",
      "***********************************\n",
      "Name of the feature: d0027\n",
      "Length of each feature regarding the unique values\n",
      "27\n",
      "0.0     23420\n",
      "1.0      3728\n",
      "2.0      1323\n",
      "3.0       582\n",
      "4.0       332\n",
      "5.0       189\n",
      "6.0       125\n",
      "7.0        87\n",
      "8.0        59\n",
      "9.0        34\n",
      "10.0       27\n",
      "11.0       23\n",
      "12.0       13\n",
      "13.0       11\n",
      "14.0       11\n",
      "15.0       10\n",
      "16.0        7\n",
      "18.0        3\n",
      "17.0        3\n",
      "21.0        3\n",
      "19.0        3\n",
      "25.0        2\n",
      "40.0        1\n",
      "26.0        1\n",
      "39.0        1\n",
      "24.0        1\n",
      "20.0        1\n",
      "Name: d0027, dtype: int64\n",
      "***********************************\n",
      "Name of the feature: c9008\n",
      "Length of each feature regarding the unique values\n",
      "89\n",
      "32.0     827\n",
      "35.0     824\n",
      "36.0     823\n",
      "33.0     803\n",
      "31.0     797\n",
      "        ... \n",
      "101.0      1\n",
      "116.0      1\n",
      "105.0      1\n",
      "6.0        1\n",
      "99.0       1\n",
      "Name: c9008, Length: 88, dtype: int64\n",
      "***********************************\n",
      "Name of the feature: d2112\n",
      "Length of each feature regarding the unique values\n",
      "22\n",
      "0.0     7206\n",
      "1.0     3548\n",
      "2.0     1019\n",
      "3.0      462\n",
      "4.0      245\n",
      "5.0      162\n",
      "6.0      105\n",
      "7.0       76\n",
      "8.0       61\n",
      "9.0       48\n",
      "11.0      32\n",
      "10.0      31\n",
      "12.0      30\n",
      "13.0      13\n",
      "14.0       3\n",
      "15.0       2\n",
      "17.0       1\n",
      "20.0       1\n",
      "24.0       1\n",
      "19.0       1\n",
      "21.0       1\n",
      "Name: d2112, dtype: int64\n",
      "***********************************\n",
      "Name of the feature: d0012\n",
      "Length of each feature regarding the unique values\n",
      "102\n",
      "1      11507\n",
      "4       6238\n",
      "7       3182\n",
      "6       1693\n",
      "8       1321\n",
      "       ...  \n",
      "90         1\n",
      "61         1\n",
      "101        1\n",
      "46         1\n",
      "16         1\n",
      "Name: d0012, Length: 102, dtype: int64\n",
      "***********************************\n",
      "Name of the feature: d1205\n",
      "Length of each feature regarding the unique values\n",
      "13\n",
      "1.0     5136\n",
      "0.0     2512\n",
      "2.0      795\n",
      "3.0      216\n",
      "4.0       73\n",
      "5.0       13\n",
      "6.0        8\n",
      "7.0        5\n",
      "8.0        1\n",
      "15.0       1\n",
      "11.0       1\n",
      "13.0       1\n",
      "Name: d1205, dtype: int64\n",
      "***********************************\n",
      "Name of the feature: c0015\n",
      "Length of each feature regarding the unique values\n",
      "25244\n",
      "1500.00    41\n",
      "60.00      16\n",
      "158.00     13\n",
      "175.00     11\n",
      "500.00     11\n",
      "           ..\n",
      "474.00      1\n",
      "65.30       1\n",
      "521.94      1\n",
      "172.68      1\n",
      "893.51      1\n",
      "Name: c0015, Length: 25244, dtype: int64\n"
     ]
    }
   ],
   "source": [
    "for i in df_data.columns:\n",
    "    print('***********************************')\n",
    "    print('Name of the feature: %s' %i)\n",
    "    print('Length of each feature regarding the unique values')\n",
    "    print(len(df_data[i].unique()))\n",
    "    print(df_data[i].value_counts())   "
   ]
  },
  {
   "cell_type": "code",
   "execution_count": 11,
   "metadata": {},
   "outputs": [
    {
     "data": {
      "text/plain": [
       "keydate        0\n",
       "ct090          0\n",
       "ap090          0\n",
       "c0001         25\n",
       "c0039          0\n",
       "c0044          0\n",
       "d0031      12629\n",
       "b0007      16926\n",
       "d0009          0\n",
       "c0031          0\n",
       "a8404      10401\n",
       "c0019          0\n",
       "d0027          0\n",
       "c9008       2984\n",
       "d2112      16952\n",
       "d0012          0\n",
       "d1205      21238\n",
       "c0015          0\n",
       "dtype: int64"
      ]
     },
     "execution_count": 11,
     "metadata": {},
     "output_type": "execute_result"
    }
   ],
   "source": [
    "# Nº of nulls per feature\n",
    "no_nulls=df_data.isnull().sum()\n",
    "no_nulls"
   ]
  },
  {
   "cell_type": "code",
   "execution_count": 12,
   "metadata": {},
   "outputs": [
    {
     "data": {
      "text/plain": [
       "keydate     0.000000\n",
       "ct090       0.000000\n",
       "ap090       0.000000\n",
       "c0001       0.083333\n",
       "c0039       0.000000\n",
       "c0044       0.000000\n",
       "d0031      42.096667\n",
       "b0007      56.420000\n",
       "d0009       0.000000\n",
       "c0031       0.000000\n",
       "a8404      34.670000\n",
       "c0019       0.000000\n",
       "d0027       0.000000\n",
       "c9008       9.946667\n",
       "d2112      56.506667\n",
       "d0012       0.000000\n",
       "d1205      70.793333\n",
       "c0015       0.000000\n",
       "dtype: float64"
      ]
     },
     "execution_count": 12,
     "metadata": {},
     "output_type": "execute_result"
    }
   ],
   "source": [
    "# % of nulls per feature\n",
    "per_nulls=df_data.isnull().sum()/len(df_data)*100\n",
    "per_nulls"
   ]
  },
  {
   "cell_type": "markdown",
   "metadata": {},
   "source": [
    "# Missing not at Random "
   ]
  },
  {
   "cell_type": "markdown",
   "metadata": {},
   "source": [
    "After dealing with all null values, we want to check if there is a pattern within the dataset. There is a method called: Missing Not at Random where we can detect if exist a pattern inside these null values. \n",
    "\n",
    "Let's first define Missing Not at Random (MNAR): There is a relationship between the propensity of a value to be missing and its values. In other words, data are missing not at random when the missing values of a variable are related to the values of that variable itself, even after controlling for other variables. \n",
    "\n",
    "An example would be a survey with regard to drug usage. Individuals being surveyed could potentially leave fields blank if they used drugs that are currently illegal out of fear of being prosecuted. So the fields aren't blank out of randomness but are left null on purpose.\n",
    "\n",
    "And in our case study, we have some similar situations with the Number of cases that occur at some period of time. NaN means in that particular situation that our client hasn't had a value in his historical data. "
   ]
  },
  {
   "cell_type": "code",
   "execution_count": 13,
   "metadata": {},
   "outputs": [],
   "source": [
    "# You need to install the following library in order to run the MNAR section\n",
    "# !pip install missingno"
   ]
  },
  {
   "cell_type": "code",
   "execution_count": 14,
   "metadata": {},
   "outputs": [],
   "source": [
    "import missingno as msno"
   ]
  },
  {
   "cell_type": "markdown",
   "metadata": {},
   "source": [
    "The final and most difficult situation of missingness. MNAR occurs when the missingness is not random, and there is a systematic relationship between missing value, observed value, and missing itself. To make sure, If the missingness is in 2 or more variables holding the same pattern, you can sort the data with one variable and visualize it"
   ]
  },
  {
   "cell_type": "code",
   "execution_count": 15,
   "metadata": {},
   "outputs": [
    {
     "data": {
      "text/plain": [
       "<AxesSubplot:>"
      ]
     },
     "execution_count": 15,
     "metadata": {},
     "output_type": "execute_result"
    },
    {
     "data": {
      "image/png": "[encoded data removed]",
      "text/plain": [
       "<Figure size 1800x720 with 2 Axes>"
      ]
     },
     "metadata": {
      "needs_background": "light"
     },
     "output_type": "display_data"
    }
   ],
   "source": [
    "msno.matrix(df_data)"
   ]
  },
  {
   "cell_type": "code",
   "execution_count": 16,
   "metadata": {},
   "outputs": [
    {
     "data": {
      "text/plain": [
       "<AxesSubplot:>"
      ]
     },
     "execution_count": 16,
     "metadata": {},
     "output_type": "execute_result"
    },
    {
     "data": {
      "image/png": "[encoded data removed]",
      "text/plain": [
       "<Figure size 1800x720 with 3 Axes>"
      ]
     },
     "metadata": {
      "needs_background": "light"
     },
     "output_type": "display_data"
    }
   ],
   "source": [
    "msno.bar(df_data)"
   ]
  },
  {
   "cell_type": "code",
   "execution_count": 17,
   "metadata": {},
   "outputs": [
    {
     "data": {
      "text/plain": [
       "<AxesSubplot:>"
      ]
     },
     "execution_count": 17,
     "metadata": {},
     "output_type": "execute_result"
    },
    {
     "data": {
      "image/png": "[encoded data removed]",
      "text/plain": [
       "<Figure size 1440x864 with 2 Axes>"
      ]
     },
     "metadata": {
      "needs_background": "light"
     },
     "output_type": "display_data"
    }
   ],
   "source": [
    "msno.heatmap(df_data)"
   ]
  },
  {
   "cell_type": "code",
   "execution_count": 18,
   "metadata": {},
   "outputs": [
    {
     "data": {
      "text/plain": [
       "<AxesSubplot:>"
      ]
     },
     "execution_count": 18,
     "metadata": {},
     "output_type": "execute_result"
    },
    {
     "data": {
      "image/png": "[encoded data removed]",
      "text/plain": [
       "<Figure size 1800x720 with 1 Axes>"
      ]
     },
     "metadata": {
      "needs_background": "light"
     },
     "output_type": "display_data"
    }
   ],
   "source": [
    "msno.dendrogram(df_data)"
   ]
  },
  {
   "cell_type": "markdown",
   "metadata": {},
   "source": [
    "We can clearly see in both sketches (dendogram and confusion matrix) that there is a 100% correlation between ***d2112*** and ***b007***. So let's analyze the dataset separating the nulls from those features to check the pattern."
   ]
  },
  {
   "cell_type": "code",
   "execution_count": 19,
   "metadata": {},
   "outputs": [
    {
     "data": {
      "text/html": [
       "<div>\n",
       "<style scoped>\n",
       "    .dataframe tbody tr th:only-of-type {\n",
       "        vertical-align: middle;\n",
       "    }\n",
       "\n",
       "    .dataframe tbody tr th {\n",
       "        vertical-align: top;\n",
       "    }\n",
       "\n",
       "    .dataframe thead th {\n",
       "        text-align: right;\n",
       "    }\n",
       "</style>\n",
       "<table border=\"1\" class=\"dataframe\">\n",
       "  <thead>\n",
       "    <tr style=\"text-align: right;\">\n",
       "      <th></th>\n",
       "      <th>keydate</th>\n",
       "      <th>ct090</th>\n",
       "      <th>ap090</th>\n",
       "      <th>c0001</th>\n",
       "      <th>c0039</th>\n",
       "      <th>c0044</th>\n",
       "      <th>d0031</th>\n",
       "      <th>b0007</th>\n",
       "      <th>d0009</th>\n",
       "      <th>c0031</th>\n",
       "      <th>a8404</th>\n",
       "      <th>c0019</th>\n",
       "      <th>d0027</th>\n",
       "      <th>c9008</th>\n",
       "      <th>d2112</th>\n",
       "      <th>d0012</th>\n",
       "      <th>d1205</th>\n",
       "      <th>c0015</th>\n",
       "    </tr>\n",
       "    <tr>\n",
       "      <th>case_id</th>\n",
       "      <th></th>\n",
       "      <th></th>\n",
       "      <th></th>\n",
       "      <th></th>\n",
       "      <th></th>\n",
       "      <th></th>\n",
       "      <th></th>\n",
       "      <th></th>\n",
       "      <th></th>\n",
       "      <th></th>\n",
       "      <th></th>\n",
       "      <th></th>\n",
       "      <th></th>\n",
       "      <th></th>\n",
       "      <th></th>\n",
       "      <th></th>\n",
       "      <th></th>\n",
       "      <th></th>\n",
       "    </tr>\n",
       "  </thead>\n",
       "  <tbody>\n",
       "    <tr>\n",
       "      <th>3</th>\n",
       "      <td>2017-02-17 00:00:00.0</td>\n",
       "      <td>0.0</td>\n",
       "      <td>0.0</td>\n",
       "      <td>48.84</td>\n",
       "      <td>K6512</td>\n",
       "      <td>3</td>\n",
       "      <td>1.0</td>\n",
       "      <td>NaN</td>\n",
       "      <td>0.00</td>\n",
       "      <td>2.0</td>\n",
       "      <td>0.00</td>\n",
       "      <td>748.0</td>\n",
       "      <td>0.0</td>\n",
       "      <td>48.0</td>\n",
       "      <td>NaN</td>\n",
       "      <td>3</td>\n",
       "      <td>NaN</td>\n",
       "      <td>56.84</td>\n",
       "    </tr>\n",
       "    <tr>\n",
       "      <th>4</th>\n",
       "      <td>2017-09-18 00:00:00.0</td>\n",
       "      <td>0.0</td>\n",
       "      <td>0.0</td>\n",
       "      <td>413.15</td>\n",
       "      <td>K6622</td>\n",
       "      <td>4</td>\n",
       "      <td>NaN</td>\n",
       "      <td>NaN</td>\n",
       "      <td>54.14</td>\n",
       "      <td>3.0</td>\n",
       "      <td>1.00</td>\n",
       "      <td>8.0</td>\n",
       "      <td>0.0</td>\n",
       "      <td>27.0</td>\n",
       "      <td>NaN</td>\n",
       "      <td>4</td>\n",
       "      <td>NaN</td>\n",
       "      <td>463.15</td>\n",
       "    </tr>\n",
       "    <tr>\n",
       "      <th>6</th>\n",
       "      <td>2017-05-13 00:00:00.0</td>\n",
       "      <td>0.0</td>\n",
       "      <td>0.0</td>\n",
       "      <td>56.77</td>\n",
       "      <td>K6512</td>\n",
       "      <td>6</td>\n",
       "      <td>1.0</td>\n",
       "      <td>NaN</td>\n",
       "      <td>0.00</td>\n",
       "      <td>3.0</td>\n",
       "      <td>NaN</td>\n",
       "      <td>4.0</td>\n",
       "      <td>0.0</td>\n",
       "      <td>47.0</td>\n",
       "      <td>NaN</td>\n",
       "      <td>1</td>\n",
       "      <td>NaN</td>\n",
       "      <td>117.77</td>\n",
       "    </tr>\n",
       "    <tr>\n",
       "      <th>7</th>\n",
       "      <td>2017-02-23 00:00:00.0</td>\n",
       "      <td>0.0</td>\n",
       "      <td>0.0</td>\n",
       "      <td>667.65</td>\n",
       "      <td>K6622</td>\n",
       "      <td>7</td>\n",
       "      <td>NaN</td>\n",
       "      <td>NaN</td>\n",
       "      <td>147.09</td>\n",
       "      <td>4.0</td>\n",
       "      <td>NaN</td>\n",
       "      <td>13.0</td>\n",
       "      <td>0.0</td>\n",
       "      <td>35.0</td>\n",
       "      <td>NaN</td>\n",
       "      <td>4</td>\n",
       "      <td>NaN</td>\n",
       "      <td>717.65</td>\n",
       "    </tr>\n",
       "    <tr>\n",
       "      <th>8</th>\n",
       "      <td>2017-09-02 00:00:00.0</td>\n",
       "      <td>0.0</td>\n",
       "      <td>0.0</td>\n",
       "      <td>77.20</td>\n",
       "      <td>K6622</td>\n",
       "      <td>8</td>\n",
       "      <td>2.0</td>\n",
       "      <td>NaN</td>\n",
       "      <td>152.56</td>\n",
       "      <td>1.0</td>\n",
       "      <td>0.36</td>\n",
       "      <td>64.0</td>\n",
       "      <td>0.0</td>\n",
       "      <td>47.0</td>\n",
       "      <td>NaN</td>\n",
       "      <td>1</td>\n",
       "      <td>NaN</td>\n",
       "      <td>107.82</td>\n",
       "    </tr>\n",
       "  </tbody>\n",
       "</table>\n",
       "</div>"
      ],
      "text/plain": [
       "                       keydate  ct090  ap090   c0001  c0039 c0044  d0031  \\\n",
       "case_id                                                                    \n",
       "3        2017-02-17 00:00:00.0    0.0    0.0   48.84  K6512     3    1.0   \n",
       "4        2017-09-18 00:00:00.0    0.0    0.0  413.15  K6622     4    NaN   \n",
       "6        2017-05-13 00:00:00.0    0.0    0.0   56.77  K6512     6    1.0   \n",
       "7        2017-02-23 00:00:00.0    0.0    0.0  667.65  K6622     7    NaN   \n",
       "8        2017-09-02 00:00:00.0    0.0    0.0   77.20  K6622     8    2.0   \n",
       "\n",
       "         b0007   d0009  c0031  a8404  c0019  d0027  c9008  d2112 d0012  d1205  \\\n",
       "case_id                                                                         \n",
       "3          NaN    0.00    2.0   0.00  748.0    0.0   48.0    NaN     3    NaN   \n",
       "4          NaN   54.14    3.0   1.00    8.0    0.0   27.0    NaN     4    NaN   \n",
       "6          NaN    0.00    3.0    NaN    4.0    0.0   47.0    NaN     1    NaN   \n",
       "7          NaN  147.09    4.0    NaN   13.0    0.0   35.0    NaN     4    NaN   \n",
       "8          NaN  152.56    1.0   0.36   64.0    0.0   47.0    NaN     1    NaN   \n",
       "\n",
       "          c0015  \n",
       "case_id          \n",
       "3         56.84  \n",
       "4        463.15  \n",
       "6        117.77  \n",
       "7        717.65  \n",
       "8        107.82  "
      ]
     },
     "execution_count": 19,
     "metadata": {},
     "output_type": "execute_result"
    }
   ],
   "source": [
    "# Let's separate the nulls into another dataset taking the nulls from the feature d2112 (56.506667% of null values)\n",
    "\n",
    "missing_data = df_data[df_data[\"d2112\"].isnull()]\n",
    "missing_data.head()"
   ]
  },
  {
   "cell_type": "code",
   "execution_count": 20,
   "metadata": {},
   "outputs": [
    {
     "data": {
      "text/plain": [
       "<AxesSubplot:>"
      ]
     },
     "execution_count": 20,
     "metadata": {},
     "output_type": "execute_result"
    },
    {
     "data": {
      "image/png": "[encoded data removed]",
      "text/plain": [
       "<Figure size 1800x720 with 2 Axes>"
      ]
     },
     "metadata": {
      "needs_background": "light"
     },
     "output_type": "display_data"
    }
   ],
   "source": [
    "msno.matrix(missing_data)"
   ]
  },
  {
   "cell_type": "markdown",
   "metadata": {},
   "source": [
    "We can confirm that there is a clear pattern between the feature ***b007***, ***d2112*** and ***d1205***. For future analysis, we are going to separate the nulls values from correct values, to be analyzed through the model and check if the information from those columns increases the precision of our model."
   ]
  },
  {
   "cell_type": "code",
   "execution_count": 21,
   "metadata": {},
   "outputs": [],
   "source": [
    "# Let's separate the null pattern columns into one dataset and the other columns (some of the with nulls)\n",
    "\n",
    "missing_data_pattern = df_data[df_data[\"d2112\"].isnull()]\n",
    "missing_data_no_pattern = df_data[df_data[\"d2112\"].notnull()]"
   ]
  },
  {
   "cell_type": "code",
   "execution_count": 22,
   "metadata": {},
   "outputs": [
    {
     "data": {
      "text/plain": [
       "<AxesSubplot:>"
      ]
     },
     "execution_count": 22,
     "metadata": {},
     "output_type": "execute_result"
    },
    {
     "data": {
      "image/png": "[encoded data removed]",
      "text/plain": [
       "<Figure size 1800x720 with 2 Axes>"
      ]
     },
     "metadata": {
      "needs_background": "light"
     },
     "output_type": "display_data"
    }
   ],
   "source": [
    "msno.matrix(missing_data_no_pattern)"
   ]
  },
  {
   "cell_type": "markdown",
   "metadata": {},
   "source": [
    "# Dealing with Nan values"
   ]
  },
  {
   "cell_type": "markdown",
   "metadata": {},
   "source": [
    "Once we have analyzed that there is a pattern in the missing data, we will replace the missing values depending on the data we have per feature. We see that we have such a big percentage of nulls in some of the features. Our task before we proceed with the analysis is to deal with these null values."
   ]
  },
  {
   "cell_type": "markdown",
   "metadata": {},
   "source": [
    "## Original Capital Of Case Invoices --> c0001  "
   ]
  },
  {
   "cell_type": "code",
   "execution_count": 23,
   "metadata": {},
   "outputs": [
    {
     "data": {
      "text/plain": [
       "count    29975.000000\n",
       "mean       538.590694\n",
       "std       1248.533877\n",
       "min          0.000000\n",
       "25%        145.100000\n",
       "50%        298.720000\n",
       "75%        638.645000\n",
       "max      84561.840000\n",
       "Name: c0001, dtype: float64"
      ]
     },
     "execution_count": 23,
     "metadata": {},
     "output_type": "execute_result"
    }
   ],
   "source": [
    "df_data[\"c0001\"].describe()"
   ]
  },
  {
   "cell_type": "code",
   "execution_count": 24,
   "metadata": {},
   "outputs": [
    {
     "data": {
      "text/plain": [
       "25"
      ]
     },
     "execution_count": 24,
     "metadata": {},
     "output_type": "execute_result"
    }
   ],
   "source": [
    "df_data[\"c0001\"].isnull().sum()"
   ]
  },
  {
   "cell_type": "markdown",
   "metadata": {},
   "source": [
    "This feature has a small amount of null values compared with the size of the feature. We could drop this small quantity of null values, but in order to keep as much information as possible, we won't drop them and we will take the mean as a value to fill the NaN values. We take the mean of the feature because we are talking about money. "
   ]
  },
  {
   "cell_type": "code",
   "execution_count": 25,
   "metadata": {},
   "outputs": [],
   "source": [
    "df_data[\"c0001\"]=df_data[\"c0001\"].fillna(df_data[\"c0001\"].mean())"
   ]
  },
  {
   "cell_type": "code",
   "execution_count": 26,
   "metadata": {},
   "outputs": [
    {
     "data": {
      "text/plain": [
       "0"
      ]
     },
     "execution_count": 26,
     "metadata": {},
     "output_type": "execute_result"
    }
   ],
   "source": [
    "df_data[\"c0001\"].isnull().sum()"
   ]
  },
  {
   "cell_type": "markdown",
   "metadata": {},
   "source": [
    "## Number Of Unsuccessfully Closed Customer Cases Last 36 Months --> d0031"
   ]
  },
  {
   "cell_type": "code",
   "execution_count": 27,
   "metadata": {},
   "outputs": [
    {
     "data": {
      "text/plain": [
       "count    17371.000000\n",
       "mean         1.634391\n",
       "std          1.318419\n",
       "min          0.000000\n",
       "25%          1.000000\n",
       "50%          1.000000\n",
       "75%          2.000000\n",
       "max         15.000000\n",
       "Name: d0031, dtype: float64"
      ]
     },
     "execution_count": 27,
     "metadata": {},
     "output_type": "execute_result"
    }
   ],
   "source": [
    "df_data[\"d0031\"].describe()"
   ]
  },
  {
   "cell_type": "code",
   "execution_count": 28,
   "metadata": {},
   "outputs": [
    {
     "data": {
      "text/plain": [
       "12629"
      ]
     },
     "execution_count": 28,
     "metadata": {},
     "output_type": "execute_result"
    }
   ],
   "source": [
    "df_data[\"d0031\"].isnull().sum()"
   ]
  },
  {
   "cell_type": "markdown",
   "metadata": {},
   "source": [
    "In this feature, we have a big quantity of null values (close to the half). So for this feature we have 2 options, fill the values with valid value above/below or we can drop this column for our final analysis. All the NaN values means that those clients never had an unsuccessfully closed case. "
   ]
  },
  {
   "cell_type": "code",
   "execution_count": 29,
   "metadata": {},
   "outputs": [],
   "source": [
    "df_data[\"d0031\"]=df_data[\"d0031\"].fillna(method='ffill', inplace=False)"
   ]
  },
  {
   "cell_type": "code",
   "execution_count": 30,
   "metadata": {},
   "outputs": [
    {
     "data": {
      "text/plain": [
       "0"
      ]
     },
     "execution_count": 30,
     "metadata": {},
     "output_type": "execute_result"
    }
   ],
   "source": [
    "df_data[\"d0031\"].isnull().sum()"
   ]
  },
  {
   "cell_type": "markdown",
   "metadata": {},
   "source": [
    "## Amount Of Customer Payments On All Cases B level\t --> b0007"
   ]
  },
  {
   "cell_type": "code",
   "execution_count": 31,
   "metadata": {},
   "outputs": [
    {
     "data": {
      "text/plain": [
       "count    13074.000000\n",
       "mean       423.156043\n",
       "std        902.166491\n",
       "min          0.000000\n",
       "25%         76.000000\n",
       "50%        202.715000\n",
       "75%        500.677500\n",
       "max      53982.610000\n",
       "Name: b0007, dtype: float64"
      ]
     },
     "execution_count": 31,
     "metadata": {},
     "output_type": "execute_result"
    }
   ],
   "source": [
    "df_data[\"b0007\"].describe()"
   ]
  },
  {
   "cell_type": "code",
   "execution_count": 32,
   "metadata": {},
   "outputs": [
    {
     "data": {
      "text/plain": [
       "16926"
      ]
     },
     "execution_count": 32,
     "metadata": {},
     "output_type": "execute_result"
    }
   ],
   "source": [
    "df_data[\"b0007\"].isnull().sum()"
   ]
  },
  {
   "cell_type": "markdown",
   "metadata": {},
   "source": [
    "For this feature, we have again a huge percentage of missing values. We are talking about amounts not about a number regarding time, so we will take a different approach, we will fill again the values with the mean."
   ]
  },
  {
   "cell_type": "code",
   "execution_count": 33,
   "metadata": {},
   "outputs": [],
   "source": [
    "df_data[\"b0007\"]=df_data[\"b0007\"].fillna(df_data[\"b0007\"].mean())"
   ]
  },
  {
   "cell_type": "code",
   "execution_count": 34,
   "metadata": {},
   "outputs": [
    {
     "data": {
      "text/plain": [
       "0"
      ]
     },
     "execution_count": 34,
     "metadata": {},
     "output_type": "execute_result"
    }
   ],
   "source": [
    "df_data[\"b0007\"].isnull().sum()"
   ]
  },
  {
   "cell_type": "markdown",
   "metadata": {},
   "source": [
    "## Ratio Of Customers At Address With Successfully Closed Cases Last 36 Months --> a8404"
   ]
  },
  {
   "cell_type": "code",
   "execution_count": 35,
   "metadata": {},
   "outputs": [
    {
     "data": {
      "text/plain": [
       "count    19599.000000\n",
       "mean         0.283395\n",
       "std          0.312366\n",
       "min          0.000000\n",
       "25%          0.000000\n",
       "50%          0.210000\n",
       "75%          0.450000\n",
       "max          1.000000\n",
       "Name: a8404, dtype: float64"
      ]
     },
     "execution_count": 35,
     "metadata": {},
     "output_type": "execute_result"
    }
   ],
   "source": [
    "df_data[\"a8404\"].describe()"
   ]
  },
  {
   "cell_type": "code",
   "execution_count": 36,
   "metadata": {},
   "outputs": [
    {
     "data": {
      "text/plain": [
       "10401"
      ]
     },
     "execution_count": 36,
     "metadata": {},
     "output_type": "execute_result"
    }
   ],
   "source": [
    "df_data[\"a8404\"].isnull().sum()"
   ]
  },
  {
   "cell_type": "markdown",
   "metadata": {},
   "source": [
    "In this case, we are going to use the same method we did for the null values regarding time and but this time we will fill the values with the above valid value. "
   ]
  },
  {
   "cell_type": "code",
   "execution_count": 37,
   "metadata": {},
   "outputs": [],
   "source": [
    "df_data[\"a8404\"]=df_data[\"a8404\"].fillna(method='backfill', inplace=False)"
   ]
  },
  {
   "cell_type": "code",
   "execution_count": 38,
   "metadata": {},
   "outputs": [
    {
     "data": {
      "text/plain": [
       "0"
      ]
     },
     "execution_count": 38,
     "metadata": {},
     "output_type": "execute_result"
    }
   ],
   "source": [
    "df_data[\"a8404\"].isnull().sum()"
   ]
  },
  {
   "cell_type": "markdown",
   "metadata": {},
   "source": [
    "## Customer Age --> c9008"
   ]
  },
  {
   "cell_type": "code",
   "execution_count": 39,
   "metadata": {},
   "outputs": [
    {
     "data": {
      "text/plain": [
       "count    27016.000000\n",
       "mean        42.339466\n",
       "std         13.215883\n",
       "min          6.000000\n",
       "25%         32.000000\n",
       "50%         41.000000\n",
       "75%         51.000000\n",
       "max        117.000000\n",
       "Name: c9008, dtype: float64"
      ]
     },
     "execution_count": 39,
     "metadata": {},
     "output_type": "execute_result"
    }
   ],
   "source": [
    "df_data[\"c9008\"].describe()"
   ]
  },
  {
   "cell_type": "code",
   "execution_count": 40,
   "metadata": {},
   "outputs": [
    {
     "data": {
      "text/plain": [
       "2984"
      ]
     },
     "execution_count": 40,
     "metadata": {},
     "output_type": "execute_result"
    }
   ],
   "source": [
    "df_data[\"c9008\"].isnull().sum()"
   ]
  },
  {
   "cell_type": "code",
   "execution_count": 41,
   "metadata": {},
   "outputs": [],
   "source": [
    "df_data[\"c9008\"]=df_data[\"c9008\"].fillna(df_data[\"c9008\"].mean())"
   ]
  },
  {
   "cell_type": "code",
   "execution_count": 42,
   "metadata": {},
   "outputs": [
    {
     "data": {
      "text/plain": [
       "0"
      ]
     },
     "execution_count": 42,
     "metadata": {},
     "output_type": "execute_result"
    }
   ],
   "source": [
    "df_data[\"c9008\"].isnull().sum()"
   ]
  },
  {
   "cell_type": "markdown",
   "metadata": {},
   "source": [
    "## Number Of Customer Payments In Last 12 Months --> d2112"
   ]
  },
  {
   "cell_type": "code",
   "execution_count": 43,
   "metadata": {},
   "outputs": [
    {
     "data": {
      "text/plain": [
       "count    13048.000000\n",
       "mean         0.935622\n",
       "std          1.755761\n",
       "min          0.000000\n",
       "25%          0.000000\n",
       "50%          0.000000\n",
       "75%          1.000000\n",
       "max         24.000000\n",
       "Name: d2112, dtype: float64"
      ]
     },
     "execution_count": 43,
     "metadata": {},
     "output_type": "execute_result"
    }
   ],
   "source": [
    "df_data[\"d2112\"].describe()"
   ]
  },
  {
   "cell_type": "code",
   "execution_count": 44,
   "metadata": {},
   "outputs": [
    {
     "data": {
      "text/plain": [
       "16952"
      ]
     },
     "execution_count": 44,
     "metadata": {},
     "output_type": "execute_result"
    }
   ],
   "source": [
    "df_data[\"d2112\"].isnull().sum()"
   ]
  },
  {
   "cell_type": "markdown",
   "metadata": {},
   "source": [
    "In this case, we are going to use the same method we did for the null values regarding time and but this time we will fill the values with the above valid value. "
   ]
  },
  {
   "cell_type": "code",
   "execution_count": 45,
   "metadata": {},
   "outputs": [],
   "source": [
    "df_data[\"d2112\"]=df_data[\"d2112\"].fillna(method='backfill', inplace=False)"
   ]
  },
  {
   "cell_type": "code",
   "execution_count": 46,
   "metadata": {},
   "outputs": [
    {
     "data": {
      "text/plain": [
       "0"
      ]
     },
     "execution_count": 46,
     "metadata": {},
     "output_type": "execute_result"
    }
   ],
   "source": [
    "df_data[\"d2112\"].isnull().sum()"
   ]
  },
  {
   "cell_type": "markdown",
   "metadata": {},
   "source": [
    "## Number Of Successfully Closed Cases In Last 24 Months --> d1205"
   ]
  },
  {
   "cell_type": "code",
   "execution_count": 47,
   "metadata": {},
   "outputs": [
    {
     "data": {
      "text/plain": [
       "count    8762.000000\n",
       "mean        0.897170\n",
       "std         0.814515\n",
       "min         0.000000\n",
       "25%         0.000000\n",
       "50%         1.000000\n",
       "75%         1.000000\n",
       "max        15.000000\n",
       "Name: d1205, dtype: float64"
      ]
     },
     "execution_count": 47,
     "metadata": {},
     "output_type": "execute_result"
    }
   ],
   "source": [
    "df_data[\"d1205\"].describe()"
   ]
  },
  {
   "cell_type": "code",
   "execution_count": 48,
   "metadata": {},
   "outputs": [
    {
     "data": {
      "text/plain": [
       "21238"
      ]
     },
     "execution_count": 48,
     "metadata": {},
     "output_type": "execute_result"
    }
   ],
   "source": [
    "df_data[\"d1205\"].isnull().sum()"
   ]
  },
  {
   "cell_type": "markdown",
   "metadata": {},
   "source": [
    "In this case, we are going to use the same method we did for the null values regarding time and but this time we will fill the values with the above valid value. "
   ]
  },
  {
   "cell_type": "code",
   "execution_count": 49,
   "metadata": {},
   "outputs": [],
   "source": [
    "df_data[\"d1205\"]=df_data[\"d1205\"].fillna(method='backfill', inplace=False)"
   ]
  },
  {
   "cell_type": "code",
   "execution_count": 50,
   "metadata": {},
   "outputs": [
    {
     "data": {
      "text/plain": [
       "0"
      ]
     },
     "execution_count": 50,
     "metadata": {},
     "output_type": "execute_result"
    }
   ],
   "source": [
    "df_data[\"d1205\"].isnull().sum()"
   ]
  },
  {
   "cell_type": "markdown",
   "metadata": {},
   "source": [
    "# MODEL PREPARATION"
   ]
  },
  {
   "cell_type": "markdown",
   "metadata": {},
   "source": [
    "## Linear Regression Model"
   ]
  },
  {
   "cell_type": "markdown",
   "metadata": {},
   "source": [
    "Now, we are going to prepare the dataset for the prediction model. We are going to use for our first approach a Linear Regression Model with the target variable ***ap090***. We are going to drop the other target feature and some columns we think can't be relevant for our model. Also, we are going to scale our data, because we don't want to add more value to features with higher numbers in comparison with the other variables with small numbers."
   ]
  },
  {
   "cell_type": "code",
   "execution_count": 51,
   "metadata": {},
   "outputs": [
    {
     "data": {
      "text/plain": [
       "Index(['keydate', 'ct090', 'ap090', 'c0001', 'c0039', 'c0044', 'd0031',\n",
       "       'b0007', 'd0009', 'c0031', 'a8404', 'c0019', 'd0027', 'c9008', 'd2112',\n",
       "       'd0012', 'd1205', 'c0015'],\n",
       "      dtype='object')"
      ]
     },
     "execution_count": 51,
     "metadata": {},
     "output_type": "execute_result"
    }
   ],
   "source": [
    "df_data.columns"
   ]
  },
  {
   "cell_type": "code",
   "execution_count": 52,
   "metadata": {},
   "outputs": [],
   "source": [
    "df_model = df_data.drop(labels=['keydate','ct090', 'c0039', 'c0044', 'c0031', 'd0012', 'b0007', 'd0009','d0027', 'c0001', 'c9008', 'd0031', 'c0019'], axis=1)"
   ]
  },
  {
   "cell_type": "code",
   "execution_count": 53,
   "metadata": {},
   "outputs": [
    {
     "data": {
      "text/html": [
       "<div>\n",
       "<style scoped>\n",
       "    .dataframe tbody tr th:only-of-type {\n",
       "        vertical-align: middle;\n",
       "    }\n",
       "\n",
       "    .dataframe tbody tr th {\n",
       "        vertical-align: top;\n",
       "    }\n",
       "\n",
       "    .dataframe thead th {\n",
       "        text-align: right;\n",
       "    }\n",
       "</style>\n",
       "<table border=\"1\" class=\"dataframe\">\n",
       "  <thead>\n",
       "    <tr style=\"text-align: right;\">\n",
       "      <th></th>\n",
       "      <th>ap090</th>\n",
       "      <th>a8404</th>\n",
       "      <th>d2112</th>\n",
       "      <th>d1205</th>\n",
       "      <th>c0015</th>\n",
       "    </tr>\n",
       "    <tr>\n",
       "      <th>case_id</th>\n",
       "      <th></th>\n",
       "      <th></th>\n",
       "      <th></th>\n",
       "      <th></th>\n",
       "      <th></th>\n",
       "    </tr>\n",
       "  </thead>\n",
       "  <tbody>\n",
       "    <tr>\n",
       "      <th>1</th>\n",
       "      <td>0.0</td>\n",
       "      <td>-0.466667</td>\n",
       "      <td>0.0</td>\n",
       "      <td>0.0</td>\n",
       "      <td>-0.246190</td>\n",
       "    </tr>\n",
       "    <tr>\n",
       "      <th>2</th>\n",
       "      <td>0.0</td>\n",
       "      <td>-0.466667</td>\n",
       "      <td>0.0</td>\n",
       "      <td>0.0</td>\n",
       "      <td>-0.264651</td>\n",
       "    </tr>\n",
       "    <tr>\n",
       "      <th>3</th>\n",
       "      <td>0.0</td>\n",
       "      <td>-0.466667</td>\n",
       "      <td>0.0</td>\n",
       "      <td>0.0</td>\n",
       "      <td>-0.553280</td>\n",
       "    </tr>\n",
       "    <tr>\n",
       "      <th>4</th>\n",
       "      <td>0.0</td>\n",
       "      <td>1.755556</td>\n",
       "      <td>0.0</td>\n",
       "      <td>0.0</td>\n",
       "      <td>0.199048</td>\n",
       "    </tr>\n",
       "    <tr>\n",
       "      <th>5</th>\n",
       "      <td>0.0</td>\n",
       "      <td>0.333333</td>\n",
       "      <td>0.0</td>\n",
       "      <td>0.0</td>\n",
       "      <td>-0.388024</td>\n",
       "    </tr>\n",
       "  </tbody>\n",
       "</table>\n",
       "</div>"
      ],
      "text/plain": [
       "         ap090     a8404  d2112  d1205     c0015\n",
       "case_id                                         \n",
       "1          0.0 -0.466667    0.0    0.0 -0.246190\n",
       "2          0.0 -0.466667    0.0    0.0 -0.264651\n",
       "3          0.0 -0.466667    0.0    0.0 -0.553280\n",
       "4          0.0  1.755556    0.0    0.0  0.199048\n",
       "5          0.0  0.333333    0.0    0.0 -0.388024"
      ]
     },
     "execution_count": 53,
     "metadata": {},
     "output_type": "execute_result"
    }
   ],
   "source": [
    "from sklearn.preprocessing import RobustScaler\n",
    "\n",
    "col_names = ['ap090', 'a8404', 'd2112', 'd1205', 'c0015']\n",
    "\n",
    "features = df_model[col_names]\n",
    "scaler = RobustScaler().fit(features.values)\n",
    "\n",
    "features = scaler.transform(features.values)\n",
    "\n",
    "df_model[col_names] = features\n",
    "df_model.head()"
   ]
  },
  {
   "cell_type": "code",
   "execution_count": 54,
   "metadata": {},
   "outputs": [
    {
     "data": {
      "text/html": [
       "<div>\n",
       "<style scoped>\n",
       "    .dataframe tbody tr th:only-of-type {\n",
       "        vertical-align: middle;\n",
       "    }\n",
       "\n",
       "    .dataframe tbody tr th {\n",
       "        vertical-align: top;\n",
       "    }\n",
       "\n",
       "    .dataframe thead th {\n",
       "        text-align: right;\n",
       "    }\n",
       "</style>\n",
       "<table border=\"1\" class=\"dataframe\">\n",
       "  <thead>\n",
       "    <tr style=\"text-align: right;\">\n",
       "      <th></th>\n",
       "      <th>ap090</th>\n",
       "    </tr>\n",
       "    <tr>\n",
       "      <th>case_id</th>\n",
       "      <th></th>\n",
       "    </tr>\n",
       "  </thead>\n",
       "  <tbody>\n",
       "    <tr>\n",
       "      <th>1</th>\n",
       "      <td>-0.205015</td>\n",
       "    </tr>\n",
       "    <tr>\n",
       "      <th>2</th>\n",
       "      <td>-0.205015</td>\n",
       "    </tr>\n",
       "    <tr>\n",
       "      <th>3</th>\n",
       "      <td>-0.205015</td>\n",
       "    </tr>\n",
       "    <tr>\n",
       "      <th>4</th>\n",
       "      <td>-0.205015</td>\n",
       "    </tr>\n",
       "    <tr>\n",
       "      <th>5</th>\n",
       "      <td>-0.205015</td>\n",
       "    </tr>\n",
       "    <tr>\n",
       "      <th>...</th>\n",
       "      <td>...</td>\n",
       "    </tr>\n",
       "    <tr>\n",
       "      <th>29996</th>\n",
       "      <td>-0.205015</td>\n",
       "    </tr>\n",
       "    <tr>\n",
       "      <th>29997</th>\n",
       "      <td>0.579791</td>\n",
       "    </tr>\n",
       "    <tr>\n",
       "      <th>29998</th>\n",
       "      <td>-0.205015</td>\n",
       "    </tr>\n",
       "    <tr>\n",
       "      <th>29999</th>\n",
       "      <td>-0.205015</td>\n",
       "    </tr>\n",
       "    <tr>\n",
       "      <th>30000</th>\n",
       "      <td>-0.205015</td>\n",
       "    </tr>\n",
       "  </tbody>\n",
       "</table>\n",
       "<p>30000 rows × 1 columns</p>\n",
       "</div>"
      ],
      "text/plain": [
       "            ap090\n",
       "case_id          \n",
       "1       -0.205015\n",
       "2       -0.205015\n",
       "3       -0.205015\n",
       "4       -0.205015\n",
       "5       -0.205015\n",
       "...           ...\n",
       "29996   -0.205015\n",
       "29997    0.579791\n",
       "29998   -0.205015\n",
       "29999   -0.205015\n",
       "30000   -0.205015\n",
       "\n",
       "[30000 rows x 1 columns]"
      ]
     },
     "execution_count": 54,
     "metadata": {},
     "output_type": "execute_result"
    }
   ],
   "source": [
    "from sklearn.preprocessing import StandardScaler\n",
    "scaler = StandardScaler()\n",
    "\n",
    "df_model[[\"ap090\"]] = scaler.fit_transform(df_model[[\"ap090\"]])\n",
    "df_model[[\"ap090\"]]"
   ]
  },
  {
   "cell_type": "code",
   "execution_count": 55,
   "metadata": {},
   "outputs": [
    {
     "data": {
      "text/plain": [
       "<AxesSubplot:>"
      ]
     },
     "execution_count": 55,
     "metadata": {},
     "output_type": "execute_result"
    },
    {
     "data": {
      "image/png": "[encoded data removed]",
      "text/plain": [
       "<Figure size 432x288 with 2 Axes>"
      ]
     },
     "metadata": {
      "needs_background": "light"
     },
     "output_type": "display_data"
    }
   ],
   "source": [
    "sns.heatmap(df_model.corr())"
   ]
  },
  {
   "cell_type": "markdown",
   "metadata": {},
   "source": [
    "## Linear Regression Model with SKLEARN\n",
    "\n",
    "### X and y arrays"
   ]
  },
  {
   "cell_type": "code",
   "execution_count": 56,
   "metadata": {},
   "outputs": [],
   "source": [
    "from sklearn.model_selection import train_test_split\n",
    "\n",
    "X = df_model.drop(labels=[\"ap090\"],axis=1)\n",
    "y = df_model['ap090']\n",
    "\n",
    "X_train, X_test, y_train, y_test = train_test_split(\n",
    "    X, y, random_state=0, test_size=0.25)"
   ]
  },
  {
   "cell_type": "code",
   "execution_count": 57,
   "metadata": {},
   "outputs": [],
   "source": [
    "from sklearn.linear_model import LinearRegression\n",
    "\n",
    "lm = LinearRegression()\n",
    "model=lm.fit(X,y)"
   ]
  },
  {
   "cell_type": "markdown",
   "metadata": {},
   "source": [
    "## Model Evaluation\n",
    "\n",
    "Let's evaluate the model by checking out it's coefficients and how we can interpret them."
   ]
  },
  {
   "cell_type": "code",
   "execution_count": 58,
   "metadata": {},
   "outputs": [
    {
     "name": "stdout",
     "output_type": "stream",
     "text": [
      "Constant:  -0.0507791972723891\n",
      "R2:  0.026615118276756444\n"
     ]
    }
   ],
   "source": [
    "# print the intercept\n",
    "print(\"Constant: \", model.intercept_)\n",
    "print(\"R2: \", model.score(X,y))"
   ]
  },
  {
   "cell_type": "code",
   "execution_count": 59,
   "metadata": {},
   "outputs": [
    {
     "data": {
      "text/html": [
       "<div>\n",
       "<style scoped>\n",
       "    .dataframe tbody tr th:only-of-type {\n",
       "        vertical-align: middle;\n",
       "    }\n",
       "\n",
       "    .dataframe tbody tr th {\n",
       "        vertical-align: top;\n",
       "    }\n",
       "\n",
       "    .dataframe thead th {\n",
       "        text-align: right;\n",
       "    }\n",
       "</style>\n",
       "<table border=\"1\" class=\"dataframe\">\n",
       "  <thead>\n",
       "    <tr style=\"text-align: right;\">\n",
       "      <th></th>\n",
       "      <th>Coefficient</th>\n",
       "    </tr>\n",
       "  </thead>\n",
       "  <tbody>\n",
       "    <tr>\n",
       "      <th>a8404</th>\n",
       "      <td>0.048605</td>\n",
       "    </tr>\n",
       "    <tr>\n",
       "      <th>d2112</th>\n",
       "      <td>0.011783</td>\n",
       "    </tr>\n",
       "    <tr>\n",
       "      <th>d1205</th>\n",
       "      <td>0.005341</td>\n",
       "    </tr>\n",
       "    <tr>\n",
       "      <th>c0015</th>\n",
       "      <td>0.069692</td>\n",
       "    </tr>\n",
       "  </tbody>\n",
       "</table>\n",
       "</div>"
      ],
      "text/plain": [
       "       Coefficient\n",
       "a8404     0.048605\n",
       "d2112     0.011783\n",
       "d1205     0.005341\n",
       "c0015     0.069692"
      ]
     },
     "execution_count": 59,
     "metadata": {},
     "output_type": "execute_result"
    }
   ],
   "source": [
    "coeff_df = pd.DataFrame(model.coef_,X.columns,columns=['Coefficient'])\n",
    "coeff_df"
   ]
  },
  {
   "cell_type": "markdown",
   "metadata": {},
   "source": [
    "## Predictions from our Model\n",
    "\n",
    "Let's grab predictions off our test set and see how well it did!"
   ]
  },
  {
   "cell_type": "code",
   "execution_count": 60,
   "metadata": {},
   "outputs": [],
   "source": [
    "predictions = lm.predict(X)"
   ]
  },
  {
   "cell_type": "code",
   "execution_count": 61,
   "metadata": {},
   "outputs": [
    {
     "data": {
      "text/plain": [
       "<matplotlib.collections.PathCollection at 0x19168cc4910>"
      ]
     },
     "execution_count": 61,
     "metadata": {},
     "output_type": "execute_result"
    },
    {
     "data": {
      "image/png": "[encoded data removed]",
      "text/plain": [
       "<Figure size 432x288 with 1 Axes>"
      ]
     },
     "metadata": {
      "needs_background": "light"
     },
     "output_type": "display_data"
    }
   ],
   "source": [
    "plt.scatter(y,predictions)"
   ]
  },
  {
   "cell_type": "code",
   "execution_count": 62,
   "metadata": {},
   "outputs": [
    {
     "data": {
      "image/png": "[encoded data removed]",
      "text/plain": [
       "<Figure size 432x288 with 1 Axes>"
      ]
     },
     "metadata": {
      "needs_background": "light"
     },
     "output_type": "display_data"
    }
   ],
   "source": [
    "sns.distplot((y-predictions),bins=50);"
   ]
  },
  {
   "cell_type": "code",
   "execution_count": 63,
   "metadata": {},
   "outputs": [
    {
     "name": "stdout",
     "output_type": "stream",
     "text": [
      "MAE: 0.34513200327945226\n",
      "MSE: 0.9733848817232439\n",
      "RMSE: 0.9866026969977549\n"
     ]
    }
   ],
   "source": [
    "from sklearn import metrics\n",
    "\n",
    "print('MAE:', metrics.mean_absolute_error(y, predictions))\n",
    "print('MSE:', metrics.mean_squared_error(y, predictions))\n",
    "print('RMSE:', np.sqrt(metrics.mean_squared_error(y, predictions)))"
   ]
  },
  {
   "cell_type": "code",
   "execution_count": 64,
   "metadata": {},
   "outputs": [
    {
     "name": "stdout",
     "output_type": "stream",
     "text": [
      "                            OLS Regression Results                            \n",
      "==============================================================================\n",
      "Dep. Variable:                  ap090   R-squared:                       0.027\n",
      "Model:                            OLS   Adj. R-squared:                  0.026\n",
      "Method:                 Least Squares   F-statistic:                     205.0\n",
      "Date:                Wed, 19 Jan 2022   Prob (F-statistic):          7.95e-174\n",
      "Time:                        12:07:54   Log-Likelihood:                -42164.\n",
      "No. Observations:               30000   AIC:                         8.434e+04\n",
      "Df Residuals:                   29995   BIC:                         8.438e+04\n",
      "Df Model:                           4                                         \n",
      "Covariance Type:            nonrobust                                         \n",
      "==============================================================================\n",
      "                 coef    std err          t      P>|t|      [0.025      0.975]\n",
      "------------------------------------------------------------------------------\n",
      "const         -0.0508      0.007     -7.480      0.000      -0.064      -0.037\n",
      "a8404          0.0486      0.008      5.881      0.000       0.032       0.065\n",
      "d2112          0.0118      0.003      3.636      0.000       0.005       0.018\n",
      "d1205          0.0053      0.007      0.768      0.442      -0.008       0.019\n",
      "c0015          0.0697      0.003     27.720      0.000       0.065       0.075\n",
      "==============================================================================\n",
      "Omnibus:                    87963.213   Durbin-Watson:                   2.014\n",
      "Prob(Omnibus):                  0.000   Jarque-Bera (JB):      16562972898.695\n",
      "Skew:                          40.699   Prob(JB):                         0.00\n",
      "Kurtosis:                    3642.197   Cond. No.                         3.58\n",
      "==============================================================================\n",
      "\n",
      "Notes:\n",
      "[1] Standard Errors assume that the covariance matrix of the errors is correctly specified.\n"
     ]
    }
   ],
   "source": [
    "X = sm.add_constant(X)\n",
    "\n",
    "result = sm.OLS( y, X).fit()\n",
    "print (result.summary())"
   ]
  },
  {
   "cell_type": "markdown",
   "metadata": {},
   "source": [
    "### Conclusion - Linear Regression Model"
   ]
  },
  {
   "cell_type": "markdown",
   "metadata": {},
   "source": [
    "This model it's not good enough to predict our main target because the metric R2 it's to low, so the prediction made by our model it's really poor. We can even take any insight due to the rebustless model we have. We are going to try to adjust our data to a Logistic Regression Model."
   ]
  },
  {
   "cell_type": "markdown",
   "metadata": {},
   "source": [
    "## Classification Model - Logistic Regression"
   ]
  },
  {
   "cell_type": "markdown",
   "metadata": {},
   "source": [
    "Now the approach is totally different. We want to run our data through a classification model. We are going to set as our target variable ***ct090***. This is a binomial variable, and we have 1 set _True_ as a success of our 90 days outcome, and 0 sets as _False_. We are going to separate the features in categorical and numerical to perform some encoding to the categorical in order to let our model understand the categories and see the relevance of them, and for our numerical values, we will perform the same transformation we did on the Linear Regression model: Standard Scaling. "
   ]
  },
  {
   "cell_type": "code",
   "execution_count": 65,
   "metadata": {},
   "outputs": [
    {
     "data": {
      "text/html": [
       "<div>\n",
       "<style scoped>\n",
       "    .dataframe tbody tr th:only-of-type {\n",
       "        vertical-align: middle;\n",
       "    }\n",
       "\n",
       "    .dataframe tbody tr th {\n",
       "        vertical-align: top;\n",
       "    }\n",
       "\n",
       "    .dataframe thead th {\n",
       "        text-align: right;\n",
       "    }\n",
       "</style>\n",
       "<table border=\"1\" class=\"dataframe\">\n",
       "  <thead>\n",
       "    <tr style=\"text-align: right;\">\n",
       "      <th></th>\n",
       "      <th>keydate</th>\n",
       "      <th>ct090</th>\n",
       "      <th>ap090</th>\n",
       "      <th>c0001</th>\n",
       "      <th>c0039</th>\n",
       "      <th>c0044</th>\n",
       "      <th>d0031</th>\n",
       "      <th>b0007</th>\n",
       "      <th>d0009</th>\n",
       "      <th>c0031</th>\n",
       "      <th>a8404</th>\n",
       "      <th>c0019</th>\n",
       "      <th>d0027</th>\n",
       "      <th>c9008</th>\n",
       "      <th>d2112</th>\n",
       "      <th>d0012</th>\n",
       "      <th>d1205</th>\n",
       "      <th>c0015</th>\n",
       "    </tr>\n",
       "    <tr>\n",
       "      <th>case_id</th>\n",
       "      <th></th>\n",
       "      <th></th>\n",
       "      <th></th>\n",
       "      <th></th>\n",
       "      <th></th>\n",
       "      <th></th>\n",
       "      <th></th>\n",
       "      <th></th>\n",
       "      <th></th>\n",
       "      <th></th>\n",
       "      <th></th>\n",
       "      <th></th>\n",
       "      <th></th>\n",
       "      <th></th>\n",
       "      <th></th>\n",
       "      <th></th>\n",
       "      <th></th>\n",
       "      <th></th>\n",
       "    </tr>\n",
       "  </thead>\n",
       "  <tbody>\n",
       "    <tr>\n",
       "      <th>1</th>\n",
       "      <td>2017-08-12 00:00:00.0</td>\n",
       "      <td>0.0</td>\n",
       "      <td>0.0</td>\n",
       "      <td>221.68</td>\n",
       "      <td>K6622</td>\n",
       "      <td>1</td>\n",
       "      <td>2.0</td>\n",
       "      <td>0.000000</td>\n",
       "      <td>238.38</td>\n",
       "      <td>2.0</td>\n",
       "      <td>0.00</td>\n",
       "      <td>98.0</td>\n",
       "      <td>0.0</td>\n",
       "      <td>49.0</td>\n",
       "      <td>0.0</td>\n",
       "      <td>1</td>\n",
       "      <td>1.0</td>\n",
       "      <td>222.69</td>\n",
       "    </tr>\n",
       "    <tr>\n",
       "      <th>2</th>\n",
       "      <td>2017-02-03 00:00:00.0</td>\n",
       "      <td>0.0</td>\n",
       "      <td>0.0</td>\n",
       "      <td>151.36</td>\n",
       "      <td>K6512</td>\n",
       "      <td>2</td>\n",
       "      <td>2.0</td>\n",
       "      <td>210.530000</td>\n",
       "      <td>0.00</td>\n",
       "      <td>5.0</td>\n",
       "      <td>0.00</td>\n",
       "      <td>109.0</td>\n",
       "      <td>2.0</td>\n",
       "      <td>51.0</td>\n",
       "      <td>0.0</td>\n",
       "      <td>2</td>\n",
       "      <td>1.0</td>\n",
       "      <td>212.72</td>\n",
       "    </tr>\n",
       "    <tr>\n",
       "      <th>3</th>\n",
       "      <td>2017-02-17 00:00:00.0</td>\n",
       "      <td>0.0</td>\n",
       "      <td>0.0</td>\n",
       "      <td>48.84</td>\n",
       "      <td>K6512</td>\n",
       "      <td>3</td>\n",
       "      <td>1.0</td>\n",
       "      <td>423.156043</td>\n",
       "      <td>0.00</td>\n",
       "      <td>2.0</td>\n",
       "      <td>0.00</td>\n",
       "      <td>748.0</td>\n",
       "      <td>0.0</td>\n",
       "      <td>48.0</td>\n",
       "      <td>0.0</td>\n",
       "      <td>3</td>\n",
       "      <td>1.0</td>\n",
       "      <td>56.84</td>\n",
       "    </tr>\n",
       "    <tr>\n",
       "      <th>4</th>\n",
       "      <td>2017-09-18 00:00:00.0</td>\n",
       "      <td>0.0</td>\n",
       "      <td>0.0</td>\n",
       "      <td>413.15</td>\n",
       "      <td>K6622</td>\n",
       "      <td>4</td>\n",
       "      <td>1.0</td>\n",
       "      <td>423.156043</td>\n",
       "      <td>54.14</td>\n",
       "      <td>3.0</td>\n",
       "      <td>1.00</td>\n",
       "      <td>8.0</td>\n",
       "      <td>0.0</td>\n",
       "      <td>27.0</td>\n",
       "      <td>0.0</td>\n",
       "      <td>4</td>\n",
       "      <td>1.0</td>\n",
       "      <td>463.15</td>\n",
       "    </tr>\n",
       "    <tr>\n",
       "      <th>5</th>\n",
       "      <td>2017-07-22 00:00:00.0</td>\n",
       "      <td>0.0</td>\n",
       "      <td>0.0</td>\n",
       "      <td>125.83</td>\n",
       "      <td>K6512</td>\n",
       "      <td>5</td>\n",
       "      <td>2.0</td>\n",
       "      <td>20.000000</td>\n",
       "      <td>83.00</td>\n",
       "      <td>6.0</td>\n",
       "      <td>0.36</td>\n",
       "      <td>324.0</td>\n",
       "      <td>0.0</td>\n",
       "      <td>40.0</td>\n",
       "      <td>0.0</td>\n",
       "      <td>1</td>\n",
       "      <td>1.0</td>\n",
       "      <td>146.09</td>\n",
       "    </tr>\n",
       "  </tbody>\n",
       "</table>\n",
       "</div>"
      ],
      "text/plain": [
       "                       keydate  ct090  ap090   c0001  c0039 c0044  d0031  \\\n",
       "case_id                                                                    \n",
       "1        2017-08-12 00:00:00.0    0.0    0.0  221.68  K6622     1    2.0   \n",
       "2        2017-02-03 00:00:00.0    0.0    0.0  151.36  K6512     2    2.0   \n",
       "3        2017-02-17 00:00:00.0    0.0    0.0   48.84  K6512     3    1.0   \n",
       "4        2017-09-18 00:00:00.0    0.0    0.0  413.15  K6622     4    1.0   \n",
       "5        2017-07-22 00:00:00.0    0.0    0.0  125.83  K6512     5    2.0   \n",
       "\n",
       "              b0007   d0009  c0031  a8404  c0019  d0027  c9008  d2112 d0012  \\\n",
       "case_id                                                                       \n",
       "1          0.000000  238.38    2.0   0.00   98.0    0.0   49.0    0.0     1   \n",
       "2        210.530000    0.00    5.0   0.00  109.0    2.0   51.0    0.0     2   \n",
       "3        423.156043    0.00    2.0   0.00  748.0    0.0   48.0    0.0     3   \n",
       "4        423.156043   54.14    3.0   1.00    8.0    0.0   27.0    0.0     4   \n",
       "5         20.000000   83.00    6.0   0.36  324.0    0.0   40.0    0.0     1   \n",
       "\n",
       "         d1205   c0015  \n",
       "case_id                 \n",
       "1          1.0  222.69  \n",
       "2          1.0  212.72  \n",
       "3          1.0   56.84  \n",
       "4          1.0  463.15  \n",
       "5          1.0  146.09  "
      ]
     },
     "execution_count": 65,
     "metadata": {},
     "output_type": "execute_result"
    }
   ],
   "source": [
    "df_data.head()"
   ]
  },
  {
   "cell_type": "code",
   "execution_count": 66,
   "metadata": {},
   "outputs": [
    {
     "data": {
      "text/plain": [
       "keydate     object\n",
       "ct090      float64\n",
       "ap090      float64\n",
       "c0001      float64\n",
       "c0039       object\n",
       "c0044       object\n",
       "d0031      float64\n",
       "b0007      float64\n",
       "d0009      float64\n",
       "c0031      float64\n",
       "a8404      float64\n",
       "c0019      float64\n",
       "d0027      float64\n",
       "c9008      float64\n",
       "d2112      float64\n",
       "d0012       object\n",
       "d1205      float64\n",
       "c0015      float64\n",
       "dtype: object"
      ]
     },
     "execution_count": 66,
     "metadata": {},
     "output_type": "execute_result"
    }
   ],
   "source": [
    "df_data.dtypes"
   ]
  },
  {
   "cell_type": "code",
   "execution_count": 67,
   "metadata": {},
   "outputs": [
    {
     "data": {
      "text/plain": [
       "Index(['keydate', 'ct090', 'ap090', 'c0001', 'c0039', 'c0044', 'd0031',\n",
       "       'b0007', 'd0009', 'c0031', 'a8404', 'c0019', 'd0027', 'c9008', 'd2112',\n",
       "       'd0012', 'd1205', 'c0015'],\n",
       "      dtype='object')"
      ]
     },
     "execution_count": 67,
     "metadata": {},
     "output_type": "execute_result"
    }
   ],
   "source": [
    "df_data.columns"
   ]
  },
  {
   "cell_type": "code",
   "execution_count": 68,
   "metadata": {},
   "outputs": [
    {
     "data": {
      "text/plain": [
       "K6512    17329\n",
       "K6622     9916\n",
       "K6619     1391\n",
       "K6419      909\n",
       "K6499      410\n",
       "K6491       24\n",
       "K6420       15\n",
       "K6511        6\n",
       "Name: c0039, dtype: int64"
      ]
     },
     "execution_count": 68,
     "metadata": {},
     "output_type": "execute_result"
    }
   ],
   "source": [
    "df_data['c0039'].value_counts()"
   ]
  },
  {
   "cell_type": "code",
   "execution_count": 69,
   "metadata": {},
   "outputs": [],
   "source": [
    "categorical_values = ['c0039']\n",
    "numerical_values = ['c0001', 'd0031','b0007', 'd0009', 'c0031','a8404', \n",
    "                    'c0019', 'd0027', 'c9008', 'd2112','d1205', 'c0015']\n",
    "target = ['ct090']"
   ]
  },
  {
   "cell_type": "code",
   "execution_count": 70,
   "metadata": {},
   "outputs": [],
   "source": [
    "df_model_class = pd.concat([df_data[target], df_data[categorical_values], df_data[numerical_values]], axis=1)"
   ]
  },
  {
   "cell_type": "code",
   "execution_count": 71,
   "metadata": {},
   "outputs": [
    {
     "data": {
      "text/html": [
       "<div>\n",
       "<style scoped>\n",
       "    .dataframe tbody tr th:only-of-type {\n",
       "        vertical-align: middle;\n",
       "    }\n",
       "\n",
       "    .dataframe tbody tr th {\n",
       "        vertical-align: top;\n",
       "    }\n",
       "\n",
       "    .dataframe thead th {\n",
       "        text-align: right;\n",
       "    }\n",
       "</style>\n",
       "<table border=\"1\" class=\"dataframe\">\n",
       "  <thead>\n",
       "    <tr style=\"text-align: right;\">\n",
       "      <th></th>\n",
       "      <th>ct090</th>\n",
       "      <th>c0039</th>\n",
       "      <th>c0001</th>\n",
       "      <th>d0031</th>\n",
       "      <th>b0007</th>\n",
       "      <th>d0009</th>\n",
       "      <th>c0031</th>\n",
       "      <th>a8404</th>\n",
       "      <th>c0019</th>\n",
       "      <th>d0027</th>\n",
       "      <th>c9008</th>\n",
       "      <th>d2112</th>\n",
       "      <th>d1205</th>\n",
       "      <th>c0015</th>\n",
       "    </tr>\n",
       "    <tr>\n",
       "      <th>case_id</th>\n",
       "      <th></th>\n",
       "      <th></th>\n",
       "      <th></th>\n",
       "      <th></th>\n",
       "      <th></th>\n",
       "      <th></th>\n",
       "      <th></th>\n",
       "      <th></th>\n",
       "      <th></th>\n",
       "      <th></th>\n",
       "      <th></th>\n",
       "      <th></th>\n",
       "      <th></th>\n",
       "      <th></th>\n",
       "    </tr>\n",
       "  </thead>\n",
       "  <tbody>\n",
       "    <tr>\n",
       "      <th>1</th>\n",
       "      <td>0.0</td>\n",
       "      <td>K6622</td>\n",
       "      <td>221.68</td>\n",
       "      <td>2.0</td>\n",
       "      <td>0.000000</td>\n",
       "      <td>238.38</td>\n",
       "      <td>2.0</td>\n",
       "      <td>0.00</td>\n",
       "      <td>98.0</td>\n",
       "      <td>0.0</td>\n",
       "      <td>49.0</td>\n",
       "      <td>0.0</td>\n",
       "      <td>1.0</td>\n",
       "      <td>222.69</td>\n",
       "    </tr>\n",
       "    <tr>\n",
       "      <th>2</th>\n",
       "      <td>0.0</td>\n",
       "      <td>K6512</td>\n",
       "      <td>151.36</td>\n",
       "      <td>2.0</td>\n",
       "      <td>210.530000</td>\n",
       "      <td>0.00</td>\n",
       "      <td>5.0</td>\n",
       "      <td>0.00</td>\n",
       "      <td>109.0</td>\n",
       "      <td>2.0</td>\n",
       "      <td>51.0</td>\n",
       "      <td>0.0</td>\n",
       "      <td>1.0</td>\n",
       "      <td>212.72</td>\n",
       "    </tr>\n",
       "    <tr>\n",
       "      <th>3</th>\n",
       "      <td>0.0</td>\n",
       "      <td>K6512</td>\n",
       "      <td>48.84</td>\n",
       "      <td>1.0</td>\n",
       "      <td>423.156043</td>\n",
       "      <td>0.00</td>\n",
       "      <td>2.0</td>\n",
       "      <td>0.00</td>\n",
       "      <td>748.0</td>\n",
       "      <td>0.0</td>\n",
       "      <td>48.0</td>\n",
       "      <td>0.0</td>\n",
       "      <td>1.0</td>\n",
       "      <td>56.84</td>\n",
       "    </tr>\n",
       "    <tr>\n",
       "      <th>4</th>\n",
       "      <td>0.0</td>\n",
       "      <td>K6622</td>\n",
       "      <td>413.15</td>\n",
       "      <td>1.0</td>\n",
       "      <td>423.156043</td>\n",
       "      <td>54.14</td>\n",
       "      <td>3.0</td>\n",
       "      <td>1.00</td>\n",
       "      <td>8.0</td>\n",
       "      <td>0.0</td>\n",
       "      <td>27.0</td>\n",
       "      <td>0.0</td>\n",
       "      <td>1.0</td>\n",
       "      <td>463.15</td>\n",
       "    </tr>\n",
       "    <tr>\n",
       "      <th>5</th>\n",
       "      <td>0.0</td>\n",
       "      <td>K6512</td>\n",
       "      <td>125.83</td>\n",
       "      <td>2.0</td>\n",
       "      <td>20.000000</td>\n",
       "      <td>83.00</td>\n",
       "      <td>6.0</td>\n",
       "      <td>0.36</td>\n",
       "      <td>324.0</td>\n",
       "      <td>0.0</td>\n",
       "      <td>40.0</td>\n",
       "      <td>0.0</td>\n",
       "      <td>1.0</td>\n",
       "      <td>146.09</td>\n",
       "    </tr>\n",
       "  </tbody>\n",
       "</table>\n",
       "</div>"
      ],
      "text/plain": [
       "         ct090  c0039   c0001  d0031       b0007   d0009  c0031  a8404  c0019  \\\n",
       "case_id                                                                         \n",
       "1          0.0  K6622  221.68    2.0    0.000000  238.38    2.0   0.00   98.0   \n",
       "2          0.0  K6512  151.36    2.0  210.530000    0.00    5.0   0.00  109.0   \n",
       "3          0.0  K6512   48.84    1.0  423.156043    0.00    2.0   0.00  748.0   \n",
       "4          0.0  K6622  413.15    1.0  423.156043   54.14    3.0   1.00    8.0   \n",
       "5          0.0  K6512  125.83    2.0   20.000000   83.00    6.0   0.36  324.0   \n",
       "\n",
       "         d0027  c9008  d2112  d1205   c0015  \n",
       "case_id                                      \n",
       "1          0.0   49.0    0.0    1.0  222.69  \n",
       "2          2.0   51.0    0.0    1.0  212.72  \n",
       "3          0.0   48.0    0.0    1.0   56.84  \n",
       "4          0.0   27.0    0.0    1.0  463.15  \n",
       "5          0.0   40.0    0.0    1.0  146.09  "
      ]
     },
     "execution_count": 71,
     "metadata": {},
     "output_type": "execute_result"
    }
   ],
   "source": [
    "df_model_class.head()"
   ]
  },
  {
   "cell_type": "code",
   "execution_count": 72,
   "metadata": {},
   "outputs": [
    {
     "data": {
      "text/html": [
       "<div>\n",
       "<style scoped>\n",
       "    .dataframe tbody tr th:only-of-type {\n",
       "        vertical-align: middle;\n",
       "    }\n",
       "\n",
       "    .dataframe tbody tr th {\n",
       "        vertical-align: top;\n",
       "    }\n",
       "\n",
       "    .dataframe thead th {\n",
       "        text-align: right;\n",
       "    }\n",
       "</style>\n",
       "<table border=\"1\" class=\"dataframe\">\n",
       "  <thead>\n",
       "    <tr style=\"text-align: right;\">\n",
       "      <th></th>\n",
       "      <th>c0001</th>\n",
       "      <th>d0031</th>\n",
       "      <th>b0007</th>\n",
       "      <th>d0009</th>\n",
       "      <th>c0031</th>\n",
       "      <th>a8404</th>\n",
       "      <th>c0019</th>\n",
       "      <th>d0027</th>\n",
       "      <th>c9008</th>\n",
       "      <th>d2112</th>\n",
       "      <th>d1205</th>\n",
       "      <th>c0015</th>\n",
       "    </tr>\n",
       "    <tr>\n",
       "      <th>case_id</th>\n",
       "      <th></th>\n",
       "      <th></th>\n",
       "      <th></th>\n",
       "      <th></th>\n",
       "      <th></th>\n",
       "      <th></th>\n",
       "      <th></th>\n",
       "      <th></th>\n",
       "      <th></th>\n",
       "      <th></th>\n",
       "      <th></th>\n",
       "      <th></th>\n",
       "    </tr>\n",
       "  </thead>\n",
       "  <tbody>\n",
       "    <tr>\n",
       "      <th>1</th>\n",
       "      <td>-0.253936</td>\n",
       "      <td>0.272246</td>\n",
       "      <td>-7.105373e-01</td>\n",
       "      <td>-0.163276</td>\n",
       "      <td>-0.508093</td>\n",
       "      <td>-0.912932</td>\n",
       "      <td>-0.035298</td>\n",
       "      <td>-0.338613</td>\n",
       "      <td>0.531094</td>\n",
       "      <td>-0.527438</td>\n",
       "      <td>0.111787</td>\n",
       "      <td>-0.312843</td>\n",
       "    </tr>\n",
       "    <tr>\n",
       "      <th>2</th>\n",
       "      <td>-0.310283</td>\n",
       "      <td>0.272246</td>\n",
       "      <td>-3.570284e-01</td>\n",
       "      <td>-0.286181</td>\n",
       "      <td>0.886617</td>\n",
       "      <td>-0.912932</td>\n",
       "      <td>0.020579</td>\n",
       "      <td>1.092953</td>\n",
       "      <td>0.690568</td>\n",
       "      <td>-0.527438</td>\n",
       "      <td>0.111787</td>\n",
       "      <td>-0.320990</td>\n",
       "    </tr>\n",
       "    <tr>\n",
       "      <th>3</th>\n",
       "      <td>-0.392431</td>\n",
       "      <td>-0.480507</td>\n",
       "      <td>9.544793e-17</td>\n",
       "      <td>-0.286181</td>\n",
       "      <td>-0.508093</td>\n",
       "      <td>-0.912932</td>\n",
       "      <td>3.266516</td>\n",
       "      <td>-0.338613</td>\n",
       "      <td>0.451356</td>\n",
       "      <td>-0.527438</td>\n",
       "      <td>0.111787</td>\n",
       "      <td>-0.448367</td>\n",
       "    </tr>\n",
       "    <tr>\n",
       "      <th>4</th>\n",
       "      <td>-0.100514</td>\n",
       "      <td>-0.480507</td>\n",
       "      <td>9.544793e-17</td>\n",
       "      <td>-0.258267</td>\n",
       "      <td>-0.043190</td>\n",
       "      <td>2.310553</td>\n",
       "      <td>-0.492472</td>\n",
       "      <td>-0.338613</td>\n",
       "      <td>-1.223129</td>\n",
       "      <td>-0.527438</td>\n",
       "      <td>0.111787</td>\n",
       "      <td>-0.116350</td>\n",
       "    </tr>\n",
       "    <tr>\n",
       "      <th>5</th>\n",
       "      <td>-0.330740</td>\n",
       "      <td>0.272246</td>\n",
       "      <td>-6.769545e-01</td>\n",
       "      <td>-0.243388</td>\n",
       "      <td>1.351520</td>\n",
       "      <td>0.247523</td>\n",
       "      <td>1.112717</td>\n",
       "      <td>-0.338613</td>\n",
       "      <td>-0.186543</td>\n",
       "      <td>-0.527438</td>\n",
       "      <td>0.111787</td>\n",
       "      <td>-0.375436</td>\n",
       "    </tr>\n",
       "    <tr>\n",
       "      <th>...</th>\n",
       "      <td>...</td>\n",
       "      <td>...</td>\n",
       "      <td>...</td>\n",
       "      <td>...</td>\n",
       "      <td>...</td>\n",
       "      <td>...</td>\n",
       "      <td>...</td>\n",
       "      <td>...</td>\n",
       "      <td>...</td>\n",
       "      <td>...</td>\n",
       "      <td>...</td>\n",
       "      <td>...</td>\n",
       "    </tr>\n",
       "    <tr>\n",
       "      <th>29996</th>\n",
       "      <td>-0.082637</td>\n",
       "      <td>0.272246</td>\n",
       "      <td>9.327005e-01</td>\n",
       "      <td>-0.161379</td>\n",
       "      <td>-0.043190</td>\n",
       "      <td>2.310553</td>\n",
       "      <td>-0.512791</td>\n",
       "      <td>-0.338613</td>\n",
       "      <td>-0.186543</td>\n",
       "      <td>1.148741</td>\n",
       "      <td>0.111787</td>\n",
       "      <td>-0.138977</td>\n",
       "    </tr>\n",
       "    <tr>\n",
       "      <th>29997</th>\n",
       "      <td>-0.155867</td>\n",
       "      <td>0.272246</td>\n",
       "      <td>9.544793e-17</td>\n",
       "      <td>12.814110</td>\n",
       "      <td>-0.508093</td>\n",
       "      <td>-0.042591</td>\n",
       "      <td>0.030738</td>\n",
       "      <td>0.377170</td>\n",
       "      <td>-0.186543</td>\n",
       "      <td>-0.527438</td>\n",
       "      <td>0.111787</td>\n",
       "      <td>-0.190442</td>\n",
       "    </tr>\n",
       "    <tr>\n",
       "      <th>29998</th>\n",
       "      <td>-0.097245</td>\n",
       "      <td>-0.480507</td>\n",
       "      <td>9.544793e-17</td>\n",
       "      <td>-0.286181</td>\n",
       "      <td>-0.043190</td>\n",
       "      <td>-0.622818</td>\n",
       "      <td>-0.009900</td>\n",
       "      <td>-0.338613</td>\n",
       "      <td>-0.106805</td>\n",
       "      <td>-0.527438</td>\n",
       "      <td>0.111787</td>\n",
       "      <td>-0.072796</td>\n",
       "    </tr>\n",
       "    <tr>\n",
       "      <th>29999</th>\n",
       "      <td>-0.007685</td>\n",
       "      <td>-0.480507</td>\n",
       "      <td>-5.394331e-01</td>\n",
       "      <td>-0.286181</td>\n",
       "      <td>-0.508093</td>\n",
       "      <td>-0.912932</td>\n",
       "      <td>0.477753</td>\n",
       "      <td>-0.338613</td>\n",
       "      <td>0.929780</td>\n",
       "      <td>-0.527438</td>\n",
       "      <td>0.111787</td>\n",
       "      <td>-0.050284</td>\n",
       "    </tr>\n",
       "    <tr>\n",
       "      <th>30000</th>\n",
       "      <td>-0.291957</td>\n",
       "      <td>-0.480507</td>\n",
       "      <td>-6.154645e-01</td>\n",
       "      <td>-0.286181</td>\n",
       "      <td>-0.972996</td>\n",
       "      <td>-0.912932</td>\n",
       "      <td>-0.497552</td>\n",
       "      <td>-0.338613</td>\n",
       "      <td>-0.744705</td>\n",
       "      <td>0.031289</td>\n",
       "      <td>0.111787</td>\n",
       "      <td>-0.352099</td>\n",
       "    </tr>\n",
       "  </tbody>\n",
       "</table>\n",
       "<p>30000 rows × 12 columns</p>\n",
       "</div>"
      ],
      "text/plain": [
       "            c0001     d0031         b0007      d0009     c0031     a8404  \\\n",
       "case_id                                                                    \n",
       "1       -0.253936  0.272246 -7.105373e-01  -0.163276 -0.508093 -0.912932   \n",
       "2       -0.310283  0.272246 -3.570284e-01  -0.286181  0.886617 -0.912932   \n",
       "3       -0.392431 -0.480507  9.544793e-17  -0.286181 -0.508093 -0.912932   \n",
       "4       -0.100514 -0.480507  9.544793e-17  -0.258267 -0.043190  2.310553   \n",
       "5       -0.330740  0.272246 -6.769545e-01  -0.243388  1.351520  0.247523   \n",
       "...           ...       ...           ...        ...       ...       ...   \n",
       "29996   -0.082637  0.272246  9.327005e-01  -0.161379 -0.043190  2.310553   \n",
       "29997   -0.155867  0.272246  9.544793e-17  12.814110 -0.508093 -0.042591   \n",
       "29998   -0.097245 -0.480507  9.544793e-17  -0.286181 -0.043190 -0.622818   \n",
       "29999   -0.007685 -0.480507 -5.394331e-01  -0.286181 -0.508093 -0.912932   \n",
       "30000   -0.291957 -0.480507 -6.154645e-01  -0.286181 -0.972996 -0.912932   \n",
       "\n",
       "            c0019     d0027     c9008     d2112     d1205     c0015  \n",
       "case_id                                                              \n",
       "1       -0.035298 -0.338613  0.531094 -0.527438  0.111787 -0.312843  \n",
       "2        0.020579  1.092953  0.690568 -0.527438  0.111787 -0.320990  \n",
       "3        3.266516 -0.338613  0.451356 -0.527438  0.111787 -0.448367  \n",
       "4       -0.492472 -0.338613 -1.223129 -0.527438  0.111787 -0.116350  \n",
       "5        1.112717 -0.338613 -0.186543 -0.527438  0.111787 -0.375436  \n",
       "...           ...       ...       ...       ...       ...       ...  \n",
       "29996   -0.512791 -0.338613 -0.186543  1.148741  0.111787 -0.138977  \n",
       "29997    0.030738  0.377170 -0.186543 -0.527438  0.111787 -0.190442  \n",
       "29998   -0.009900 -0.338613 -0.106805 -0.527438  0.111787 -0.072796  \n",
       "29999    0.477753 -0.338613  0.929780 -0.527438  0.111787 -0.050284  \n",
       "30000   -0.497552 -0.338613 -0.744705  0.031289  0.111787 -0.352099  \n",
       "\n",
       "[30000 rows x 12 columns]"
      ]
     },
     "execution_count": 72,
     "metadata": {},
     "output_type": "execute_result"
    }
   ],
   "source": [
    "from sklearn.preprocessing import StandardScaler\n",
    "scaler = StandardScaler()\n",
    "\n",
    "df_model_class[numerical_values] = scaler.fit_transform(df_model_class[numerical_values])\n",
    "df_model_class[numerical_values]"
   ]
  },
  {
   "cell_type": "code",
   "execution_count": 73,
   "metadata": {},
   "outputs": [
    {
     "data": {
      "text/html": [
       "<div>\n",
       "<style scoped>\n",
       "    .dataframe tbody tr th:only-of-type {\n",
       "        vertical-align: middle;\n",
       "    }\n",
       "\n",
       "    .dataframe tbody tr th {\n",
       "        vertical-align: top;\n",
       "    }\n",
       "\n",
       "    .dataframe thead th {\n",
       "        text-align: right;\n",
       "    }\n",
       "</style>\n",
       "<table border=\"1\" class=\"dataframe\">\n",
       "  <thead>\n",
       "    <tr style=\"text-align: right;\">\n",
       "      <th></th>\n",
       "      <th>ct090</th>\n",
       "      <th>c0001</th>\n",
       "      <th>d0031</th>\n",
       "      <th>b0007</th>\n",
       "      <th>d0009</th>\n",
       "      <th>c0031</th>\n",
       "      <th>a8404</th>\n",
       "      <th>c0019</th>\n",
       "      <th>d0027</th>\n",
       "      <th>c9008</th>\n",
       "      <th>d2112</th>\n",
       "      <th>d1205</th>\n",
       "      <th>c0015</th>\n",
       "      <th>c0039_K6420</th>\n",
       "      <th>c0039_K6491</th>\n",
       "      <th>c0039_K6499</th>\n",
       "      <th>c0039_K6511</th>\n",
       "      <th>c0039_K6512</th>\n",
       "      <th>c0039_K6619</th>\n",
       "      <th>c0039_K6622</th>\n",
       "    </tr>\n",
       "    <tr>\n",
       "      <th>case_id</th>\n",
       "      <th></th>\n",
       "      <th></th>\n",
       "      <th></th>\n",
       "      <th></th>\n",
       "      <th></th>\n",
       "      <th></th>\n",
       "      <th></th>\n",
       "      <th></th>\n",
       "      <th></th>\n",
       "      <th></th>\n",
       "      <th></th>\n",
       "      <th></th>\n",
       "      <th></th>\n",
       "      <th></th>\n",
       "      <th></th>\n",
       "      <th></th>\n",
       "      <th></th>\n",
       "      <th></th>\n",
       "      <th></th>\n",
       "      <th></th>\n",
       "    </tr>\n",
       "  </thead>\n",
       "  <tbody>\n",
       "    <tr>\n",
       "      <th>1</th>\n",
       "      <td>0.0</td>\n",
       "      <td>-0.253936</td>\n",
       "      <td>0.272246</td>\n",
       "      <td>-7.105373e-01</td>\n",
       "      <td>-0.163276</td>\n",
       "      <td>-0.508093</td>\n",
       "      <td>-0.912932</td>\n",
       "      <td>-0.035298</td>\n",
       "      <td>-0.338613</td>\n",
       "      <td>0.531094</td>\n",
       "      <td>-0.527438</td>\n",
       "      <td>0.111787</td>\n",
       "      <td>-0.312843</td>\n",
       "      <td>0</td>\n",
       "      <td>0</td>\n",
       "      <td>0</td>\n",
       "      <td>0</td>\n",
       "      <td>0</td>\n",
       "      <td>0</td>\n",
       "      <td>1</td>\n",
       "    </tr>\n",
       "    <tr>\n",
       "      <th>2</th>\n",
       "      <td>0.0</td>\n",
       "      <td>-0.310283</td>\n",
       "      <td>0.272246</td>\n",
       "      <td>-3.570284e-01</td>\n",
       "      <td>-0.286181</td>\n",
       "      <td>0.886617</td>\n",
       "      <td>-0.912932</td>\n",
       "      <td>0.020579</td>\n",
       "      <td>1.092953</td>\n",
       "      <td>0.690568</td>\n",
       "      <td>-0.527438</td>\n",
       "      <td>0.111787</td>\n",
       "      <td>-0.320990</td>\n",
       "      <td>0</td>\n",
       "      <td>0</td>\n",
       "      <td>0</td>\n",
       "      <td>0</td>\n",
       "      <td>1</td>\n",
       "      <td>0</td>\n",
       "      <td>0</td>\n",
       "    </tr>\n",
       "    <tr>\n",
       "      <th>3</th>\n",
       "      <td>0.0</td>\n",
       "      <td>-0.392431</td>\n",
       "      <td>-0.480507</td>\n",
       "      <td>9.544793e-17</td>\n",
       "      <td>-0.286181</td>\n",
       "      <td>-0.508093</td>\n",
       "      <td>-0.912932</td>\n",
       "      <td>3.266516</td>\n",
       "      <td>-0.338613</td>\n",
       "      <td>0.451356</td>\n",
       "      <td>-0.527438</td>\n",
       "      <td>0.111787</td>\n",
       "      <td>-0.448367</td>\n",
       "      <td>0</td>\n",
       "      <td>0</td>\n",
       "      <td>0</td>\n",
       "      <td>0</td>\n",
       "      <td>1</td>\n",
       "      <td>0</td>\n",
       "      <td>0</td>\n",
       "    </tr>\n",
       "    <tr>\n",
       "      <th>4</th>\n",
       "      <td>0.0</td>\n",
       "      <td>-0.100514</td>\n",
       "      <td>-0.480507</td>\n",
       "      <td>9.544793e-17</td>\n",
       "      <td>-0.258267</td>\n",
       "      <td>-0.043190</td>\n",
       "      <td>2.310553</td>\n",
       "      <td>-0.492472</td>\n",
       "      <td>-0.338613</td>\n",
       "      <td>-1.223129</td>\n",
       "      <td>-0.527438</td>\n",
       "      <td>0.111787</td>\n",
       "      <td>-0.116350</td>\n",
       "      <td>0</td>\n",
       "      <td>0</td>\n",
       "      <td>0</td>\n",
       "      <td>0</td>\n",
       "      <td>0</td>\n",
       "      <td>0</td>\n",
       "      <td>1</td>\n",
       "    </tr>\n",
       "    <tr>\n",
       "      <th>5</th>\n",
       "      <td>0.0</td>\n",
       "      <td>-0.330740</td>\n",
       "      <td>0.272246</td>\n",
       "      <td>-6.769545e-01</td>\n",
       "      <td>-0.243388</td>\n",
       "      <td>1.351520</td>\n",
       "      <td>0.247523</td>\n",
       "      <td>1.112717</td>\n",
       "      <td>-0.338613</td>\n",
       "      <td>-0.186543</td>\n",
       "      <td>-0.527438</td>\n",
       "      <td>0.111787</td>\n",
       "      <td>-0.375436</td>\n",
       "      <td>0</td>\n",
       "      <td>0</td>\n",
       "      <td>0</td>\n",
       "      <td>0</td>\n",
       "      <td>1</td>\n",
       "      <td>0</td>\n",
       "      <td>0</td>\n",
       "    </tr>\n",
       "  </tbody>\n",
       "</table>\n",
       "</div>"
      ],
      "text/plain": [
       "         ct090     c0001     d0031         b0007     d0009     c0031  \\\n",
       "case_id                                                                \n",
       "1          0.0 -0.253936  0.272246 -7.105373e-01 -0.163276 -0.508093   \n",
       "2          0.0 -0.310283  0.272246 -3.570284e-01 -0.286181  0.886617   \n",
       "3          0.0 -0.392431 -0.480507  9.544793e-17 -0.286181 -0.508093   \n",
       "4          0.0 -0.100514 -0.480507  9.544793e-17 -0.258267 -0.043190   \n",
       "5          0.0 -0.330740  0.272246 -6.769545e-01 -0.243388  1.351520   \n",
       "\n",
       "            a8404     c0019     d0027     c9008     d2112     d1205     c0015  \\\n",
       "case_id                                                                         \n",
       "1       -0.912932 -0.035298 -0.338613  0.531094 -0.527438  0.111787 -0.312843   \n",
       "2       -0.912932  0.020579  1.092953  0.690568 -0.527438  0.111787 -0.320990   \n",
       "3       -0.912932  3.266516 -0.338613  0.451356 -0.527438  0.111787 -0.448367   \n",
       "4        2.310553 -0.492472 -0.338613 -1.223129 -0.527438  0.111787 -0.116350   \n",
       "5        0.247523  1.112717 -0.338613 -0.186543 -0.527438  0.111787 -0.375436   \n",
       "\n",
       "         c0039_K6420  c0039_K6491  c0039_K6499  c0039_K6511  c0039_K6512  \\\n",
       "case_id                                                                    \n",
       "1                  0            0            0            0            0   \n",
       "2                  0            0            0            0            1   \n",
       "3                  0            0            0            0            1   \n",
       "4                  0            0            0            0            0   \n",
       "5                  0            0            0            0            1   \n",
       "\n",
       "         c0039_K6619  c0039_K6622  \n",
       "case_id                            \n",
       "1                  0            1  \n",
       "2                  0            0  \n",
       "3                  0            0  \n",
       "4                  0            1  \n",
       "5                  0            0  "
      ]
     },
     "execution_count": 73,
     "metadata": {},
     "output_type": "execute_result"
    }
   ],
   "source": [
    "df_model_class = pd.get_dummies(df_model_class, columns = categorical_values, drop_first=True)\n",
    "df_model_class.head()"
   ]
  },
  {
   "cell_type": "code",
   "execution_count": 74,
   "metadata": {},
   "outputs": [
    {
     "data": {
      "text/plain": [
       "Index(['ct090', 'c0001', 'd0031', 'b0007', 'd0009', 'c0031', 'a8404', 'c0019',\n",
       "       'd0027', 'c9008', 'd2112', 'd1205', 'c0015', 'c0039_K6420',\n",
       "       'c0039_K6491', 'c0039_K6499', 'c0039_K6511', 'c0039_K6512',\n",
       "       'c0039_K6619', 'c0039_K6622'],\n",
       "      dtype='object')"
      ]
     },
     "execution_count": 74,
     "metadata": {},
     "output_type": "execute_result"
    }
   ],
   "source": [
    "df_model_class.columns"
   ]
  },
  {
   "cell_type": "code",
   "execution_count": 75,
   "metadata": {},
   "outputs": [
    {
     "data": {
      "text/plain": [
       "<AxesSubplot:>"
      ]
     },
     "execution_count": 75,
     "metadata": {},
     "output_type": "execute_result"
    },
    {
     "data": {
      "image/png": "[encoded data removed]",
      "text/plain": [
       "<Figure size 432x288 with 2 Axes>"
      ]
     },
     "metadata": {
      "needs_background": "light"
     },
     "output_type": "display_data"
    }
   ],
   "source": [
    "sns.heatmap(df_model_class.corr())"
   ]
  },
  {
   "cell_type": "markdown",
   "metadata": {},
   "source": [
    "We can detect on the heatmap, some features with high correlation and we want to avoid multicollinearity because if not, our model will be less precise. "
   ]
  },
  {
   "cell_type": "code",
   "execution_count": 76,
   "metadata": {},
   "outputs": [],
   "source": [
    "df_model_class = df_model_class.drop(labels=[\"c0001\",'c0039_K6491','c0039_K6511', 'c0039_K6512'], axis=1)"
   ]
  },
  {
   "cell_type": "markdown",
   "metadata": {},
   "source": [
    "## Runing the Logistic Regression Model"
   ]
  },
  {
   "cell_type": "markdown",
   "metadata": {},
   "source": [
    "The following steps of the code are the modeling part. First, we need to perform the train-test split model, in order to split our data for training (75%) and other for testing (25%). \n",
    "\n",
    "Once that is done, we are going to run the Logistic Regression Model only for our Train set of features. "
   ]
  },
  {
   "cell_type": "code",
   "execution_count": 77,
   "metadata": {},
   "outputs": [],
   "source": [
    "X = df_model_class.drop(\"ct090\", axis = 1)\n",
    "variables = X.columns\n",
    "X = X.values\n",
    "\n",
    "y = df_model_class[\"ct090\"]\n",
    "\n",
    "X_train, X_test, y_train, y_test = train_test_split(\n",
    "    X, y, random_state=0, test_size=0.25, stratify=y)"
   ]
  },
  {
   "cell_type": "code",
   "execution_count": 78,
   "metadata": {},
   "outputs": [],
   "source": [
    "from sklearn.linear_model import LogisticRegression\n",
    "from sklearn.metrics import classification_report, confusion_matrix\n",
    "\n",
    "clf = LogisticRegression(solver='liblinear', random_state=0).fit(X_train, y_train)"
   ]
  },
  {
   "cell_type": "code",
   "execution_count": 79,
   "metadata": {},
   "outputs": [
    {
     "data": {
      "text/plain": [
       "0.8312444444444445"
      ]
     },
     "execution_count": 79,
     "metadata": {},
     "output_type": "execute_result"
    }
   ],
   "source": [
    "clf.score(X_train, y_train) # Score of our model"
   ]
  },
  {
   "cell_type": "code",
   "execution_count": 80,
   "metadata": {},
   "outputs": [
    {
     "data": {
      "text/plain": [
       "array([0., 1.])"
      ]
     },
     "execution_count": 80,
     "metadata": {},
     "output_type": "execute_result"
    }
   ],
   "source": [
    "clf.classes_ # Binomial classification (we already knew it because of the boolean value we had)"
   ]
  },
  {
   "cell_type": "code",
   "execution_count": 81,
   "metadata": {},
   "outputs": [
    {
     "data": {
      "text/plain": [
       "array([-1.421135])"
      ]
     },
     "execution_count": 81,
     "metadata": {},
     "output_type": "execute_result"
    }
   ],
   "source": [
    "clf.intercept_ # Value of our constant variable in the model"
   ]
  },
  {
   "cell_type": "code",
   "execution_count": 82,
   "metadata": {},
   "outputs": [
    {
     "data": {
      "text/plain": [
       "array([[-0.05397614,  0.00593369, -0.20572494, -0.22737726,  0.08801726,\n",
       "        -0.0260501 ,  0.20626387,  0.13507559,  0.01828569,  0.03136142,\n",
       "        -0.09377783, -0.1890355 ,  0.0499923 , -0.01962684, -0.83256676]])"
      ]
     },
     "execution_count": 82,
     "metadata": {},
     "output_type": "execute_result"
    }
   ],
   "source": [
    "clf.coef_ # Coeficients of each feature"
   ]
  },
  {
   "cell_type": "code",
   "execution_count": 642,
   "metadata": {},
   "outputs": [
    {
     "name": "stdout",
     "output_type": "stream",
     "text": [
      "Feature: 0, Score: -0.34147\n",
      "Feature: 1, Score: -0.05347\n",
      "Feature: 2, Score: 0.00684\n",
      "Feature: 3, Score: -0.20579\n",
      "Feature: 4, Score: -0.23093\n",
      "Feature: 5, Score: 0.08826\n",
      "Feature: 6, Score: -0.01186\n",
      "Feature: 7, Score: 0.20641\n",
      "Feature: 8, Score: 0.13583\n",
      "Feature: 9, Score: 0.01791\n",
      "Feature: 10, Score: 0.03180\n",
      "Feature: 11, Score: 0.19703\n",
      "Feature: 12, Score: -0.29710\n",
      "Feature: 13, Score: 0.50818\n",
      "Feature: 14, Score: -0.12090\n",
      "Feature: 15, Score: -0.57402\n",
      "Feature: 16, Score: -0.16687\n",
      "Feature: 17, Score: -0.15631\n",
      "Feature: 18, Score: -0.98134\n"
     ]
    },
    {
     "data": {
      "image/png": "[encoded data removed]",
      "text/plain": [
       "<Figure size 432x288 with 1 Axes>"
      ]
     },
     "metadata": {
      "needs_background": "light"
     },
     "output_type": "display_data"
    }
   ],
   "source": [
    "importance = clf.coef_[0]\n",
    "\n",
    "# summarize feature importance\n",
    "for i,v in enumerate(importance):\n",
    "    print('Feature: %0d, Score: %.5f' % (i,v))\n",
    "    \n",
    "# plot feature importance\n",
    "pyplot.bar([x for x in range(len(importance))], importance)\n",
    "pyplot.show()"
   ]
  },
  {
   "cell_type": "markdown",
   "metadata": {},
   "source": [
    "Notice that the coefficients are both positive and negative. The positive scores indicate a feature that predicts class 1, whereas the negative scores indicate a feature that predicts class 0"
   ]
  },
  {
   "cell_type": "code",
   "execution_count": 83,
   "metadata": {},
   "outputs": [
    {
     "data": {
      "text/plain": [
       "array([[0.64535861, 0.35464139],\n",
       "       [0.89562724, 0.10437276],\n",
       "       [0.81592333, 0.18407667],\n",
       "       ...,\n",
       "       [0.74767672, 0.25232328],\n",
       "       [0.74151685, 0.25848315],\n",
       "       [0.90188655, 0.09811345]])"
      ]
     },
     "execution_count": 83,
     "metadata": {},
     "output_type": "execute_result"
    }
   ],
   "source": [
    "clf.predict_proba(X_test) # Predicted Probabilities for our test set"
   ]
  },
  {
   "cell_type": "markdown",
   "metadata": {},
   "source": [
    "Probability for our test set. The left value of each interval is the probability to obtain the prediction point of our y_pred (next line of code) and the right part of the interval is the probability of getting the other value. If we see the following line of code, we have a 64.535861% of probability of getting a 0 (won't get an outcome in 90 days) and 35.464139% of getting a 1 (we will get an outcome in 90 days)"
   ]
  },
  {
   "cell_type": "code",
   "execution_count": 84,
   "metadata": {},
   "outputs": [
    {
     "data": {
      "text/plain": [
       "array([0., 0., 0., ..., 0., 0., 0.])"
      ]
     },
     "execution_count": 84,
     "metadata": {},
     "output_type": "execute_result"
    }
   ],
   "source": [
    "y_pred  = clf.predict(X_test) # Predicted values\n",
    "y_pred"
   ]
  },
  {
   "cell_type": "markdown",
   "metadata": {},
   "source": [
    "#### CONFUSION MATRIX"
   ]
  },
  {
   "cell_type": "code",
   "execution_count": 85,
   "metadata": {},
   "outputs": [
    {
     "data": {
      "text/plain": [
       "array([[6218,   17],\n",
       "       [1260,    5]], dtype=int64)"
      ]
     },
     "execution_count": 85,
     "metadata": {},
     "output_type": "execute_result"
    }
   ],
   "source": [
    "confusion_matrix(y_test, y_pred)"
   ]
  },
  {
   "cell_type": "code",
   "execution_count": 86,
   "metadata": {},
   "outputs": [
    {
     "data": {
      "image/png": "[encoded data removed]",
      "text/plain": [
       "<Figure size 576x576 with 1 Axes>"
      ]
     },
     "metadata": {
      "needs_background": "light"
     },
     "output_type": "display_data"
    }
   ],
   "source": [
    "cm = confusion_matrix(y_test, y_pred)\n",
    "\n",
    "fig, ax = plt.subplots(figsize=(8, 8))\n",
    "ax.imshow(cm)\n",
    "ax.grid(False)\n",
    "ax.xaxis.set(ticks=(0, 1), ticklabels=('Predicted 0s', 'Predicted 1s'))\n",
    "ax.yaxis.set(ticks=(0, 1), ticklabels=('Actual 0s', 'Actual 1s'))\n",
    "ax.set_ylim(1.5, -0.5)\n",
    "for i in range(2):\n",
    "    for j in range(2):\n",
    "        ax.text(j, i, cm[i, j], ha='center', va='center', color='red')\n",
    "plt.show()"
   ]
  },
  {
   "cell_type": "markdown",
   "metadata": {},
   "source": [
    "Here is where I want to make a clear explanation from the results we got. This matrix shows how well is performing our model in terms of predicting our target variable and how wrongly is performing as well. \n",
    "\n",
    "**GOOD PERFORMANCE OF OUR MODEL**\n",
    "- On the left top corner we have the value called **True Negatives** and this means that our model is predicting that 6218 values are predicted like 0 and they really are 0. On the right bottom corner, we have the **True positives** meaning that 5 were predicted as 1 and they really are 1.\n",
    "\n",
    "**BAD PERFORMANCE OF OUR MODEL**\n",
    "- On the right top side of the matrix we have the **False Positives** meaning that 17 values were predicted as 1 but they really are 0. Finally, on the left bottom part, we have the **False Negatives** values, meaning that 1260 values were predicted as 0 and they really are 1. \n",
    "\n",
    "But these are the results for our calculation model withing within a threshold given to the model. We can see that there are many different thresholds for the same model, where you can modify the accuracy of our model and the results of our confusion matrix in our favor. And this can be done with the threshold value. So let's see the different results we can obtain for our model. \n",
    "\n",
    "***IMPORTANT***--> Sometimes the accuracy is not the most important metric of our model, sometimes we need to understand the whole meaning of our target variable in order to decide which solution is the best for us."
   ]
  },
  {
   "cell_type": "code",
   "execution_count": 87,
   "metadata": {},
   "outputs": [
    {
     "name": "stdout",
     "output_type": "stream",
     "text": [
      "              precision    recall  f1-score   support\n",
      "\n",
      "         0.0       0.83      1.00      0.91      6235\n",
      "         1.0       0.23      0.00      0.01      1265\n",
      "\n",
      "    accuracy                           0.83      7500\n",
      "   macro avg       0.53      0.50      0.46      7500\n",
      "weighted avg       0.73      0.83      0.76      7500\n",
      "\n"
     ]
    }
   ],
   "source": [
    "print(classification_report(y_test, y_pred))"
   ]
  },
  {
   "cell_type": "markdown",
   "metadata": {},
   "source": [
    "### AUC ROC Curve Metric"
   ]
  },
  {
   "cell_type": "code",
   "execution_count": 92,
   "metadata": {},
   "outputs": [
    {
     "data": {
      "image/png": "[encoded data removed]",
      "text/plain": [
       "<Figure size 432x288 with 1 Axes>"
      ]
     },
     "metadata": {
      "needs_background": "light"
     },
     "output_type": "display_data"
    }
   ],
   "source": [
    "import sklearn.metrics as metrics\n",
    "\n",
    "probs_y=clf.predict_proba(X_test)\n",
    "preds = probs_y[:,1]\n",
    "fpr, tpr, threshold = metrics.roc_curve(y_test, preds)\n",
    "roc_auc = metrics.auc(fpr, tpr)\n",
    "\n",
    "import matplotlib.pyplot as plt\n",
    "plt.title('Receiver Operating Characteristic')\n",
    "plt.plot(fpr, tpr, 'b', label = 'AUC = %0.2f' % roc_auc)\n",
    "plt.legend(loc = 'lower right')\n",
    "plt.plot([0, 1], [0, 1],'r--')\n",
    "plt.xlim([0, 1])\n",
    "plt.ylim([0, 1])\n",
    "plt.ylabel('True Positive Rate')\n",
    "plt.xlabel('False Positive Rate')\n",
    "plt.show()"
   ]
  },
  {
   "cell_type": "code",
   "execution_count": 90,
   "metadata": {},
   "outputs": [
    {
     "data": {
      "text/plain": [
       "(0.0, 1.0)"
      ]
     },
     "execution_count": 90,
     "metadata": {},
     "output_type": "execute_result"
    },
    {
     "data": {
      "image/png": "[encoded data removed]",
      "text/plain": [
       "<Figure size 432x288 with 1 Axes>"
      ]
     },
     "metadata": {
      "needs_background": "light"
     },
     "output_type": "display_data"
    }
   ],
   "source": [
    "pred_y=clf.predict(X_test) \n",
    "\n",
    "from sklearn.metrics import precision_recall_curve\n",
    "precision, recall, thresholds = precision_recall_curve(y_test, probs_y[:, 1]) \n",
    "   #retrieve probability of being 1(in second column of probs_y)\n",
    "pr_auc = metrics.auc(recall, precision)\n",
    "\n",
    "plt.title(\"Precision-Recall vs Threshold Chart\")\n",
    "plt.plot(thresholds, precision[: -1], \"b--\", label=\"Precision\")\n",
    "plt.plot(thresholds, recall[: -1], \"r--\", label=\"Recall\")\n",
    "plt.ylabel(\"Precision, Recall\")\n",
    "plt.xlabel(\"Threshold\")\n",
    "plt.legend(loc=\"lower left\")\n",
    "plt.ylim([0,1])"
   ]
  },
  {
   "cell_type": "code",
   "execution_count": 88,
   "metadata": {},
   "outputs": [
    {
     "name": "stdout",
     "output_type": "stream",
     "text": [
      "\n",
      "******** For i = 0.05 ******\n",
      "Our testing accuracy is 0.18946666666666667\n",
      "[[ 161 6074]\n",
      " [   5 1260]]\n",
      "\n",
      "******** For i = 0.1 ******\n",
      "Our testing accuracy is 0.35213333333333335\n",
      "[[1474 4761]\n",
      " [  98 1167]]\n",
      "\n",
      "******** For i = 0.15 ******\n",
      "Our testing accuracy is 0.5006666666666667\n",
      "[[2739 3496]\n",
      " [ 249 1016]]\n",
      "\n",
      "******** For i = 0.2 ******\n",
      "Our testing accuracy is 0.6593333333333333\n",
      "[[4225 2010]\n",
      " [ 545  720]]\n",
      "\n",
      "******** For i = 0.25 ******\n",
      "Our testing accuracy is 0.7785333333333333\n",
      "[[5583  652]\n",
      " [1009  256]]\n",
      "\n",
      "******** For i = 0.3 ******\n",
      "Our testing accuracy is 0.8156\n",
      "[[6045  190]\n",
      " [1193   72]]\n",
      "\n",
      "******** For i = 0.35 ******\n",
      "Our testing accuracy is 0.8270666666666666\n",
      "[[6178   57]\n",
      " [1240   25]]\n",
      "\n",
      "******** For i = 0.4 ******\n",
      "Our testing accuracy is 0.8292\n",
      "[[6206   29]\n",
      " [1252   13]]\n",
      "\n",
      "******** For i = 0.45 ******\n",
      "Our testing accuracy is 0.8296\n",
      "[[6214   21]\n",
      " [1257    8]]\n",
      "\n",
      "******** For i = 0.5 ******\n",
      "Our testing accuracy is 0.8297333333333333\n",
      "[[6218   17]\n",
      " [1260    5]]\n",
      "\n",
      "******** For i = 0.55 ******\n",
      "Our testing accuracy is 0.83\n",
      "[[6221   14]\n",
      " [1261    4]]\n",
      "\n",
      "******** For i = 0.6 ******\n",
      "Our testing accuracy is 0.8298666666666666\n",
      "[[6222   13]\n",
      " [1263    2]]\n",
      "\n",
      "******** For i = 0.65 ******\n",
      "Our testing accuracy is 0.8302666666666667\n",
      "[[6225   10]\n",
      " [1263    2]]\n",
      "\n",
      "******** For i = 0.7 ******\n",
      "Our testing accuracy is 0.8305333333333333\n",
      "[[6228    7]\n",
      " [1264    1]]\n",
      "\n",
      "******** For i = 0.75 ******\n",
      "Our testing accuracy is 0.8308\n",
      "[[6230    5]\n",
      " [1264    1]]\n",
      "\n",
      "******** For i = 0.8 ******\n",
      "Our testing accuracy is 0.8308\n",
      "[[6231    4]\n",
      " [1265    0]]\n",
      "\n",
      "******** For i = 0.85 ******\n",
      "Our testing accuracy is 0.8308\n",
      "[[6231    4]\n",
      " [1265    0]]\n",
      "\n",
      "******** For i = 0.9 ******\n",
      "Our testing accuracy is 0.8310666666666666\n",
      "[[6233    2]\n",
      " [1265    0]]\n",
      "\n",
      "******** For i = 0.95 ******\n",
      "Our testing accuracy is 0.8312\n",
      "[[6234    1]\n",
      " [1265    0]]\n",
      "\n",
      "******** For i = 0.99 ******\n",
      "Our testing accuracy is 0.8313333333333334\n",
      "[[6235    0]\n",
      " [1265    0]]\n"
     ]
    }
   ],
   "source": [
    "pred_proba_df = pd.DataFrame(clf.predict_proba(X_test))\n",
    "threshold_list = [0.05,0.1,0.15,0.2,0.25,0.3,0.35,0.4,0.45,0.5,0.55,0.6,0.65,.7,.75,.8,.85,.9,.95,.99]\n",
    "for i in threshold_list:\n",
    "    print ('\\n******** For i = {} ******'.format(i))\n",
    "    y_test_pred = pred_proba_df.applymap(lambda x: 1 if x>i else 0)\n",
    "    test_accuracy = metrics.accuracy_score(y_test.to_numpy().reshape(y_test.to_numpy().size,1),\n",
    "                                           y_test_pred.iloc[:,1].to_numpy().reshape(y_test_pred.iloc[:,1].to_numpy().size,1))\n",
    "    print('Our testing accuracy is {}'.format(test_accuracy))\n",
    "\n",
    "    print(confusion_matrix(y_test.to_numpy().reshape(y_test.to_numpy().size,1),\n",
    "                           y_test_pred.iloc[:,1].to_numpy().reshape(y_test_pred.iloc[:,1].to_numpy().size,1)))"
   ]
  },
  {
   "cell_type": "markdown",
   "metadata": {},
   "source": [
    "So for us, the most convenient model will be for the highest threshold and the highest accuracy, but this is because of our target variable. For us, will be a good prediction even if our False Negatives are high because that would mean that we can wrongly predict they are 0 when they are real 1 values. So if we prepare our monthly economic planning for our directors applying our model in production to our data, we can say that we are going to predict 6235 values that are 0 and they would be real 0 values, and we will miss 1265 of False Negatives predicted as 0 when they really are 1. So we wouldn't lose money in terms of Amount of Outcome in 90 days. Understanding the target variable is the most important for any model and in this case, the best accuracy is the best model but for different datasets, could be the best threshold with less accuracy."
   ]
  },
  {
   "cell_type": "markdown",
   "metadata": {},
   "source": [
    "# FINAL STUDY FOR OUR MISSING NOT AT RANDOM MODEL"
   ]
  },
  {
   "cell_type": "code",
   "execution_count": 94,
   "metadata": {},
   "outputs": [
    {
     "data": {
      "text/html": [
       "<div>\n",
       "<style scoped>\n",
       "    .dataframe tbody tr th:only-of-type {\n",
       "        vertical-align: middle;\n",
       "    }\n",
       "\n",
       "    .dataframe tbody tr th {\n",
       "        vertical-align: top;\n",
       "    }\n",
       "\n",
       "    .dataframe thead th {\n",
       "        text-align: right;\n",
       "    }\n",
       "</style>\n",
       "<table border=\"1\" class=\"dataframe\">\n",
       "  <thead>\n",
       "    <tr style=\"text-align: right;\">\n",
       "      <th></th>\n",
       "      <th>keydate</th>\n",
       "      <th>ct090</th>\n",
       "      <th>ap090</th>\n",
       "      <th>c0001</th>\n",
       "      <th>c0039</th>\n",
       "      <th>c0044</th>\n",
       "      <th>d0031</th>\n",
       "      <th>b0007</th>\n",
       "      <th>d0009</th>\n",
       "      <th>c0031</th>\n",
       "      <th>a8404</th>\n",
       "      <th>c0019</th>\n",
       "      <th>d0027</th>\n",
       "      <th>c9008</th>\n",
       "      <th>d2112</th>\n",
       "      <th>d0012</th>\n",
       "      <th>d1205</th>\n",
       "      <th>c0015</th>\n",
       "    </tr>\n",
       "    <tr>\n",
       "      <th>case_id</th>\n",
       "      <th></th>\n",
       "      <th></th>\n",
       "      <th></th>\n",
       "      <th></th>\n",
       "      <th></th>\n",
       "      <th></th>\n",
       "      <th></th>\n",
       "      <th></th>\n",
       "      <th></th>\n",
       "      <th></th>\n",
       "      <th></th>\n",
       "      <th></th>\n",
       "      <th></th>\n",
       "      <th></th>\n",
       "      <th></th>\n",
       "      <th></th>\n",
       "      <th></th>\n",
       "      <th></th>\n",
       "    </tr>\n",
       "  </thead>\n",
       "  <tbody>\n",
       "    <tr>\n",
       "      <th>3</th>\n",
       "      <td>2017-02-17 00:00:00.0</td>\n",
       "      <td>0.0</td>\n",
       "      <td>0.0</td>\n",
       "      <td>48.84</td>\n",
       "      <td>K6512</td>\n",
       "      <td>3</td>\n",
       "      <td>1.0</td>\n",
       "      <td>NaN</td>\n",
       "      <td>0.00</td>\n",
       "      <td>2.0</td>\n",
       "      <td>0.0</td>\n",
       "      <td>748.0</td>\n",
       "      <td>0.0</td>\n",
       "      <td>48.0</td>\n",
       "      <td>NaN</td>\n",
       "      <td>3</td>\n",
       "      <td>NaN</td>\n",
       "      <td>56.84</td>\n",
       "    </tr>\n",
       "    <tr>\n",
       "      <th>4</th>\n",
       "      <td>2017-09-18 00:00:00.0</td>\n",
       "      <td>0.0</td>\n",
       "      <td>0.0</td>\n",
       "      <td>413.15</td>\n",
       "      <td>K6622</td>\n",
       "      <td>4</td>\n",
       "      <td>NaN</td>\n",
       "      <td>NaN</td>\n",
       "      <td>54.14</td>\n",
       "      <td>3.0</td>\n",
       "      <td>1.0</td>\n",
       "      <td>8.0</td>\n",
       "      <td>0.0</td>\n",
       "      <td>27.0</td>\n",
       "      <td>NaN</td>\n",
       "      <td>4</td>\n",
       "      <td>NaN</td>\n",
       "      <td>463.15</td>\n",
       "    </tr>\n",
       "    <tr>\n",
       "      <th>6</th>\n",
       "      <td>2017-05-13 00:00:00.0</td>\n",
       "      <td>0.0</td>\n",
       "      <td>0.0</td>\n",
       "      <td>56.77</td>\n",
       "      <td>K6512</td>\n",
       "      <td>6</td>\n",
       "      <td>1.0</td>\n",
       "      <td>NaN</td>\n",
       "      <td>0.00</td>\n",
       "      <td>3.0</td>\n",
       "      <td>NaN</td>\n",
       "      <td>4.0</td>\n",
       "      <td>0.0</td>\n",
       "      <td>47.0</td>\n",
       "      <td>NaN</td>\n",
       "      <td>1</td>\n",
       "      <td>NaN</td>\n",
       "      <td>117.77</td>\n",
       "    </tr>\n",
       "  </tbody>\n",
       "</table>\n",
       "</div>"
      ],
      "text/plain": [
       "                       keydate  ct090  ap090   c0001  c0039 c0044  d0031  \\\n",
       "case_id                                                                    \n",
       "3        2017-02-17 00:00:00.0    0.0    0.0   48.84  K6512     3    1.0   \n",
       "4        2017-09-18 00:00:00.0    0.0    0.0  413.15  K6622     4    NaN   \n",
       "6        2017-05-13 00:00:00.0    0.0    0.0   56.77  K6512     6    1.0   \n",
       "\n",
       "         b0007  d0009  c0031  a8404  c0019  d0027  c9008  d2112 d0012  d1205  \\\n",
       "case_id                                                                        \n",
       "3          NaN   0.00    2.0    0.0  748.0    0.0   48.0    NaN     3    NaN   \n",
       "4          NaN  54.14    3.0    1.0    8.0    0.0   27.0    NaN     4    NaN   \n",
       "6          NaN   0.00    3.0    NaN    4.0    0.0   47.0    NaN     1    NaN   \n",
       "\n",
       "          c0015  \n",
       "case_id          \n",
       "3         56.84  \n",
       "4        463.15  \n",
       "6        117.77  "
      ]
     },
     "execution_count": 94,
     "metadata": {},
     "output_type": "execute_result"
    }
   ],
   "source": [
    "missing_data_pattern.head(3) # Dataset with a pattern on missing data"
   ]
  },
  {
   "cell_type": "code",
   "execution_count": 95,
   "metadata": {},
   "outputs": [
    {
     "data": {
      "text/html": [
       "<div>\n",
       "<style scoped>\n",
       "    .dataframe tbody tr th:only-of-type {\n",
       "        vertical-align: middle;\n",
       "    }\n",
       "\n",
       "    .dataframe tbody tr th {\n",
       "        vertical-align: top;\n",
       "    }\n",
       "\n",
       "    .dataframe thead th {\n",
       "        text-align: right;\n",
       "    }\n",
       "</style>\n",
       "<table border=\"1\" class=\"dataframe\">\n",
       "  <thead>\n",
       "    <tr style=\"text-align: right;\">\n",
       "      <th></th>\n",
       "      <th>keydate</th>\n",
       "      <th>ct090</th>\n",
       "      <th>ap090</th>\n",
       "      <th>c0001</th>\n",
       "      <th>c0039</th>\n",
       "      <th>c0044</th>\n",
       "      <th>d0031</th>\n",
       "      <th>b0007</th>\n",
       "      <th>d0009</th>\n",
       "      <th>c0031</th>\n",
       "      <th>a8404</th>\n",
       "      <th>c0019</th>\n",
       "      <th>d0027</th>\n",
       "      <th>c9008</th>\n",
       "      <th>d2112</th>\n",
       "      <th>d0012</th>\n",
       "      <th>d1205</th>\n",
       "      <th>c0015</th>\n",
       "    </tr>\n",
       "    <tr>\n",
       "      <th>case_id</th>\n",
       "      <th></th>\n",
       "      <th></th>\n",
       "      <th></th>\n",
       "      <th></th>\n",
       "      <th></th>\n",
       "      <th></th>\n",
       "      <th></th>\n",
       "      <th></th>\n",
       "      <th></th>\n",
       "      <th></th>\n",
       "      <th></th>\n",
       "      <th></th>\n",
       "      <th></th>\n",
       "      <th></th>\n",
       "      <th></th>\n",
       "      <th></th>\n",
       "      <th></th>\n",
       "      <th></th>\n",
       "    </tr>\n",
       "  </thead>\n",
       "  <tbody>\n",
       "    <tr>\n",
       "      <th>1</th>\n",
       "      <td>2017-08-12 00:00:00.0</td>\n",
       "      <td>0.0</td>\n",
       "      <td>0.0</td>\n",
       "      <td>221.68</td>\n",
       "      <td>K6622</td>\n",
       "      <td>1</td>\n",
       "      <td>2.0</td>\n",
       "      <td>0.00</td>\n",
       "      <td>238.38</td>\n",
       "      <td>2.0</td>\n",
       "      <td>NaN</td>\n",
       "      <td>98.0</td>\n",
       "      <td>0.0</td>\n",
       "      <td>49.0</td>\n",
       "      <td>0.0</td>\n",
       "      <td>1</td>\n",
       "      <td>NaN</td>\n",
       "      <td>222.69</td>\n",
       "    </tr>\n",
       "    <tr>\n",
       "      <th>2</th>\n",
       "      <td>2017-02-03 00:00:00.0</td>\n",
       "      <td>0.0</td>\n",
       "      <td>0.0</td>\n",
       "      <td>151.36</td>\n",
       "      <td>K6512</td>\n",
       "      <td>2</td>\n",
       "      <td>NaN</td>\n",
       "      <td>210.53</td>\n",
       "      <td>0.00</td>\n",
       "      <td>5.0</td>\n",
       "      <td>NaN</td>\n",
       "      <td>109.0</td>\n",
       "      <td>2.0</td>\n",
       "      <td>51.0</td>\n",
       "      <td>0.0</td>\n",
       "      <td>2</td>\n",
       "      <td>1.0</td>\n",
       "      <td>212.72</td>\n",
       "    </tr>\n",
       "    <tr>\n",
       "      <th>5</th>\n",
       "      <td>2017-07-22 00:00:00.0</td>\n",
       "      <td>0.0</td>\n",
       "      <td>0.0</td>\n",
       "      <td>125.83</td>\n",
       "      <td>K6512</td>\n",
       "      <td>5</td>\n",
       "      <td>2.0</td>\n",
       "      <td>20.00</td>\n",
       "      <td>83.00</td>\n",
       "      <td>6.0</td>\n",
       "      <td>NaN</td>\n",
       "      <td>324.0</td>\n",
       "      <td>0.0</td>\n",
       "      <td>40.0</td>\n",
       "      <td>0.0</td>\n",
       "      <td>1</td>\n",
       "      <td>NaN</td>\n",
       "      <td>146.09</td>\n",
       "    </tr>\n",
       "  </tbody>\n",
       "</table>\n",
       "</div>"
      ],
      "text/plain": [
       "                       keydate  ct090  ap090   c0001  c0039 c0044  d0031  \\\n",
       "case_id                                                                    \n",
       "1        2017-08-12 00:00:00.0    0.0    0.0  221.68  K6622     1    2.0   \n",
       "2        2017-02-03 00:00:00.0    0.0    0.0  151.36  K6512     2    NaN   \n",
       "5        2017-07-22 00:00:00.0    0.0    0.0  125.83  K6512     5    2.0   \n",
       "\n",
       "          b0007   d0009  c0031  a8404  c0019  d0027  c9008  d2112 d0012  \\\n",
       "case_id                                                                   \n",
       "1          0.00  238.38    2.0    NaN   98.0    0.0   49.0    0.0     1   \n",
       "2        210.53    0.00    5.0    NaN  109.0    2.0   51.0    0.0     2   \n",
       "5         20.00   83.00    6.0    NaN  324.0    0.0   40.0    0.0     1   \n",
       "\n",
       "         d1205   c0015  \n",
       "case_id                 \n",
       "1          NaN  222.69  \n",
       "2          1.0  212.72  \n",
       "5          NaN  146.09  "
      ]
     },
     "execution_count": 95,
     "metadata": {},
     "output_type": "execute_result"
    }
   ],
   "source": [
    "missing_data_no_pattern.head(3) # Dataset with no pattern on missing data"
   ]
  },
  {
   "cell_type": "markdown",
   "metadata": {},
   "source": [
    "We are going to perform the Logistic regression model to our Missing Data with the pattern because we want to check if we can find a model with better performance than the one we already studied. Let's see if the results are better or not. We need to take into account that we have reduced the amount of data when we have split the data into patterns. "
   ]
  },
  {
   "cell_type": "code",
   "execution_count": 96,
   "metadata": {},
   "outputs": [
    {
     "data": {
      "text/plain": [
       "keydate        0\n",
       "ct090          0\n",
       "ap090          0\n",
       "c0001         16\n",
       "c0039          0\n",
       "c0044          0\n",
       "d0031       6266\n",
       "b0007      16926\n",
       "d0009          0\n",
       "c0031          0\n",
       "a8404       5339\n",
       "c0019          0\n",
       "d0027          0\n",
       "c9008       1787\n",
       "d2112      16952\n",
       "d0012          0\n",
       "d1205      16942\n",
       "c0015          0\n",
       "dtype: int64"
      ]
     },
     "execution_count": 96,
     "metadata": {},
     "output_type": "execute_result"
    }
   ],
   "source": [
    "missing_data_pattern.isnull().sum()"
   ]
  },
  {
   "cell_type": "code",
   "execution_count": 97,
   "metadata": {},
   "outputs": [],
   "source": [
    "# Filling the null values for every feature as we did at the very begining\n",
    "# For the features full of nulls (b0007,d2112,d1205) we will drop the columns\n",
    "\n",
    "missing_data_pattern[\"c0001\"]=missing_data_pattern[\"c0001\"].fillna(missing_data_pattern[\"c0001\"].mean())\n",
    "missing_data_pattern[\"d0031\"]=missing_data_pattern[\"d0031\"].fillna(method='ffill', inplace=False)\n",
    "missing_data_pattern[\"a8404\"]=missing_data_pattern[\"a8404\"].fillna(method='backfill', inplace=False)\n",
    "missing_data_pattern[\"c9008\"]=missing_data_pattern[\"c9008\"].fillna(missing_data_pattern[\"c9008\"].mean())\n",
    "missing_data_pattern = missing_data_pattern.drop(labels=[\"b0007\",\"d2112\",\"d1205\"], axis=1)"
   ]
  },
  {
   "cell_type": "code",
   "execution_count": 98,
   "metadata": {},
   "outputs": [
    {
     "data": {
      "text/plain": [
       "keydate    0\n",
       "ct090      0\n",
       "ap090      0\n",
       "c0001      0\n",
       "c0039      0\n",
       "c0044      0\n",
       "d0031      0\n",
       "d0009      0\n",
       "c0031      0\n",
       "a8404      0\n",
       "c0019      0\n",
       "d0027      0\n",
       "c9008      0\n",
       "d0012      0\n",
       "c0015      0\n",
       "dtype: int64"
      ]
     },
     "execution_count": 98,
     "metadata": {},
     "output_type": "execute_result"
    }
   ],
   "source": [
    "missing_data_pattern.isnull().sum()"
   ]
  },
  {
   "cell_type": "code",
   "execution_count": 99,
   "metadata": {},
   "outputs": [],
   "source": [
    "cat_values = ['c0039']\n",
    "num_values = ['c0001', 'd0031', 'd0009', 'c0031','a8404', \n",
    "                    'c0019', 'd0027', 'c9008','c0015']\n",
    "target = ['ct090']"
   ]
  },
  {
   "cell_type": "code",
   "execution_count": 100,
   "metadata": {},
   "outputs": [],
   "source": [
    "missing_data_model = pd.concat([missing_data_pattern[target], missing_data_pattern[cat_values], missing_data_pattern[num_values]], axis=1)"
   ]
  },
  {
   "cell_type": "code",
   "execution_count": 101,
   "metadata": {},
   "outputs": [
    {
     "data": {
      "text/html": [
       "<div>\n",
       "<style scoped>\n",
       "    .dataframe tbody tr th:only-of-type {\n",
       "        vertical-align: middle;\n",
       "    }\n",
       "\n",
       "    .dataframe tbody tr th {\n",
       "        vertical-align: top;\n",
       "    }\n",
       "\n",
       "    .dataframe thead th {\n",
       "        text-align: right;\n",
       "    }\n",
       "</style>\n",
       "<table border=\"1\" class=\"dataframe\">\n",
       "  <thead>\n",
       "    <tr style=\"text-align: right;\">\n",
       "      <th></th>\n",
       "      <th>c0001</th>\n",
       "      <th>d0031</th>\n",
       "      <th>d0009</th>\n",
       "      <th>c0031</th>\n",
       "      <th>a8404</th>\n",
       "      <th>c0019</th>\n",
       "      <th>d0027</th>\n",
       "      <th>c9008</th>\n",
       "      <th>c0015</th>\n",
       "    </tr>\n",
       "    <tr>\n",
       "      <th>case_id</th>\n",
       "      <th></th>\n",
       "      <th></th>\n",
       "      <th></th>\n",
       "      <th></th>\n",
       "      <th></th>\n",
       "      <th></th>\n",
       "      <th></th>\n",
       "      <th></th>\n",
       "      <th></th>\n",
       "    </tr>\n",
       "  </thead>\n",
       "  <tbody>\n",
       "    <tr>\n",
       "      <th>3</th>\n",
       "      <td>-0.396026</td>\n",
       "      <td>-0.416052</td>\n",
       "      <td>-0.319635</td>\n",
       "      <td>-0.446805</td>\n",
       "      <td>-0.890669</td>\n",
       "      <td>3.289776</td>\n",
       "      <td>-0.274680</td>\n",
       "      <td>0.535075</td>\n",
       "      <td>-0.437633</td>\n",
       "    </tr>\n",
       "    <tr>\n",
       "      <th>4</th>\n",
       "      <td>-0.102727</td>\n",
       "      <td>-0.416052</td>\n",
       "      <td>-0.290460</td>\n",
       "      <td>0.078018</td>\n",
       "      <td>2.432077</td>\n",
       "      <td>-0.494174</td>\n",
       "      <td>-0.274680</td>\n",
       "      <td>-1.178307</td>\n",
       "      <td>-0.115985</td>\n",
       "    </tr>\n",
       "    <tr>\n",
       "      <th>6</th>\n",
       "      <td>-0.389641</td>\n",
       "      <td>-0.416052</td>\n",
       "      <td>-0.319635</td>\n",
       "      <td>0.078018</td>\n",
       "      <td>0.305519</td>\n",
       "      <td>-0.514627</td>\n",
       "      <td>-0.274680</td>\n",
       "      <td>0.453485</td>\n",
       "      <td>-0.389399</td>\n",
       "    </tr>\n",
       "    <tr>\n",
       "      <th>7</th>\n",
       "      <td>0.102166</td>\n",
       "      <td>-0.416052</td>\n",
       "      <td>-0.240371</td>\n",
       "      <td>0.602840</td>\n",
       "      <td>0.305519</td>\n",
       "      <td>-0.468606</td>\n",
       "      <td>-0.274680</td>\n",
       "      <td>-0.525590</td>\n",
       "      <td>0.085485</td>\n",
       "    </tr>\n",
       "    <tr>\n",
       "      <th>8</th>\n",
       "      <td>-0.373194</td>\n",
       "      <td>0.459978</td>\n",
       "      <td>-0.237423</td>\n",
       "      <td>-0.971628</td>\n",
       "      <td>0.305519</td>\n",
       "      <td>-0.207821</td>\n",
       "      <td>-0.274680</td>\n",
       "      <td>0.453485</td>\n",
       "      <td>-0.397276</td>\n",
       "    </tr>\n",
       "    <tr>\n",
       "      <th>...</th>\n",
       "      <td>...</td>\n",
       "      <td>...</td>\n",
       "      <td>...</td>\n",
       "      <td>...</td>\n",
       "      <td>...</td>\n",
       "      <td>...</td>\n",
       "      <td>...</td>\n",
       "      <td>...</td>\n",
       "      <td>...</td>\n",
       "    </tr>\n",
       "    <tr>\n",
       "      <th>29989</th>\n",
       "      <td>-0.257351</td>\n",
       "      <td>-1.292082</td>\n",
       "      <td>-0.319635</td>\n",
       "      <td>0.078018</td>\n",
       "      <td>0.205837</td>\n",
       "      <td>0.124553</td>\n",
       "      <td>-0.274680</td>\n",
       "      <td>1.514150</td>\n",
       "      <td>-0.291403</td>\n",
       "    </tr>\n",
       "    <tr>\n",
       "      <th>29990</th>\n",
       "      <td>-0.067851</td>\n",
       "      <td>-1.292082</td>\n",
       "      <td>-0.319635</td>\n",
       "      <td>1.127663</td>\n",
       "      <td>0.205837</td>\n",
       "      <td>-0.202707</td>\n",
       "      <td>-0.274680</td>\n",
       "      <td>-0.933538</td>\n",
       "      <td>-0.109399</td>\n",
       "    </tr>\n",
       "    <tr>\n",
       "      <th>29995</th>\n",
       "      <td>-0.193492</td>\n",
       "      <td>0.459978</td>\n",
       "      <td>-0.319635</td>\n",
       "      <td>0.078018</td>\n",
       "      <td>0.006472</td>\n",
       "      <td>-0.202707</td>\n",
       "      <td>-0.274680</td>\n",
       "      <td>0.000000</td>\n",
       "      <td>-0.232941</td>\n",
       "    </tr>\n",
       "    <tr>\n",
       "      <th>29997</th>\n",
       "      <td>-0.158342</td>\n",
       "      <td>0.459978</td>\n",
       "      <td>13.372626</td>\n",
       "      <td>-0.446805</td>\n",
       "      <td>0.006472</td>\n",
       "      <td>0.032511</td>\n",
       "      <td>1.909358</td>\n",
       "      <td>-0.117642</td>\n",
       "      <td>-0.187763</td>\n",
       "    </tr>\n",
       "    <tr>\n",
       "      <th>29998</th>\n",
       "      <td>-0.099442</td>\n",
       "      <td>-0.416052</td>\n",
       "      <td>-0.319635</td>\n",
       "      <td>0.078018</td>\n",
       "      <td>-0.591622</td>\n",
       "      <td>-0.008396</td>\n",
       "      <td>-0.274680</td>\n",
       "      <td>-0.036052</td>\n",
       "      <td>-0.073791</td>\n",
       "    </tr>\n",
       "  </tbody>\n",
       "</table>\n",
       "<p>16952 rows × 9 columns</p>\n",
       "</div>"
      ],
      "text/plain": [
       "            c0001     d0031      d0009     c0031     a8404     c0019  \\\n",
       "case_id                                                                \n",
       "3       -0.396026 -0.416052  -0.319635 -0.446805 -0.890669  3.289776   \n",
       "4       -0.102727 -0.416052  -0.290460  0.078018  2.432077 -0.494174   \n",
       "6       -0.389641 -0.416052  -0.319635  0.078018  0.305519 -0.514627   \n",
       "7        0.102166 -0.416052  -0.240371  0.602840  0.305519 -0.468606   \n",
       "8       -0.373194  0.459978  -0.237423 -0.971628  0.305519 -0.207821   \n",
       "...           ...       ...        ...       ...       ...       ...   \n",
       "29989   -0.257351 -1.292082  -0.319635  0.078018  0.205837  0.124553   \n",
       "29990   -0.067851 -1.292082  -0.319635  1.127663  0.205837 -0.202707   \n",
       "29995   -0.193492  0.459978  -0.319635  0.078018  0.006472 -0.202707   \n",
       "29997   -0.158342  0.459978  13.372626 -0.446805  0.006472  0.032511   \n",
       "29998   -0.099442 -0.416052  -0.319635  0.078018 -0.591622 -0.008396   \n",
       "\n",
       "            d0027     c9008     c0015  \n",
       "case_id                                \n",
       "3       -0.274680  0.535075 -0.437633  \n",
       "4       -0.274680 -1.178307 -0.115985  \n",
       "6       -0.274680  0.453485 -0.389399  \n",
       "7       -0.274680 -0.525590  0.085485  \n",
       "8       -0.274680  0.453485 -0.397276  \n",
       "...           ...       ...       ...  \n",
       "29989   -0.274680  1.514150 -0.291403  \n",
       "29990   -0.274680 -0.933538 -0.109399  \n",
       "29995   -0.274680  0.000000 -0.232941  \n",
       "29997    1.909358 -0.117642 -0.187763  \n",
       "29998   -0.274680 -0.036052 -0.073791  \n",
       "\n",
       "[16952 rows x 9 columns]"
      ]
     },
     "execution_count": 101,
     "metadata": {},
     "output_type": "execute_result"
    }
   ],
   "source": [
    "from sklearn.preprocessing import StandardScaler\n",
    "scaler = StandardScaler()\n",
    "\n",
    "missing_data_model[num_values] = scaler.fit_transform(missing_data_model[num_values])\n",
    "missing_data_model[num_values]"
   ]
  },
  {
   "cell_type": "code",
   "execution_count": 102,
   "metadata": {},
   "outputs": [
    {
     "data": {
      "text/html": [
       "<div>\n",
       "<style scoped>\n",
       "    .dataframe tbody tr th:only-of-type {\n",
       "        vertical-align: middle;\n",
       "    }\n",
       "\n",
       "    .dataframe tbody tr th {\n",
       "        vertical-align: top;\n",
       "    }\n",
       "\n",
       "    .dataframe thead th {\n",
       "        text-align: right;\n",
       "    }\n",
       "</style>\n",
       "<table border=\"1\" class=\"dataframe\">\n",
       "  <thead>\n",
       "    <tr style=\"text-align: right;\">\n",
       "      <th></th>\n",
       "      <th>ct090</th>\n",
       "      <th>c0001</th>\n",
       "      <th>d0031</th>\n",
       "      <th>d0009</th>\n",
       "      <th>c0031</th>\n",
       "      <th>a8404</th>\n",
       "      <th>c0019</th>\n",
       "      <th>d0027</th>\n",
       "      <th>c9008</th>\n",
       "      <th>c0015</th>\n",
       "      <th>c0039_K6420</th>\n",
       "      <th>c0039_K6491</th>\n",
       "      <th>c0039_K6499</th>\n",
       "      <th>c0039_K6511</th>\n",
       "      <th>c0039_K6512</th>\n",
       "      <th>c0039_K6619</th>\n",
       "      <th>c0039_K6622</th>\n",
       "    </tr>\n",
       "    <tr>\n",
       "      <th>case_id</th>\n",
       "      <th></th>\n",
       "      <th></th>\n",
       "      <th></th>\n",
       "      <th></th>\n",
       "      <th></th>\n",
       "      <th></th>\n",
       "      <th></th>\n",
       "      <th></th>\n",
       "      <th></th>\n",
       "      <th></th>\n",
       "      <th></th>\n",
       "      <th></th>\n",
       "      <th></th>\n",
       "      <th></th>\n",
       "      <th></th>\n",
       "      <th></th>\n",
       "      <th></th>\n",
       "    </tr>\n",
       "  </thead>\n",
       "  <tbody>\n",
       "    <tr>\n",
       "      <th>3</th>\n",
       "      <td>0.0</td>\n",
       "      <td>-0.396026</td>\n",
       "      <td>-0.416052</td>\n",
       "      <td>-0.319635</td>\n",
       "      <td>-0.446805</td>\n",
       "      <td>-0.890669</td>\n",
       "      <td>3.289776</td>\n",
       "      <td>-0.27468</td>\n",
       "      <td>0.535075</td>\n",
       "      <td>-0.437633</td>\n",
       "      <td>0</td>\n",
       "      <td>0</td>\n",
       "      <td>0</td>\n",
       "      <td>0</td>\n",
       "      <td>1</td>\n",
       "      <td>0</td>\n",
       "      <td>0</td>\n",
       "    </tr>\n",
       "    <tr>\n",
       "      <th>4</th>\n",
       "      <td>0.0</td>\n",
       "      <td>-0.102727</td>\n",
       "      <td>-0.416052</td>\n",
       "      <td>-0.290460</td>\n",
       "      <td>0.078018</td>\n",
       "      <td>2.432077</td>\n",
       "      <td>-0.494174</td>\n",
       "      <td>-0.27468</td>\n",
       "      <td>-1.178307</td>\n",
       "      <td>-0.115985</td>\n",
       "      <td>0</td>\n",
       "      <td>0</td>\n",
       "      <td>0</td>\n",
       "      <td>0</td>\n",
       "      <td>0</td>\n",
       "      <td>0</td>\n",
       "      <td>1</td>\n",
       "    </tr>\n",
       "    <tr>\n",
       "      <th>6</th>\n",
       "      <td>0.0</td>\n",
       "      <td>-0.389641</td>\n",
       "      <td>-0.416052</td>\n",
       "      <td>-0.319635</td>\n",
       "      <td>0.078018</td>\n",
       "      <td>0.305519</td>\n",
       "      <td>-0.514627</td>\n",
       "      <td>-0.27468</td>\n",
       "      <td>0.453485</td>\n",
       "      <td>-0.389399</td>\n",
       "      <td>0</td>\n",
       "      <td>0</td>\n",
       "      <td>0</td>\n",
       "      <td>0</td>\n",
       "      <td>1</td>\n",
       "      <td>0</td>\n",
       "      <td>0</td>\n",
       "    </tr>\n",
       "    <tr>\n",
       "      <th>7</th>\n",
       "      <td>0.0</td>\n",
       "      <td>0.102166</td>\n",
       "      <td>-0.416052</td>\n",
       "      <td>-0.240371</td>\n",
       "      <td>0.602840</td>\n",
       "      <td>0.305519</td>\n",
       "      <td>-0.468606</td>\n",
       "      <td>-0.27468</td>\n",
       "      <td>-0.525590</td>\n",
       "      <td>0.085485</td>\n",
       "      <td>0</td>\n",
       "      <td>0</td>\n",
       "      <td>0</td>\n",
       "      <td>0</td>\n",
       "      <td>0</td>\n",
       "      <td>0</td>\n",
       "      <td>1</td>\n",
       "    </tr>\n",
       "    <tr>\n",
       "      <th>8</th>\n",
       "      <td>0.0</td>\n",
       "      <td>-0.373194</td>\n",
       "      <td>0.459978</td>\n",
       "      <td>-0.237423</td>\n",
       "      <td>-0.971628</td>\n",
       "      <td>0.305519</td>\n",
       "      <td>-0.207821</td>\n",
       "      <td>-0.27468</td>\n",
       "      <td>0.453485</td>\n",
       "      <td>-0.397276</td>\n",
       "      <td>0</td>\n",
       "      <td>0</td>\n",
       "      <td>0</td>\n",
       "      <td>0</td>\n",
       "      <td>0</td>\n",
       "      <td>0</td>\n",
       "      <td>1</td>\n",
       "    </tr>\n",
       "  </tbody>\n",
       "</table>\n",
       "</div>"
      ],
      "text/plain": [
       "         ct090     c0001     d0031     d0009     c0031     a8404     c0019  \\\n",
       "case_id                                                                      \n",
       "3          0.0 -0.396026 -0.416052 -0.319635 -0.446805 -0.890669  3.289776   \n",
       "4          0.0 -0.102727 -0.416052 -0.290460  0.078018  2.432077 -0.494174   \n",
       "6          0.0 -0.389641 -0.416052 -0.319635  0.078018  0.305519 -0.514627   \n",
       "7          0.0  0.102166 -0.416052 -0.240371  0.602840  0.305519 -0.468606   \n",
       "8          0.0 -0.373194  0.459978 -0.237423 -0.971628  0.305519 -0.207821   \n",
       "\n",
       "           d0027     c9008     c0015  c0039_K6420  c0039_K6491  c0039_K6499  \\\n",
       "case_id                                                                       \n",
       "3       -0.27468  0.535075 -0.437633            0            0            0   \n",
       "4       -0.27468 -1.178307 -0.115985            0            0            0   \n",
       "6       -0.27468  0.453485 -0.389399            0            0            0   \n",
       "7       -0.27468 -0.525590  0.085485            0            0            0   \n",
       "8       -0.27468  0.453485 -0.397276            0            0            0   \n",
       "\n",
       "         c0039_K6511  c0039_K6512  c0039_K6619  c0039_K6622  \n",
       "case_id                                                      \n",
       "3                  0            1            0            0  \n",
       "4                  0            0            0            1  \n",
       "6                  0            1            0            0  \n",
       "7                  0            0            0            1  \n",
       "8                  0            0            0            1  "
      ]
     },
     "execution_count": 102,
     "metadata": {},
     "output_type": "execute_result"
    }
   ],
   "source": [
    "missing_data_model = pd.get_dummies(missing_data_model, columns = cat_values, drop_first=True)\n",
    "missing_data_model.head()"
   ]
  },
  {
   "cell_type": "code",
   "execution_count": 103,
   "metadata": {},
   "outputs": [
    {
     "data": {
      "text/plain": [
       "<AxesSubplot:>"
      ]
     },
     "execution_count": 103,
     "metadata": {},
     "output_type": "execute_result"
    },
    {
     "data": {
      "image/png": "[encoded data removed]",
      "text/plain": [
       "<Figure size 432x288 with 2 Axes>"
      ]
     },
     "metadata": {
      "needs_background": "light"
     },
     "output_type": "display_data"
    }
   ],
   "source": [
    "sns.heatmap(missing_data_model.corr())"
   ]
  },
  {
   "cell_type": "code",
   "execution_count": 104,
   "metadata": {},
   "outputs": [],
   "source": [
    "# We still see some correlation between some variables, so we will drop them.\n",
    "\n",
    "missing_data_model = missing_data_model.drop(labels=['c0001', 'c0039_K6491', 'c0039_K6511', 'c0039_K6512'], axis=1)"
   ]
  },
  {
   "cell_type": "code",
   "execution_count": 105,
   "metadata": {},
   "outputs": [],
   "source": [
    "X = missing_data_model.drop(\"ct090\", axis = 1)\n",
    "variables = X.columns\n",
    "X = X.values\n",
    "\n",
    "y = missing_data_model[\"ct090\"]\n",
    "\n",
    "X_train, X_test, y_train, y_test = train_test_split(\n",
    "    X, y, random_state=0, test_size=0.25, stratify=y)"
   ]
  },
  {
   "cell_type": "code",
   "execution_count": 106,
   "metadata": {},
   "outputs": [],
   "source": [
    "from sklearn.linear_model import LogisticRegression\n",
    "from sklearn.metrics import classification_report, confusion_matrix\n",
    "\n",
    "clf = LogisticRegression(solver='liblinear', random_state=0).fit(X_train, y_train)"
   ]
  },
  {
   "cell_type": "code",
   "execution_count": 107,
   "metadata": {},
   "outputs": [
    {
     "data": {
      "text/plain": [
       "0.8868176812962089"
      ]
     },
     "execution_count": 107,
     "metadata": {},
     "output_type": "execute_result"
    }
   ],
   "source": [
    "clf.score(X_train, y_train) # Score of our model"
   ]
  },
  {
   "cell_type": "markdown",
   "metadata": {},
   "source": [
    "THE MODEL SCORE IS MUCH MORE BETTER THAN THE ONE WE HAD FOR THE WHOLE MODEL"
   ]
  },
  {
   "cell_type": "code",
   "execution_count": 108,
   "metadata": {},
   "outputs": [
    {
     "data": {
      "text/plain": [
       "array([-1.86234737])"
      ]
     },
     "execution_count": 108,
     "metadata": {},
     "output_type": "execute_result"
    }
   ],
   "source": [
    "clf.intercept_ # Value of our constant variable in the model"
   ]
  },
  {
   "cell_type": "code",
   "execution_count": 109,
   "metadata": {},
   "outputs": [
    {
     "data": {
      "text/plain": [
       "array([[-0.13570412, -0.11317331, -0.16654325,  0.12530311, -0.04710681,\n",
       "         0.04597607,  0.06599487, -0.12214652, -0.55370664,  0.38578691,\n",
       "        -0.07180898, -0.88669281]])"
      ]
     },
     "execution_count": 109,
     "metadata": {},
     "output_type": "execute_result"
    }
   ],
   "source": [
    "clf.coef_ # Coeficients of each feature"
   ]
  },
  {
   "cell_type": "code",
   "execution_count": 110,
   "metadata": {},
   "outputs": [
    {
     "name": "stdout",
     "output_type": "stream",
     "text": [
      "Feature: 0, Score: -0.13570\n",
      "Feature: 1, Score: -0.11317\n",
      "Feature: 2, Score: -0.16654\n",
      "Feature: 3, Score: 0.12530\n",
      "Feature: 4, Score: -0.04711\n",
      "Feature: 5, Score: 0.04598\n",
      "Feature: 6, Score: 0.06599\n",
      "Feature: 7, Score: -0.12215\n",
      "Feature: 8, Score: -0.55371\n",
      "Feature: 9, Score: 0.38579\n",
      "Feature: 10, Score: -0.07181\n",
      "Feature: 11, Score: -0.88669\n"
     ]
    },
    {
     "data": {
      "image/png": "[encoded data removed]",
      "text/plain": [
       "<Figure size 432x288 with 1 Axes>"
      ]
     },
     "metadata": {
      "needs_background": "light"
     },
     "output_type": "display_data"
    }
   ],
   "source": [
    "importance = clf.coef_[0]\n",
    "\n",
    "# summarize feature importance\n",
    "for i,v in enumerate(importance):\n",
    "    print('Feature: %0d, Score: %.5f' % (i,v))\n",
    "    \n",
    "# plot feature importance\n",
    "pyplot.bar([x for x in range(len(importance))], importance)\n",
    "pyplot.show()"
   ]
  },
  {
   "cell_type": "markdown",
   "metadata": {},
   "source": [
    "Notice that the coefficients are both positive and negative. The positive scores indicate a feature that predicts class 1, whereas the negative scores indicate a feature that predicts class 0"
   ]
  },
  {
   "cell_type": "code",
   "execution_count": 111,
   "metadata": {},
   "outputs": [
    {
     "data": {
      "text/plain": [
       "array([[0.84882329, 0.15117671],\n",
       "       [0.9279679 , 0.0720321 ],\n",
       "       [0.94275091, 0.05724909],\n",
       "       ...,\n",
       "       [0.89002167, 0.10997833],\n",
       "       [0.87557326, 0.12442674],\n",
       "       [0.8422497 , 0.1577503 ]])"
      ]
     },
     "execution_count": 111,
     "metadata": {},
     "output_type": "execute_result"
    }
   ],
   "source": [
    "clf.predict_proba(X_test)"
   ]
  },
  {
   "cell_type": "markdown",
   "metadata": {},
   "source": [
    "Probability for our test set. The left value of each interval is the probability to obtain the prediction point of our y_pred (next line of code) and the right part of the interval is the probability of getting the other value. If we see the following line of code, we have a 64.535861% of probability of getting a 0 (won't get an outcome in 90 days) and 35.464139% of getting a 1 (we will get an outcome in 90 days)"
   ]
  },
  {
   "cell_type": "code",
   "execution_count": 112,
   "metadata": {},
   "outputs": [
    {
     "data": {
      "text/plain": [
       "array([0., 0., 0., ..., 0., 0., 0.])"
      ]
     },
     "execution_count": 112,
     "metadata": {},
     "output_type": "execute_result"
    }
   ],
   "source": [
    "y_pred  = clf.predict(X_test) # Predicted values\n",
    "y_pred"
   ]
  },
  {
   "cell_type": "markdown",
   "metadata": {},
   "source": [
    "#### CONFUSION MATRIX"
   ]
  },
  {
   "cell_type": "code",
   "execution_count": 113,
   "metadata": {},
   "outputs": [
    {
     "data": {
      "text/plain": [
       "array([[3759,    0],\n",
       "       [ 479,    0]], dtype=int64)"
      ]
     },
     "execution_count": 113,
     "metadata": {},
     "output_type": "execute_result"
    }
   ],
   "source": [
    "confusion_matrix(y_test, y_pred)"
   ]
  },
  {
   "cell_type": "code",
   "execution_count": 114,
   "metadata": {},
   "outputs": [
    {
     "data": {
      "image/png": "[encoded data removed]",
      "text/plain": [
       "<Figure size 576x576 with 1 Axes>"
      ]
     },
     "metadata": {
      "needs_background": "light"
     },
     "output_type": "display_data"
    }
   ],
   "source": [
    "cm = confusion_matrix(y_test, y_pred)\n",
    "\n",
    "fig, ax = plt.subplots(figsize=(8, 8))\n",
    "ax.imshow(cm)\n",
    "ax.grid(False)\n",
    "ax.xaxis.set(ticks=(0, 1), ticklabels=('Predicted 0s', 'Predicted 1s'))\n",
    "ax.yaxis.set(ticks=(0, 1), ticklabels=('Actual 0s', 'Actual 1s'))\n",
    "ax.set_ylim(1.5, -0.5)\n",
    "for i in range(2):\n",
    "    for j in range(2):\n",
    "        ax.text(j, i, cm[i, j], ha='center', va='center', color='red')\n",
    "plt.show()"
   ]
  },
  {
   "cell_type": "code",
   "execution_count": 115,
   "metadata": {},
   "outputs": [
    {
     "name": "stdout",
     "output_type": "stream",
     "text": [
      "              precision    recall  f1-score   support\n",
      "\n",
      "         0.0       0.89      1.00      0.94      3759\n",
      "         1.0       0.00      0.00      0.00       479\n",
      "\n",
      "    accuracy                           0.89      4238\n",
      "   macro avg       0.44      0.50      0.47      4238\n",
      "weighted avg       0.79      0.89      0.83      4238\n",
      "\n"
     ]
    }
   ],
   "source": [
    "print(classification_report(y_test, y_pred))"
   ]
  },
  {
   "cell_type": "markdown",
   "metadata": {},
   "source": [
    "### AUC ROC Curve Metric"
   ]
  },
  {
   "cell_type": "code",
   "execution_count": 116,
   "metadata": {},
   "outputs": [
    {
     "data": {
      "image/png": "[encoded data removed]",
      "text/plain": [
       "<Figure size 432x288 with 1 Axes>"
      ]
     },
     "metadata": {
      "needs_background": "light"
     },
     "output_type": "display_data"
    }
   ],
   "source": [
    "import sklearn.metrics as metrics\n",
    "\n",
    "probs_y=clf.predict_proba(X_test)\n",
    "preds = probs_y[:,1]\n",
    "fpr, tpr, threshold = metrics.roc_curve(y_test, preds)\n",
    "roc_auc = metrics.auc(fpr, tpr)\n",
    "\n",
    "import matplotlib.pyplot as plt\n",
    "plt.title('Receiver Operating Characteristic')\n",
    "plt.plot(fpr, tpr, 'b', label = 'AUC = %0.2f' % roc_auc)\n",
    "plt.legend(loc = 'lower right')\n",
    "plt.plot([0, 1], [0, 1],'r--')\n",
    "plt.xlim([0, 1])\n",
    "plt.ylim([0, 1])\n",
    "plt.ylabel('True Positive Rate')\n",
    "plt.xlabel('False Positive Rate')\n",
    "plt.show()"
   ]
  },
  {
   "cell_type": "code",
   "execution_count": 117,
   "metadata": {},
   "outputs": [
    {
     "data": {
      "text/plain": [
       "(0.0, 1.0)"
      ]
     },
     "execution_count": 117,
     "metadata": {},
     "output_type": "execute_result"
    },
    {
     "data": {
      "image/png": "[encoded data removed]",
      "text/plain": [
       "<Figure size 432x288 with 1 Axes>"
      ]
     },
     "metadata": {
      "needs_background": "light"
     },
     "output_type": "display_data"
    }
   ],
   "source": [
    "pred_y=clf.predict(X_test) \n",
    "\n",
    "from sklearn.metrics import precision_recall_curve\n",
    "precision, recall, thresholds = precision_recall_curve(y_test, probs_y[:, 1]) \n",
    "   #retrieve probability of being 1(in second column of probs_y)\n",
    "pr_auc = metrics.auc(recall, precision)\n",
    "\n",
    "plt.title(\"Precision-Recall vs Threshold Chart\")\n",
    "plt.plot(thresholds, precision[: -1], \"b--\", label=\"Precision\")\n",
    "plt.plot(thresholds, recall[: -1], \"r--\", label=\"Recall\")\n",
    "plt.ylabel(\"Precision, Recall\")\n",
    "plt.xlabel(\"Threshold\")\n",
    "plt.legend(loc=\"lower left\")\n",
    "plt.ylim([0,1])"
   ]
  },
  {
   "cell_type": "code",
   "execution_count": 118,
   "metadata": {},
   "outputs": [
    {
     "name": "stdout",
     "output_type": "stream",
     "text": [
      "\n",
      "******** For i = 0.05 ******\n",
      "Our testing accuracy is 0.1828692779613025\n",
      "[[ 315 3444]\n",
      " [  19  460]]\n",
      "\n",
      "******** For i = 0.1 ******\n",
      "Our testing accuracy is 0.4709768758848513\n",
      "[[1646 2113]\n",
      " [ 129  350]]\n",
      "\n",
      "******** For i = 0.15 ******\n",
      "Our testing accuracy is 0.719443133553563\n",
      "[[2871  888]\n",
      " [ 301  178]]\n",
      "\n",
      "******** For i = 0.2 ******\n",
      "Our testing accuracy is 0.8680981595092024\n",
      "[[3656  103]\n",
      " [ 456   23]]\n",
      "\n",
      "******** For i = 0.25 ******\n",
      "Our testing accuracy is 0.8860311467673431\n",
      "[[3755    4]\n",
      " [ 479    0]]\n",
      "\n",
      "******** For i = 0.3 ******\n",
      "Our testing accuracy is 0.8869749882019821\n",
      "[[3759    0]\n",
      " [ 479    0]]\n",
      "\n",
      "******** For i = 0.35 ******\n",
      "Our testing accuracy is 0.8869749882019821\n",
      "[[3759    0]\n",
      " [ 479    0]]\n",
      "\n",
      "******** For i = 0.4 ******\n",
      "Our testing accuracy is 0.8869749882019821\n",
      "[[3759    0]\n",
      " [ 479    0]]\n",
      "\n",
      "******** For i = 0.45 ******\n",
      "Our testing accuracy is 0.8869749882019821\n",
      "[[3759    0]\n",
      " [ 479    0]]\n",
      "\n",
      "******** For i = 0.5 ******\n",
      "Our testing accuracy is 0.8869749882019821\n",
      "[[3759    0]\n",
      " [ 479    0]]\n",
      "\n",
      "******** For i = 0.55 ******\n",
      "Our testing accuracy is 0.8869749882019821\n",
      "[[3759    0]\n",
      " [ 479    0]]\n",
      "\n",
      "******** For i = 0.6 ******\n",
      "Our testing accuracy is 0.8869749882019821\n",
      "[[3759    0]\n",
      " [ 479    0]]\n",
      "\n",
      "******** For i = 0.65 ******\n",
      "Our testing accuracy is 0.8869749882019821\n",
      "[[3759    0]\n",
      " [ 479    0]]\n",
      "\n",
      "******** For i = 0.7 ******\n",
      "Our testing accuracy is 0.8869749882019821\n",
      "[[3759    0]\n",
      " [ 479    0]]\n",
      "\n",
      "******** For i = 0.75 ******\n",
      "Our testing accuracy is 0.8869749882019821\n",
      "[[3759    0]\n",
      " [ 479    0]]\n",
      "\n",
      "******** For i = 0.8 ******\n",
      "Our testing accuracy is 0.8869749882019821\n",
      "[[3759    0]\n",
      " [ 479    0]]\n",
      "\n",
      "******** For i = 0.85 ******\n",
      "Our testing accuracy is 0.8869749882019821\n",
      "[[3759    0]\n",
      " [ 479    0]]\n",
      "\n",
      "******** For i = 0.9 ******\n",
      "Our testing accuracy is 0.8869749882019821\n",
      "[[3759    0]\n",
      " [ 479    0]]\n",
      "\n",
      "******** For i = 0.95 ******\n",
      "Our testing accuracy is 0.8869749882019821\n",
      "[[3759    0]\n",
      " [ 479    0]]\n",
      "\n",
      "******** For i = 0.99 ******\n",
      "Our testing accuracy is 0.8869749882019821\n",
      "[[3759    0]\n",
      " [ 479    0]]\n"
     ]
    }
   ],
   "source": [
    "pred_proba_df = pd.DataFrame(clf.predict_proba(X_test))\n",
    "threshold_list = [0.05,0.1,0.15,0.2,0.25,0.3,0.35,0.4,0.45,0.5,0.55,0.6,0.65,.7,.75,.8,.85,.9,.95,.99]\n",
    "for i in threshold_list:\n",
    "    print ('\\n******** For i = {} ******'.format(i))\n",
    "    y_test_pred = pred_proba_df.applymap(lambda x: 1 if x>i else 0)\n",
    "    test_accuracy = metrics.accuracy_score(y_test.to_numpy().reshape(y_test.to_numpy().size,1),\n",
    "                                           y_test_pred.iloc[:,1].to_numpy().reshape(y_test_pred.iloc[:,1].to_numpy().size,1))\n",
    "    print('Our testing accuracy is {}'.format(test_accuracy))\n",
    "\n",
    "    print(confusion_matrix(y_test.to_numpy().reshape(y_test.to_numpy().size,1),\n",
    "                           y_test_pred.iloc[:,1].to_numpy().reshape(y_test_pred.iloc[:,1].to_numpy().size,1)))"
   ]
  },
  {
   "cell_type": "markdown",
   "metadata": {},
   "source": [
    "### As a final conclusion for the whole study, performing 2 different types of models (linear and logistic regressions) and taking into consideration possible patterns on our missing data, we can say that the better prediction for our model is calculated for the first Logistic Regression model with less score than the one calculated for the pattern over the missing values. \n",
    "\n",
    "### Why? Because score/precision/accuracy is not always the best metric to understand the results. The AUC Curve says that the area score for the missing values pattern is 0.61 and the threshold is too low. Could be this because of the shortness of our dataset and this must be tested with more data. For the model without the missing pattern, we had an AUC curve score of 0.67 which is much better to understand our results. So if I would decide which model is better, I will say the first Logistic Regression model we have studied. "
   ]
  }
 ],
 "metadata": {
  "interpreter": {
   "hash": "427b0ef1d9372cfdeb3622d55de6c8825be533a4c975c8a18d6f651965b7fdbe"
  },
  "kernelspec": {
   "display_name": "Python 3",
   "language": "python",
   "name": "python3"
  },
  "language_info": {
   "codemirror_mode": {
    "name": "ipython",
    "version": 3
   },
   "file_extension": ".py",
   "mimetype": "text/x-python",
   "name": "python",
   "nbconvert_exporter": "python",
   "pygments_lexer": "ipython3",
   "version": "3.8.8"
  }
 },
 "nbformat": 4,
 "nbformat_minor": 2
}
